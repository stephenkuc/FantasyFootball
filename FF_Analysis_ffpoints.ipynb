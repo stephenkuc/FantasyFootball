{
 "cells": [
  {
   "cell_type": "code",
   "execution_count": 224,
   "id": "e44247a0",
   "metadata": {},
   "outputs": [],
   "source": [
    "import pandas as pd\n",
    "import numpy as np\n",
    "import matplotlib.pyplot as plt\n",
    "import seaborn as sns\n",
    "\n",
    "\n",
    "from bs4 import BeautifulSoup\n",
    "from urllib import request"
   ]
  },
  {
   "cell_type": "markdown",
   "id": "c5d5dd08",
   "metadata": {},
   "source": [
    "\n",
    "\n",
    "website = request.urlopen(\"https://www.pro-football-reference.com/years/2021/fantasy.htm\").read()\n",
    "soup = BeautifulSoup(website, 'lxml')\n",
    "\n",
    "table = soup.find('table', attrs={'id': 'fantasy','class': 'per_match_toggle'})\n",
    "\n",
    "table_headers = [header.text for header in table.find('thead').find_all('th')]\n",
    "table_rows = table.find_all('tr')\n",
    "\n",
    "player_data = [[td.getText() for tr in table_rows[i].findAll(['td','th'])] for i in table_rows]\n",
    "\n",
    "print(table_headers)\n",
    "df = pd.DataFrame(player_data,table_headers)\n",
    "\n",
    "df.head()"
   ]
  },
  {
   "cell_type": "markdown",
   "id": "01a45a1b",
   "metadata": {},
   "source": [
    "df = pd.DataFrame(df, columns = table_headers)"
   ]
  },
  {
   "cell_type": "code",
   "execution_count": 225,
   "id": "841ca659",
   "metadata": {},
   "outputs": [],
   "source": [
    "# fantasy football datasets; results from each season\n",
    "\n",
    "ff21 = pd.read_csv('https://raw.githubusercontent.com/fantasydatapros/data/master/yearly/2021.csv', index_col = 0)\n",
    "\n",
    "ff20 = pd.read_csv('https://raw.githubusercontent.com/fantasydatapros/data/master/yearly/2020.csv')\n",
    "\n",
    "ff19 = pd.read_csv('https://raw.githubusercontent.com/fantasydatapros/data/master/yearly/2019.csv', index_col = 0)\n",
    "\n",
    "\n",
    "# team stats and rankings from each game per season\n",
    "\n",
    "team19 = pd.read_csv(\"C:/Users/steph/OneDrive/Documents/Data Projects/2019_NFL_COMBINE.csv\", index_col = 0)\n",
    "team20 = pd.read_csv(\"C:/Users/steph/OneDrive/Documents/Data Projects/2020_NFL_COMBINE.csv\", index_col = 0)\n",
    "team21 = pd.read_csv(\"C:/Users/steph/OneDrive/Documents/Data Projects/2021_NFL_COMBINE.csv\", index_col = 0)\n",
    "team22 = pd.read_csv(\"C:/Users/steph/OneDrive/Documents/Data Projects/2022_NFL_COMBINE.csv\", index_col = 0)\n",
    "\n",
    "# Incoming rookie data\n",
    "\n",
    "\n",
    "\n",
    "# PFF Data (OL rankings, etc)\n",
    "\n",
    "\n",
    "# Injury Data?\n",
    "# contract data? years in the league? \n"
   ]
  },
  {
   "cell_type": "code",
   "execution_count": 226,
   "id": "e2a2132f",
   "metadata": {},
   "outputs": [
    {
     "data": {
      "text/html": [
       "<div>\n",
       "<style scoped>\n",
       "    .dataframe tbody tr th:only-of-type {\n",
       "        vertical-align: middle;\n",
       "    }\n",
       "\n",
       "    .dataframe tbody tr th {\n",
       "        vertical-align: top;\n",
       "    }\n",
       "\n",
       "    .dataframe thead th {\n",
       "        text-align: right;\n",
       "    }\n",
       "</style>\n",
       "<table border=\"1\" class=\"dataframe\">\n",
       "  <thead>\n",
       "    <tr style=\"text-align: right;\">\n",
       "      <th></th>\n",
       "      <th>Player</th>\n",
       "      <th>Tm</th>\n",
       "      <th>Pos</th>\n",
       "      <th>Age</th>\n",
       "      <th>G</th>\n",
       "      <th>GS</th>\n",
       "      <th>Tgt</th>\n",
       "      <th>Rec</th>\n",
       "      <th>PassingYds</th>\n",
       "      <th>PassingTD</th>\n",
       "      <th>PassingAtt</th>\n",
       "      <th>RushingYds</th>\n",
       "      <th>RushingTD</th>\n",
       "      <th>RushingAtt</th>\n",
       "      <th>ReceivingYds</th>\n",
       "      <th>ReceivingTD</th>\n",
       "      <th>FantasyPoints</th>\n",
       "      <th>Int</th>\n",
       "      <th>Fumbles</th>\n",
       "      <th>FumblesLost</th>\n",
       "    </tr>\n",
       "  </thead>\n",
       "  <tbody>\n",
       "    <tr>\n",
       "      <th>0</th>\n",
       "      <td>Jonathan Taylor*+</td>\n",
       "      <td>IND</td>\n",
       "      <td>RB</td>\n",
       "      <td>22</td>\n",
       "      <td>17</td>\n",
       "      <td>17</td>\n",
       "      <td>51.0</td>\n",
       "      <td>40.0</td>\n",
       "      <td>0.0</td>\n",
       "      <td>0.0</td>\n",
       "      <td>0.0</td>\n",
       "      <td>1811.0</td>\n",
       "      <td>18.0</td>\n",
       "      <td>332.0</td>\n",
       "      <td>360.0</td>\n",
       "      <td>2.0</td>\n",
       "      <td>333.0</td>\n",
       "      <td>0.0</td>\n",
       "      <td>4.0</td>\n",
       "      <td>2.0</td>\n",
       "    </tr>\n",
       "    <tr>\n",
       "      <th>1</th>\n",
       "      <td>Cooper Kupp*+</td>\n",
       "      <td>LAR</td>\n",
       "      <td>WR</td>\n",
       "      <td>28</td>\n",
       "      <td>17</td>\n",
       "      <td>17</td>\n",
       "      <td>191.0</td>\n",
       "      <td>145.0</td>\n",
       "      <td>0.0</td>\n",
       "      <td>0.0</td>\n",
       "      <td>1.0</td>\n",
       "      <td>18.0</td>\n",
       "      <td>0.0</td>\n",
       "      <td>4.0</td>\n",
       "      <td>1947.0</td>\n",
       "      <td>16.0</td>\n",
       "      <td>295.0</td>\n",
       "      <td>0.0</td>\n",
       "      <td>0.0</td>\n",
       "      <td>0.0</td>\n",
       "    </tr>\n",
       "    <tr>\n",
       "      <th>2</th>\n",
       "      <td>Deebo Samuel*+</td>\n",
       "      <td>SFO</td>\n",
       "      <td>WR</td>\n",
       "      <td>25</td>\n",
       "      <td>16</td>\n",
       "      <td>15</td>\n",
       "      <td>121.0</td>\n",
       "      <td>77.0</td>\n",
       "      <td>24.0</td>\n",
       "      <td>1.0</td>\n",
       "      <td>2.0</td>\n",
       "      <td>365.0</td>\n",
       "      <td>8.0</td>\n",
       "      <td>59.0</td>\n",
       "      <td>1405.0</td>\n",
       "      <td>6.0</td>\n",
       "      <td>262.0</td>\n",
       "      <td>0.0</td>\n",
       "      <td>4.0</td>\n",
       "      <td>2.0</td>\n",
       "    </tr>\n",
       "    <tr>\n",
       "      <th>3</th>\n",
       "      <td>Josh Allen</td>\n",
       "      <td>BUF</td>\n",
       "      <td>QB</td>\n",
       "      <td>25</td>\n",
       "      <td>17</td>\n",
       "      <td>17</td>\n",
       "      <td>0.0</td>\n",
       "      <td>0.0</td>\n",
       "      <td>4407.0</td>\n",
       "      <td>36.0</td>\n",
       "      <td>646.0</td>\n",
       "      <td>763.0</td>\n",
       "      <td>6.0</td>\n",
       "      <td>122.0</td>\n",
       "      <td>0.0</td>\n",
       "      <td>0.0</td>\n",
       "      <td>403.0</td>\n",
       "      <td>15.0</td>\n",
       "      <td>8.0</td>\n",
       "      <td>3.0</td>\n",
       "    </tr>\n",
       "    <tr>\n",
       "      <th>4</th>\n",
       "      <td>Austin Ekeler</td>\n",
       "      <td>LAC</td>\n",
       "      <td>RB</td>\n",
       "      <td>26</td>\n",
       "      <td>16</td>\n",
       "      <td>16</td>\n",
       "      <td>94.0</td>\n",
       "      <td>70.0</td>\n",
       "      <td>0.0</td>\n",
       "      <td>0.0</td>\n",
       "      <td>0.0</td>\n",
       "      <td>911.0</td>\n",
       "      <td>12.0</td>\n",
       "      <td>206.0</td>\n",
       "      <td>647.0</td>\n",
       "      <td>8.0</td>\n",
       "      <td>274.0</td>\n",
       "      <td>0.0</td>\n",
       "      <td>4.0</td>\n",
       "      <td>3.0</td>\n",
       "    </tr>\n",
       "  </tbody>\n",
       "</table>\n",
       "</div>"
      ],
      "text/plain": [
       "              Player   Tm Pos  Age   G  GS    Tgt    Rec  PassingYds  \\\n",
       "0  Jonathan Taylor*+  IND  RB   22  17  17   51.0   40.0         0.0   \n",
       "1      Cooper Kupp*+  LAR  WR   28  17  17  191.0  145.0         0.0   \n",
       "2     Deebo Samuel*+  SFO  WR   25  16  15  121.0   77.0        24.0   \n",
       "3         Josh Allen  BUF  QB   25  17  17    0.0    0.0      4407.0   \n",
       "4      Austin Ekeler  LAC  RB   26  16  16   94.0   70.0         0.0   \n",
       "\n",
       "   PassingTD  PassingAtt  RushingYds  RushingTD  RushingAtt  ReceivingYds  \\\n",
       "0        0.0         0.0      1811.0       18.0       332.0         360.0   \n",
       "1        0.0         1.0        18.0        0.0         4.0        1947.0   \n",
       "2        1.0         2.0       365.0        8.0        59.0        1405.0   \n",
       "3       36.0       646.0       763.0        6.0       122.0           0.0   \n",
       "4        0.0         0.0       911.0       12.0       206.0         647.0   \n",
       "\n",
       "   ReceivingTD  FantasyPoints   Int  Fumbles  FumblesLost  \n",
       "0          2.0          333.0   0.0      4.0          2.0  \n",
       "1         16.0          295.0   0.0      0.0          0.0  \n",
       "2          6.0          262.0   0.0      4.0          2.0  \n",
       "3          0.0          403.0  15.0      8.0          3.0  \n",
       "4          8.0          274.0   0.0      4.0          3.0  "
      ]
     },
     "execution_count": 226,
     "metadata": {},
     "output_type": "execute_result"
    }
   ],
   "source": [
    "ff21.head()"
   ]
  },
  {
   "cell_type": "code",
   "execution_count": 227,
   "id": "a9f9dee4",
   "metadata": {},
   "outputs": [
    {
     "data": {
      "text/html": [
       "<div>\n",
       "<style scoped>\n",
       "    .dataframe tbody tr th:only-of-type {\n",
       "        vertical-align: middle;\n",
       "    }\n",
       "\n",
       "    .dataframe tbody tr th {\n",
       "        vertical-align: top;\n",
       "    }\n",
       "\n",
       "    .dataframe thead th {\n",
       "        text-align: right;\n",
       "    }\n",
       "</style>\n",
       "<table border=\"1\" class=\"dataframe\">\n",
       "  <thead>\n",
       "    <tr style=\"text-align: right;\">\n",
       "      <th></th>\n",
       "      <th>Player</th>\n",
       "      <th>Tm</th>\n",
       "      <th>Pos</th>\n",
       "      <th>Age</th>\n",
       "      <th>G</th>\n",
       "      <th>GS</th>\n",
       "      <th>Tgt</th>\n",
       "      <th>Rec</th>\n",
       "      <th>PassingYds</th>\n",
       "      <th>PassingTD</th>\n",
       "      <th>PassingAtt</th>\n",
       "      <th>RushingYds</th>\n",
       "      <th>RushingTD</th>\n",
       "      <th>RushingAtt</th>\n",
       "      <th>ReceivingYds</th>\n",
       "      <th>ReceivingTD</th>\n",
       "      <th>FantasyPoints</th>\n",
       "      <th>Int</th>\n",
       "      <th>Fumbles</th>\n",
       "      <th>FumblesLost</th>\n",
       "    </tr>\n",
       "    <tr>\n",
       "      <th>Unnamed: 0</th>\n",
       "      <th></th>\n",
       "      <th></th>\n",
       "      <th></th>\n",
       "      <th></th>\n",
       "      <th></th>\n",
       "      <th></th>\n",
       "      <th></th>\n",
       "      <th></th>\n",
       "      <th></th>\n",
       "      <th></th>\n",
       "      <th></th>\n",
       "      <th></th>\n",
       "      <th></th>\n",
       "      <th></th>\n",
       "      <th></th>\n",
       "      <th></th>\n",
       "      <th></th>\n",
       "      <th></th>\n",
       "      <th></th>\n",
       "      <th></th>\n",
       "    </tr>\n",
       "  </thead>\n",
       "  <tbody>\n",
       "    <tr>\n",
       "      <th>0</th>\n",
       "      <td>Christian McCaffrey</td>\n",
       "      <td>CAR</td>\n",
       "      <td>RB</td>\n",
       "      <td>23.0</td>\n",
       "      <td>16.0</td>\n",
       "      <td>16.0</td>\n",
       "      <td>142.0</td>\n",
       "      <td>116.0</td>\n",
       "      <td>0.0</td>\n",
       "      <td>0.0</td>\n",
       "      <td>2.0</td>\n",
       "      <td>1387.0</td>\n",
       "      <td>15.0</td>\n",
       "      <td>287.0</td>\n",
       "      <td>1005.0</td>\n",
       "      <td>4.0</td>\n",
       "      <td>469.20</td>\n",
       "      <td>0.0</td>\n",
       "      <td>1.0</td>\n",
       "      <td>0.0</td>\n",
       "    </tr>\n",
       "    <tr>\n",
       "      <th>1</th>\n",
       "      <td>Lamar Jackson</td>\n",
       "      <td>BAL</td>\n",
       "      <td>QB</td>\n",
       "      <td>22.0</td>\n",
       "      <td>15.0</td>\n",
       "      <td>15.0</td>\n",
       "      <td>0.0</td>\n",
       "      <td>0.0</td>\n",
       "      <td>3127.0</td>\n",
       "      <td>36.0</td>\n",
       "      <td>401.0</td>\n",
       "      <td>1206.0</td>\n",
       "      <td>7.0</td>\n",
       "      <td>176.0</td>\n",
       "      <td>0.0</td>\n",
       "      <td>0.0</td>\n",
       "      <td>415.68</td>\n",
       "      <td>6.0</td>\n",
       "      <td>9.0</td>\n",
       "      <td>2.0</td>\n",
       "    </tr>\n",
       "    <tr>\n",
       "      <th>2</th>\n",
       "      <td>Derrick Henry</td>\n",
       "      <td>TEN</td>\n",
       "      <td>RB</td>\n",
       "      <td>25.0</td>\n",
       "      <td>15.0</td>\n",
       "      <td>15.0</td>\n",
       "      <td>24.0</td>\n",
       "      <td>18.0</td>\n",
       "      <td>0.0</td>\n",
       "      <td>0.0</td>\n",
       "      <td>0.0</td>\n",
       "      <td>1540.0</td>\n",
       "      <td>16.0</td>\n",
       "      <td>303.0</td>\n",
       "      <td>206.0</td>\n",
       "      <td>2.0</td>\n",
       "      <td>294.60</td>\n",
       "      <td>0.0</td>\n",
       "      <td>5.0</td>\n",
       "      <td>3.0</td>\n",
       "    </tr>\n",
       "    <tr>\n",
       "      <th>3</th>\n",
       "      <td>Aaron Jones</td>\n",
       "      <td>GNB</td>\n",
       "      <td>RB</td>\n",
       "      <td>25.0</td>\n",
       "      <td>16.0</td>\n",
       "      <td>16.0</td>\n",
       "      <td>68.0</td>\n",
       "      <td>49.0</td>\n",
       "      <td>0.0</td>\n",
       "      <td>0.0</td>\n",
       "      <td>0.0</td>\n",
       "      <td>1084.0</td>\n",
       "      <td>16.0</td>\n",
       "      <td>236.0</td>\n",
       "      <td>474.0</td>\n",
       "      <td>3.0</td>\n",
       "      <td>314.80</td>\n",
       "      <td>0.0</td>\n",
       "      <td>3.0</td>\n",
       "      <td>2.0</td>\n",
       "    </tr>\n",
       "    <tr>\n",
       "      <th>4</th>\n",
       "      <td>Ezekiel Elliott</td>\n",
       "      <td>DAL</td>\n",
       "      <td>RB</td>\n",
       "      <td>24.0</td>\n",
       "      <td>16.0</td>\n",
       "      <td>16.0</td>\n",
       "      <td>71.0</td>\n",
       "      <td>54.0</td>\n",
       "      <td>0.0</td>\n",
       "      <td>0.0</td>\n",
       "      <td>0.0</td>\n",
       "      <td>1357.0</td>\n",
       "      <td>12.0</td>\n",
       "      <td>301.0</td>\n",
       "      <td>420.0</td>\n",
       "      <td>2.0</td>\n",
       "      <td>311.70</td>\n",
       "      <td>0.0</td>\n",
       "      <td>3.0</td>\n",
       "      <td>2.0</td>\n",
       "    </tr>\n",
       "  </tbody>\n",
       "</table>\n",
       "</div>"
      ],
      "text/plain": [
       "                         Player   Tm Pos   Age     G    GS    Tgt    Rec  \\\n",
       "Unnamed: 0                                                                 \n",
       "0           Christian McCaffrey  CAR  RB  23.0  16.0  16.0  142.0  116.0   \n",
       "1                 Lamar Jackson  BAL  QB  22.0  15.0  15.0    0.0    0.0   \n",
       "2                 Derrick Henry  TEN  RB  25.0  15.0  15.0   24.0   18.0   \n",
       "3                   Aaron Jones  GNB  RB  25.0  16.0  16.0   68.0   49.0   \n",
       "4               Ezekiel Elliott  DAL  RB  24.0  16.0  16.0   71.0   54.0   \n",
       "\n",
       "            PassingYds  PassingTD  PassingAtt  RushingYds  RushingTD  \\\n",
       "Unnamed: 0                                                             \n",
       "0                  0.0        0.0         2.0      1387.0       15.0   \n",
       "1               3127.0       36.0       401.0      1206.0        7.0   \n",
       "2                  0.0        0.0         0.0      1540.0       16.0   \n",
       "3                  0.0        0.0         0.0      1084.0       16.0   \n",
       "4                  0.0        0.0         0.0      1357.0       12.0   \n",
       "\n",
       "            RushingAtt  ReceivingYds  ReceivingTD  FantasyPoints  Int  \\\n",
       "Unnamed: 0                                                              \n",
       "0                287.0        1005.0          4.0         469.20  0.0   \n",
       "1                176.0           0.0          0.0         415.68  6.0   \n",
       "2                303.0         206.0          2.0         294.60  0.0   \n",
       "3                236.0         474.0          3.0         314.80  0.0   \n",
       "4                301.0         420.0          2.0         311.70  0.0   \n",
       "\n",
       "            Fumbles  FumblesLost  \n",
       "Unnamed: 0                        \n",
       "0               1.0          0.0  \n",
       "1               9.0          2.0  \n",
       "2               5.0          3.0  \n",
       "3               3.0          2.0  \n",
       "4               3.0          2.0  "
      ]
     },
     "execution_count": 227,
     "metadata": {},
     "output_type": "execute_result"
    }
   ],
   "source": [
    "ff19.head()"
   ]
  },
  {
   "cell_type": "code",
   "execution_count": 228,
   "id": "2a044ad1",
   "metadata": {},
   "outputs": [
    {
     "data": {
      "text/html": [
       "<div>\n",
       "<style scoped>\n",
       "    .dataframe tbody tr th:only-of-type {\n",
       "        vertical-align: middle;\n",
       "    }\n",
       "\n",
       "    .dataframe tbody tr th {\n",
       "        vertical-align: top;\n",
       "    }\n",
       "\n",
       "    .dataframe thead th {\n",
       "        text-align: right;\n",
       "    }\n",
       "</style>\n",
       "<table border=\"1\" class=\"dataframe\">\n",
       "  <thead>\n",
       "    <tr style=\"text-align: right;\">\n",
       "      <th></th>\n",
       "      <th>Week</th>\n",
       "      <th>Day</th>\n",
       "      <th>Date</th>\n",
       "      <th>Unnamed: 5</th>\n",
       "      <th>Opp</th>\n",
       "      <th>Tm</th>\n",
       "      <th>Opp.1</th>\n",
       "      <th>1stD</th>\n",
       "      <th>TotYd</th>\n",
       "      <th>PassY</th>\n",
       "      <th>...</th>\n",
       "      <th>TO</th>\n",
       "      <th>1stD.1</th>\n",
       "      <th>TotYd.1</th>\n",
       "      <th>PassY.1</th>\n",
       "      <th>RushY.1</th>\n",
       "      <th>TO.1</th>\n",
       "      <th>Offense</th>\n",
       "      <th>Defense</th>\n",
       "      <th>Sp. Tms</th>\n",
       "      <th>Home_team</th>\n",
       "    </tr>\n",
       "  </thead>\n",
       "  <tbody>\n",
       "    <tr>\n",
       "      <th>0</th>\n",
       "      <td>1</td>\n",
       "      <td>Sun</td>\n",
       "      <td>8-Sep</td>\n",
       "      <td>W</td>\n",
       "      <td>Tampa Bay Buccaneers</td>\n",
       "      <td>31.0</td>\n",
       "      <td>17.0</td>\n",
       "      <td>17.0</td>\n",
       "      <td>256.0</td>\n",
       "      <td>158.0</td>\n",
       "      <td>...</td>\n",
       "      <td>2.0</td>\n",
       "      <td>21.0</td>\n",
       "      <td>295.0</td>\n",
       "      <td>174.0</td>\n",
       "      <td>121.0</td>\n",
       "      <td>4.0</td>\n",
       "      <td>-7.51</td>\n",
       "      <td>19.12</td>\n",
       "      <td>1.10</td>\n",
       "      <td>San Francisco 49ers</td>\n",
       "    </tr>\n",
       "    <tr>\n",
       "      <th>1</th>\n",
       "      <td>2</td>\n",
       "      <td>Sun</td>\n",
       "      <td>15-Sep</td>\n",
       "      <td>W</td>\n",
       "      <td>Cincinnati Bengals</td>\n",
       "      <td>41.0</td>\n",
       "      <td>17.0</td>\n",
       "      <td>27.0</td>\n",
       "      <td>571.0</td>\n",
       "      <td>312.0</td>\n",
       "      <td>...</td>\n",
       "      <td>1.0</td>\n",
       "      <td>14.0</td>\n",
       "      <td>316.0</td>\n",
       "      <td>291.0</td>\n",
       "      <td>25.0</td>\n",
       "      <td>1.0</td>\n",
       "      <td>27.34</td>\n",
       "      <td>1.14</td>\n",
       "      <td>-6.64</td>\n",
       "      <td>San Francisco 49ers</td>\n",
       "    </tr>\n",
       "    <tr>\n",
       "      <th>2</th>\n",
       "      <td>3</td>\n",
       "      <td>Sun</td>\n",
       "      <td>22-Sep</td>\n",
       "      <td>W</td>\n",
       "      <td>Pittsburgh Steelers</td>\n",
       "      <td>24.0</td>\n",
       "      <td>20.0</td>\n",
       "      <td>26.0</td>\n",
       "      <td>436.0</td>\n",
       "      <td>268.0</td>\n",
       "      <td>...</td>\n",
       "      <td>5.0</td>\n",
       "      <td>11.0</td>\n",
       "      <td>239.0</td>\n",
       "      <td>160.0</td>\n",
       "      <td>79.0</td>\n",
       "      <td>2.0</td>\n",
       "      <td>-3.72</td>\n",
       "      <td>10.20</td>\n",
       "      <td>0.12</td>\n",
       "      <td>San Francisco 49ers</td>\n",
       "    </tr>\n",
       "    <tr>\n",
       "      <th>3</th>\n",
       "      <td>4</td>\n",
       "      <td>NaN</td>\n",
       "      <td>NaN</td>\n",
       "      <td>NaN</td>\n",
       "      <td>Bye Week</td>\n",
       "      <td>NaN</td>\n",
       "      <td>NaN</td>\n",
       "      <td>NaN</td>\n",
       "      <td>NaN</td>\n",
       "      <td>NaN</td>\n",
       "      <td>...</td>\n",
       "      <td>NaN</td>\n",
       "      <td>NaN</td>\n",
       "      <td>NaN</td>\n",
       "      <td>NaN</td>\n",
       "      <td>NaN</td>\n",
       "      <td>NaN</td>\n",
       "      <td>NaN</td>\n",
       "      <td>NaN</td>\n",
       "      <td>NaN</td>\n",
       "      <td>San Francisco 49ers</td>\n",
       "    </tr>\n",
       "    <tr>\n",
       "      <th>4</th>\n",
       "      <td>5</td>\n",
       "      <td>Mon</td>\n",
       "      <td>7-Oct</td>\n",
       "      <td>W</td>\n",
       "      <td>Cleveland Browns</td>\n",
       "      <td>31.0</td>\n",
       "      <td>3.0</td>\n",
       "      <td>22.0</td>\n",
       "      <td>446.0</td>\n",
       "      <td>171.0</td>\n",
       "      <td>...</td>\n",
       "      <td>NaN</td>\n",
       "      <td>9.0</td>\n",
       "      <td>180.0</td>\n",
       "      <td>78.0</td>\n",
       "      <td>102.0</td>\n",
       "      <td>4.0</td>\n",
       "      <td>12.38</td>\n",
       "      <td>22.56</td>\n",
       "      <td>-10.50</td>\n",
       "      <td>San Francisco 49ers</td>\n",
       "    </tr>\n",
       "  </tbody>\n",
       "</table>\n",
       "<p>5 rows × 21 columns</p>\n",
       "</div>"
      ],
      "text/plain": [
       "  Week  Day    Date Unnamed: 5                   Opp    Tm  Opp.1  1stD  \\\n",
       "0    1  Sun   8-Sep          W  Tampa Bay Buccaneers  31.0   17.0  17.0   \n",
       "1    2  Sun  15-Sep          W    Cincinnati Bengals  41.0   17.0  27.0   \n",
       "2    3  Sun  22-Sep          W   Pittsburgh Steelers  24.0   20.0  26.0   \n",
       "3    4  NaN     NaN        NaN              Bye Week   NaN    NaN   NaN   \n",
       "4    5  Mon   7-Oct          W      Cleveland Browns  31.0    3.0  22.0   \n",
       "\n",
       "   TotYd  PassY  ...   TO  1stD.1  TotYd.1  PassY.1  RushY.1  TO.1  Offense  \\\n",
       "0  256.0  158.0  ...  2.0    21.0    295.0    174.0    121.0   4.0    -7.51   \n",
       "1  571.0  312.0  ...  1.0    14.0    316.0    291.0     25.0   1.0    27.34   \n",
       "2  436.0  268.0  ...  5.0    11.0    239.0    160.0     79.0   2.0    -3.72   \n",
       "3    NaN    NaN  ...  NaN     NaN      NaN      NaN      NaN   NaN      NaN   \n",
       "4  446.0  171.0  ...  NaN     9.0    180.0     78.0    102.0   4.0    12.38   \n",
       "\n",
       "   Defense  Sp. Tms            Home_team  \n",
       "0    19.12     1.10  San Francisco 49ers  \n",
       "1     1.14    -6.64  San Francisco 49ers  \n",
       "2    10.20     0.12  San Francisco 49ers  \n",
       "3      NaN      NaN  San Francisco 49ers  \n",
       "4    22.56   -10.50  San Francisco 49ers  \n",
       "\n",
       "[5 rows x 21 columns]"
      ]
     },
     "execution_count": 228,
     "metadata": {},
     "output_type": "execute_result"
    }
   ],
   "source": [
    "team19.head()"
   ]
  },
  {
   "cell_type": "markdown",
   "id": "74453f4f",
   "metadata": {},
   "source": [
    "Need to clean player name from *, + and/or both.\n",
    "\n",
    "Need to group by position, as points scored and value is dependent on position.\n",
    "\n",
    "need a dataset of predictor variables for final -- previous year's players (2021) plus rookies (2022) draft.\n",
    "\n",
    "Need to bring in a dataset of rookies \n",
    "\n",
    "Need a dataset of team ranks from previous year (2021)\n",
    "\n",
    "We'll use 19 and 20 as training years; 21 as test year. \n",
    "\n",
    "Final model will use previous 2 season data, and other, to predict upcoming season data\n"
   ]
  },
  {
   "cell_type": "code",
   "execution_count": 229,
   "id": "4696337f",
   "metadata": {},
   "outputs": [
    {
     "data": {
      "text/plain": [
       "Player            object\n",
       "Tm                object\n",
       "Pos               object\n",
       "Age                int64\n",
       "G                  int64\n",
       "GS                 int64\n",
       "Tgt                int64\n",
       "Rec                int64\n",
       "PassingYds         int64\n",
       "PassingTD          int64\n",
       "PassingAtt         int64\n",
       "RushingYds         int64\n",
       "RushingTD          int64\n",
       "RushingAtt         int64\n",
       "ReceivingYds       int64\n",
       "ReceivingTD        int64\n",
       "FantasyPoints    float64\n",
       "Int                int64\n",
       "Fumbles            int64\n",
       "FumblesLost        int64\n",
       "dtype: object"
      ]
     },
     "execution_count": 229,
     "metadata": {},
     "output_type": "execute_result"
    }
   ],
   "source": [
    "ff21.dtypes\n",
    "\n",
    "ff20.dtypes"
   ]
  },
  {
   "cell_type": "code",
   "execution_count": 230,
   "id": "6c681943",
   "metadata": {},
   "outputs": [],
   "source": [
    "# cleaning player names\n",
    "\n",
    "ff21['Player'] = ff21['Player'].str.replace(\"+\",\"\", regex = True)\n",
    "ff21['Player'] = ff21['Player'].str.replace(\"*\",\"\", regex = True)\n",
    "\n",
    "ff20['Player'] = ff20['Player'].str.replace(\"+\",\"\", regex = True)\n",
    "ff20['Player'] = ff20['Player'].str.replace(\"*\",\"\", regex = True)\n",
    "\n",
    "ff19['Player'] = ff19['Player'].str.replace(\"+\",\"\", regex = True)\n",
    "ff19['Player'] = ff19['Player'].str.replace(\"*\",\"\", regex = True)\n",
    "\n"
   ]
  },
  {
   "cell_type": "markdown",
   "id": "e69774e4",
   "metadata": {},
   "source": [
    "Now, let's merge these dataframes on Player name"
   ]
  },
  {
   "cell_type": "code",
   "execution_count": 231,
   "id": "666af261",
   "metadata": {},
   "outputs": [
    {
     "data": {
      "text/html": [
       "<div>\n",
       "<style scoped>\n",
       "    .dataframe tbody tr th:only-of-type {\n",
       "        vertical-align: middle;\n",
       "    }\n",
       "\n",
       "    .dataframe tbody tr th {\n",
       "        vertical-align: top;\n",
       "    }\n",
       "\n",
       "    .dataframe thead th {\n",
       "        text-align: right;\n",
       "    }\n",
       "</style>\n",
       "<table border=\"1\" class=\"dataframe\">\n",
       "  <thead>\n",
       "    <tr style=\"text-align: right;\">\n",
       "      <th></th>\n",
       "      <th>key_0</th>\n",
       "      <th>Player_19</th>\n",
       "      <th>Tm_19</th>\n",
       "      <th>Pos_19</th>\n",
       "      <th>Age_19</th>\n",
       "      <th>G_19</th>\n",
       "      <th>GS_19</th>\n",
       "      <th>Tgt_19</th>\n",
       "      <th>Rec_19</th>\n",
       "      <th>PassingYds_19</th>\n",
       "      <th>...</th>\n",
       "      <th>PassingAtt_20</th>\n",
       "      <th>RushingYds_20</th>\n",
       "      <th>RushingTD_20</th>\n",
       "      <th>RushingAtt_20</th>\n",
       "      <th>ReceivingYds_20</th>\n",
       "      <th>ReceivingTD_20</th>\n",
       "      <th>FantasyPoints_20</th>\n",
       "      <th>Int_20</th>\n",
       "      <th>Fumbles_20</th>\n",
       "      <th>FumblesLost_20</th>\n",
       "    </tr>\n",
       "  </thead>\n",
       "  <tbody>\n",
       "    <tr>\n",
       "      <th>0</th>\n",
       "      <td>Christian McCaffrey</td>\n",
       "      <td>Christian McCaffrey</td>\n",
       "      <td>CAR</td>\n",
       "      <td>RB</td>\n",
       "      <td>23.0</td>\n",
       "      <td>16.0</td>\n",
       "      <td>16.0</td>\n",
       "      <td>142.0</td>\n",
       "      <td>116.0</td>\n",
       "      <td>0.0</td>\n",
       "      <td>...</td>\n",
       "      <td>0.0</td>\n",
       "      <td>225.0</td>\n",
       "      <td>5.0</td>\n",
       "      <td>59.0</td>\n",
       "      <td>149.0</td>\n",
       "      <td>1.0</td>\n",
       "      <td>73.0</td>\n",
       "      <td>0.0</td>\n",
       "      <td>0.0</td>\n",
       "      <td>0.0</td>\n",
       "    </tr>\n",
       "    <tr>\n",
       "      <th>1</th>\n",
       "      <td>Lamar Jackson</td>\n",
       "      <td>Lamar Jackson</td>\n",
       "      <td>BAL</td>\n",
       "      <td>QB</td>\n",
       "      <td>22.0</td>\n",
       "      <td>15.0</td>\n",
       "      <td>15.0</td>\n",
       "      <td>0.0</td>\n",
       "      <td>0.0</td>\n",
       "      <td>3127.0</td>\n",
       "      <td>...</td>\n",
       "      <td>376.0</td>\n",
       "      <td>1005.0</td>\n",
       "      <td>7.0</td>\n",
       "      <td>159.0</td>\n",
       "      <td>0.0</td>\n",
       "      <td>0.0</td>\n",
       "      <td>333.0</td>\n",
       "      <td>9.0</td>\n",
       "      <td>10.0</td>\n",
       "      <td>4.0</td>\n",
       "    </tr>\n",
       "    <tr>\n",
       "      <th>2</th>\n",
       "      <td>Derrick Henry</td>\n",
       "      <td>Derrick Henry</td>\n",
       "      <td>TEN</td>\n",
       "      <td>RB</td>\n",
       "      <td>25.0</td>\n",
       "      <td>15.0</td>\n",
       "      <td>15.0</td>\n",
       "      <td>24.0</td>\n",
       "      <td>18.0</td>\n",
       "      <td>0.0</td>\n",
       "      <td>...</td>\n",
       "      <td>0.0</td>\n",
       "      <td>2027.0</td>\n",
       "      <td>17.0</td>\n",
       "      <td>378.0</td>\n",
       "      <td>114.0</td>\n",
       "      <td>0.0</td>\n",
       "      <td>314.0</td>\n",
       "      <td>0.0</td>\n",
       "      <td>3.0</td>\n",
       "      <td>2.0</td>\n",
       "    </tr>\n",
       "    <tr>\n",
       "      <th>3</th>\n",
       "      <td>Aaron Jones</td>\n",
       "      <td>Aaron Jones</td>\n",
       "      <td>GNB</td>\n",
       "      <td>RB</td>\n",
       "      <td>25.0</td>\n",
       "      <td>16.0</td>\n",
       "      <td>16.0</td>\n",
       "      <td>68.0</td>\n",
       "      <td>49.0</td>\n",
       "      <td>0.0</td>\n",
       "      <td>...</td>\n",
       "      <td>0.0</td>\n",
       "      <td>1104.0</td>\n",
       "      <td>9.0</td>\n",
       "      <td>201.0</td>\n",
       "      <td>355.0</td>\n",
       "      <td>2.0</td>\n",
       "      <td>212.0</td>\n",
       "      <td>0.0</td>\n",
       "      <td>2.0</td>\n",
       "      <td>0.0</td>\n",
       "    </tr>\n",
       "    <tr>\n",
       "      <th>4</th>\n",
       "      <td>Ezekiel Elliott</td>\n",
       "      <td>Ezekiel Elliott</td>\n",
       "      <td>DAL</td>\n",
       "      <td>RB</td>\n",
       "      <td>24.0</td>\n",
       "      <td>16.0</td>\n",
       "      <td>16.0</td>\n",
       "      <td>71.0</td>\n",
       "      <td>54.0</td>\n",
       "      <td>0.0</td>\n",
       "      <td>...</td>\n",
       "      <td>0.0</td>\n",
       "      <td>979.0</td>\n",
       "      <td>6.0</td>\n",
       "      <td>244.0</td>\n",
       "      <td>338.0</td>\n",
       "      <td>2.0</td>\n",
       "      <td>172.0</td>\n",
       "      <td>0.0</td>\n",
       "      <td>6.0</td>\n",
       "      <td>5.0</td>\n",
       "    </tr>\n",
       "  </tbody>\n",
       "</table>\n",
       "<p>5 rows × 41 columns</p>\n",
       "</div>"
      ],
      "text/plain": [
       "                 key_0            Player_19 Tm_19 Pos_19  Age_19  G_19  GS_19  \\\n",
       "0  Christian McCaffrey  Christian McCaffrey   CAR     RB    23.0  16.0   16.0   \n",
       "1        Lamar Jackson        Lamar Jackson   BAL     QB    22.0  15.0   15.0   \n",
       "2        Derrick Henry        Derrick Henry   TEN     RB    25.0  15.0   15.0   \n",
       "3          Aaron Jones          Aaron Jones   GNB     RB    25.0  16.0   16.0   \n",
       "4      Ezekiel Elliott      Ezekiel Elliott   DAL     RB    24.0  16.0   16.0   \n",
       "\n",
       "   Tgt_19  Rec_19  PassingYds_19  ...  PassingAtt_20  RushingYds_20  \\\n",
       "0   142.0   116.0            0.0  ...            0.0          225.0   \n",
       "1     0.0     0.0         3127.0  ...          376.0         1005.0   \n",
       "2    24.0    18.0            0.0  ...            0.0         2027.0   \n",
       "3    68.0    49.0            0.0  ...            0.0         1104.0   \n",
       "4    71.0    54.0            0.0  ...            0.0          979.0   \n",
       "\n",
       "   RushingTD_20  RushingAtt_20  ReceivingYds_20  ReceivingTD_20  \\\n",
       "0           5.0           59.0            149.0             1.0   \n",
       "1           7.0          159.0              0.0             0.0   \n",
       "2          17.0          378.0            114.0             0.0   \n",
       "3           9.0          201.0            355.0             2.0   \n",
       "4           6.0          244.0            338.0             2.0   \n",
       "\n",
       "   FantasyPoints_20  Int_20  Fumbles_20  FumblesLost_20  \n",
       "0              73.0     0.0         0.0             0.0  \n",
       "1             333.0     9.0        10.0             4.0  \n",
       "2             314.0     0.0         3.0             2.0  \n",
       "3             212.0     0.0         2.0             0.0  \n",
       "4             172.0     0.0         6.0             5.0  \n",
       "\n",
       "[5 rows x 41 columns]"
      ]
     },
     "execution_count": 231,
     "metadata": {},
     "output_type": "execute_result"
    }
   ],
   "source": [
    "# concatenating data frames\n",
    "\n",
    "ff_all = pd.merge(ff19, ff20, how = 'outer', left_on = ff19['Player'], right_on = ff20['Player'], suffixes = ('_19', '_20')).reset_index(drop = True)\n",
    "\n",
    "ff_all.head()"
   ]
  },
  {
   "cell_type": "code",
   "execution_count": 232,
   "id": "172ec39b",
   "metadata": {},
   "outputs": [],
   "source": [
    "# first, adding suffix to 21\n",
    "ff21 = ff21.add_suffix('_21')\n",
    "\n"
   ]
  },
  {
   "cell_type": "code",
   "execution_count": 258,
   "id": "cef82801",
   "metadata": {},
   "outputs": [
    {
     "data": {
      "text/plain": [
       "0"
      ]
     },
     "execution_count": 258,
     "metadata": {},
     "output_type": "execute_result"
    }
   ],
   "source": [
    "ff21['Tm_21'].isnull().sum()"
   ]
  },
  {
   "cell_type": "code",
   "execution_count": 234,
   "id": "5323d34f",
   "metadata": {
    "scrolled": false
   },
   "outputs": [
    {
     "data": {
      "text/html": [
       "<div>\n",
       "<style scoped>\n",
       "    .dataframe tbody tr th:only-of-type {\n",
       "        vertical-align: middle;\n",
       "    }\n",
       "\n",
       "    .dataframe tbody tr th {\n",
       "        vertical-align: top;\n",
       "    }\n",
       "\n",
       "    .dataframe thead th {\n",
       "        text-align: right;\n",
       "    }\n",
       "</style>\n",
       "<table border=\"1\" class=\"dataframe\">\n",
       "  <thead>\n",
       "    <tr style=\"text-align: right;\">\n",
       "      <th></th>\n",
       "      <th>key_0</th>\n",
       "      <th>Player_19</th>\n",
       "      <th>Tm_19</th>\n",
       "      <th>Pos_19</th>\n",
       "      <th>Age_19</th>\n",
       "      <th>G_19</th>\n",
       "      <th>GS_19</th>\n",
       "      <th>Tgt_19</th>\n",
       "      <th>Rec_19</th>\n",
       "      <th>PassingYds_19</th>\n",
       "      <th>...</th>\n",
       "      <th>PassingAtt_21</th>\n",
       "      <th>RushingYds_21</th>\n",
       "      <th>RushingTD_21</th>\n",
       "      <th>RushingAtt_21</th>\n",
       "      <th>ReceivingYds_21</th>\n",
       "      <th>ReceivingTD_21</th>\n",
       "      <th>FantasyPoints_21</th>\n",
       "      <th>Int_21</th>\n",
       "      <th>Fumbles_21</th>\n",
       "      <th>FumblesLost_21</th>\n",
       "    </tr>\n",
       "  </thead>\n",
       "  <tbody>\n",
       "    <tr>\n",
       "      <th>0</th>\n",
       "      <td>Christian McCaffrey</td>\n",
       "      <td>Christian McCaffrey</td>\n",
       "      <td>CAR</td>\n",
       "      <td>RB</td>\n",
       "      <td>23.0</td>\n",
       "      <td>16.0</td>\n",
       "      <td>16.0</td>\n",
       "      <td>142.0</td>\n",
       "      <td>116.0</td>\n",
       "      <td>0.0</td>\n",
       "      <td>...</td>\n",
       "      <td>0.0</td>\n",
       "      <td>442.0</td>\n",
       "      <td>1.0</td>\n",
       "      <td>99.0</td>\n",
       "      <td>343.0</td>\n",
       "      <td>1.0</td>\n",
       "      <td>91.0</td>\n",
       "      <td>0.0</td>\n",
       "      <td>1.0</td>\n",
       "      <td>0.0</td>\n",
       "    </tr>\n",
       "    <tr>\n",
       "      <th>1</th>\n",
       "      <td>Lamar Jackson</td>\n",
       "      <td>Lamar Jackson</td>\n",
       "      <td>BAL</td>\n",
       "      <td>QB</td>\n",
       "      <td>22.0</td>\n",
       "      <td>15.0</td>\n",
       "      <td>15.0</td>\n",
       "      <td>0.0</td>\n",
       "      <td>0.0</td>\n",
       "      <td>3127.0</td>\n",
       "      <td>...</td>\n",
       "      <td>382.0</td>\n",
       "      <td>767.0</td>\n",
       "      <td>2.0</td>\n",
       "      <td>133.0</td>\n",
       "      <td>0.0</td>\n",
       "      <td>0.0</td>\n",
       "      <td>240.0</td>\n",
       "      <td>13.0</td>\n",
       "      <td>6.0</td>\n",
       "      <td>3.0</td>\n",
       "    </tr>\n",
       "    <tr>\n",
       "      <th>2</th>\n",
       "      <td>Derrick Henry</td>\n",
       "      <td>Derrick Henry</td>\n",
       "      <td>TEN</td>\n",
       "      <td>RB</td>\n",
       "      <td>25.0</td>\n",
       "      <td>15.0</td>\n",
       "      <td>15.0</td>\n",
       "      <td>24.0</td>\n",
       "      <td>18.0</td>\n",
       "      <td>0.0</td>\n",
       "      <td>...</td>\n",
       "      <td>1.0</td>\n",
       "      <td>937.0</td>\n",
       "      <td>10.0</td>\n",
       "      <td>219.0</td>\n",
       "      <td>154.0</td>\n",
       "      <td>0.0</td>\n",
       "      <td>175.0</td>\n",
       "      <td>0.0</td>\n",
       "      <td>1.0</td>\n",
       "      <td>0.0</td>\n",
       "    </tr>\n",
       "    <tr>\n",
       "      <th>3</th>\n",
       "      <td>Aaron Jones</td>\n",
       "      <td>Aaron Jones</td>\n",
       "      <td>GNB</td>\n",
       "      <td>RB</td>\n",
       "      <td>25.0</td>\n",
       "      <td>16.0</td>\n",
       "      <td>16.0</td>\n",
       "      <td>68.0</td>\n",
       "      <td>49.0</td>\n",
       "      <td>0.0</td>\n",
       "      <td>...</td>\n",
       "      <td>0.0</td>\n",
       "      <td>799.0</td>\n",
       "      <td>4.0</td>\n",
       "      <td>171.0</td>\n",
       "      <td>391.0</td>\n",
       "      <td>6.0</td>\n",
       "      <td>177.0</td>\n",
       "      <td>0.0</td>\n",
       "      <td>2.0</td>\n",
       "      <td>1.0</td>\n",
       "    </tr>\n",
       "    <tr>\n",
       "      <th>4</th>\n",
       "      <td>Ezekiel Elliott</td>\n",
       "      <td>Ezekiel Elliott</td>\n",
       "      <td>DAL</td>\n",
       "      <td>RB</td>\n",
       "      <td>24.0</td>\n",
       "      <td>16.0</td>\n",
       "      <td>16.0</td>\n",
       "      <td>71.0</td>\n",
       "      <td>54.0</td>\n",
       "      <td>0.0</td>\n",
       "      <td>...</td>\n",
       "      <td>1.0</td>\n",
       "      <td>1002.0</td>\n",
       "      <td>10.0</td>\n",
       "      <td>237.0</td>\n",
       "      <td>287.0</td>\n",
       "      <td>2.0</td>\n",
       "      <td>205.0</td>\n",
       "      <td>0.0</td>\n",
       "      <td>1.0</td>\n",
       "      <td>1.0</td>\n",
       "    </tr>\n",
       "    <tr>\n",
       "      <th>...</th>\n",
       "      <td>...</td>\n",
       "      <td>...</td>\n",
       "      <td>...</td>\n",
       "      <td>...</td>\n",
       "      <td>...</td>\n",
       "      <td>...</td>\n",
       "      <td>...</td>\n",
       "      <td>...</td>\n",
       "      <td>...</td>\n",
       "      <td>...</td>\n",
       "      <td>...</td>\n",
       "      <td>...</td>\n",
       "      <td>...</td>\n",
       "      <td>...</td>\n",
       "      <td>...</td>\n",
       "      <td>...</td>\n",
       "      <td>...</td>\n",
       "      <td>...</td>\n",
       "      <td>...</td>\n",
       "      <td>...</td>\n",
       "      <td>...</td>\n",
       "    </tr>\n",
       "    <tr>\n",
       "      <th>528</th>\n",
       "      <td>Garrett Griffin</td>\n",
       "      <td>NaN</td>\n",
       "      <td>NaN</td>\n",
       "      <td>NaN</td>\n",
       "      <td>NaN</td>\n",
       "      <td>NaN</td>\n",
       "      <td>NaN</td>\n",
       "      <td>NaN</td>\n",
       "      <td>NaN</td>\n",
       "      <td>NaN</td>\n",
       "      <td>...</td>\n",
       "      <td>0.0</td>\n",
       "      <td>0.0</td>\n",
       "      <td>0.0</td>\n",
       "      <td>0.0</td>\n",
       "      <td>39.0</td>\n",
       "      <td>0.0</td>\n",
       "      <td>4.0</td>\n",
       "      <td>0.0</td>\n",
       "      <td>1.0</td>\n",
       "      <td>0.0</td>\n",
       "    </tr>\n",
       "    <tr>\n",
       "      <th>529</th>\n",
       "      <td>Stanley Morgan Jr.</td>\n",
       "      <td>NaN</td>\n",
       "      <td>NaN</td>\n",
       "      <td>NaN</td>\n",
       "      <td>NaN</td>\n",
       "      <td>NaN</td>\n",
       "      <td>NaN</td>\n",
       "      <td>NaN</td>\n",
       "      <td>NaN</td>\n",
       "      <td>NaN</td>\n",
       "      <td>...</td>\n",
       "      <td>0.0</td>\n",
       "      <td>3.0</td>\n",
       "      <td>0.0</td>\n",
       "      <td>1.0</td>\n",
       "      <td>11.0</td>\n",
       "      <td>0.0</td>\n",
       "      <td>1.0</td>\n",
       "      <td>0.0</td>\n",
       "      <td>0.0</td>\n",
       "      <td>0.0</td>\n",
       "    </tr>\n",
       "    <tr>\n",
       "      <th>530</th>\n",
       "      <td>Kevin Rader</td>\n",
       "      <td>NaN</td>\n",
       "      <td>NaN</td>\n",
       "      <td>NaN</td>\n",
       "      <td>NaN</td>\n",
       "      <td>NaN</td>\n",
       "      <td>NaN</td>\n",
       "      <td>NaN</td>\n",
       "      <td>NaN</td>\n",
       "      <td>NaN</td>\n",
       "      <td>...</td>\n",
       "      <td>0.0</td>\n",
       "      <td>0.0</td>\n",
       "      <td>0.0</td>\n",
       "      <td>0.0</td>\n",
       "      <td>8.0</td>\n",
       "      <td>0.0</td>\n",
       "      <td>1.0</td>\n",
       "      <td>0.0</td>\n",
       "      <td>0.0</td>\n",
       "      <td>0.0</td>\n",
       "    </tr>\n",
       "    <tr>\n",
       "      <th>531</th>\n",
       "      <td>Kevin White</td>\n",
       "      <td>NaN</td>\n",
       "      <td>NaN</td>\n",
       "      <td>NaN</td>\n",
       "      <td>NaN</td>\n",
       "      <td>NaN</td>\n",
       "      <td>NaN</td>\n",
       "      <td>NaN</td>\n",
       "      <td>NaN</td>\n",
       "      <td>NaN</td>\n",
       "      <td>...</td>\n",
       "      <td>0.0</td>\n",
       "      <td>0.0</td>\n",
       "      <td>0.0</td>\n",
       "      <td>0.0</td>\n",
       "      <td>38.0</td>\n",
       "      <td>0.0</td>\n",
       "      <td>4.0</td>\n",
       "      <td>0.0</td>\n",
       "      <td>0.0</td>\n",
       "      <td>0.0</td>\n",
       "    </tr>\n",
       "    <tr>\n",
       "      <th>532</th>\n",
       "      <td>Kendall Hinton</td>\n",
       "      <td>NaN</td>\n",
       "      <td>NaN</td>\n",
       "      <td>NaN</td>\n",
       "      <td>NaN</td>\n",
       "      <td>NaN</td>\n",
       "      <td>NaN</td>\n",
       "      <td>NaN</td>\n",
       "      <td>NaN</td>\n",
       "      <td>NaN</td>\n",
       "      <td>...</td>\n",
       "      <td>1.0</td>\n",
       "      <td>0.0</td>\n",
       "      <td>0.0</td>\n",
       "      <td>0.0</td>\n",
       "      <td>175.0</td>\n",
       "      <td>1.0</td>\n",
       "      <td>24.0</td>\n",
       "      <td>0.0</td>\n",
       "      <td>0.0</td>\n",
       "      <td>0.0</td>\n",
       "    </tr>\n",
       "  </tbody>\n",
       "</table>\n",
       "<p>533 rows × 61 columns</p>\n",
       "</div>"
      ],
      "text/plain": [
       "                   key_0            Player_19 Tm_19 Pos_19  Age_19  G_19  \\\n",
       "0    Christian McCaffrey  Christian McCaffrey   CAR     RB    23.0  16.0   \n",
       "1          Lamar Jackson        Lamar Jackson   BAL     QB    22.0  15.0   \n",
       "2          Derrick Henry        Derrick Henry   TEN     RB    25.0  15.0   \n",
       "3            Aaron Jones          Aaron Jones   GNB     RB    25.0  16.0   \n",
       "4        Ezekiel Elliott      Ezekiel Elliott   DAL     RB    24.0  16.0   \n",
       "..                   ...                  ...   ...    ...     ...   ...   \n",
       "528      Garrett Griffin                  NaN   NaN    NaN     NaN   NaN   \n",
       "529   Stanley Morgan Jr.                  NaN   NaN    NaN     NaN   NaN   \n",
       "530          Kevin Rader                  NaN   NaN    NaN     NaN   NaN   \n",
       "531          Kevin White                  NaN   NaN    NaN     NaN   NaN   \n",
       "532       Kendall Hinton                  NaN   NaN    NaN     NaN   NaN   \n",
       "\n",
       "     GS_19  Tgt_19  Rec_19  PassingYds_19  ...  PassingAtt_21  RushingYds_21  \\\n",
       "0     16.0   142.0   116.0            0.0  ...            0.0          442.0   \n",
       "1     15.0     0.0     0.0         3127.0  ...          382.0          767.0   \n",
       "2     15.0    24.0    18.0            0.0  ...            1.0          937.0   \n",
       "3     16.0    68.0    49.0            0.0  ...            0.0          799.0   \n",
       "4     16.0    71.0    54.0            0.0  ...            1.0         1002.0   \n",
       "..     ...     ...     ...            ...  ...            ...            ...   \n",
       "528    NaN     NaN     NaN            NaN  ...            0.0            0.0   \n",
       "529    NaN     NaN     NaN            NaN  ...            0.0            3.0   \n",
       "530    NaN     NaN     NaN            NaN  ...            0.0            0.0   \n",
       "531    NaN     NaN     NaN            NaN  ...            0.0            0.0   \n",
       "532    NaN     NaN     NaN            NaN  ...            1.0            0.0   \n",
       "\n",
       "     RushingTD_21  RushingAtt_21  ReceivingYds_21  ReceivingTD_21  \\\n",
       "0             1.0           99.0            343.0             1.0   \n",
       "1             2.0          133.0              0.0             0.0   \n",
       "2            10.0          219.0            154.0             0.0   \n",
       "3             4.0          171.0            391.0             6.0   \n",
       "4            10.0          237.0            287.0             2.0   \n",
       "..            ...            ...              ...             ...   \n",
       "528           0.0            0.0             39.0             0.0   \n",
       "529           0.0            1.0             11.0             0.0   \n",
       "530           0.0            0.0              8.0             0.0   \n",
       "531           0.0            0.0             38.0             0.0   \n",
       "532           0.0            0.0            175.0             1.0   \n",
       "\n",
       "     FantasyPoints_21  Int_21  Fumbles_21  FumblesLost_21  \n",
       "0                91.0     0.0         1.0             0.0  \n",
       "1               240.0    13.0         6.0             3.0  \n",
       "2               175.0     0.0         1.0             0.0  \n",
       "3               177.0     0.0         2.0             1.0  \n",
       "4               205.0     0.0         1.0             1.0  \n",
       "..                ...     ...         ...             ...  \n",
       "528               4.0     0.0         1.0             0.0  \n",
       "529               1.0     0.0         0.0             0.0  \n",
       "530               1.0     0.0         0.0             0.0  \n",
       "531               4.0     0.0         0.0             0.0  \n",
       "532              24.0     0.0         0.0             0.0  \n",
       "\n",
       "[533 rows x 61 columns]"
      ]
     },
     "execution_count": 234,
     "metadata": {},
     "output_type": "execute_result"
    }
   ],
   "source": [
    "# concatenating data frames (19+20 with 21)\n",
    "\n",
    "ff21['key_0'] = ff21['Player_21']\n",
    "\n",
    "\n",
    "ff_all = ff_all.merge(ff21, on = 'key_0')\n",
    "\n",
    "ff_all"
   ]
  },
  {
   "cell_type": "code",
   "execution_count": 249,
   "id": "18f4d9f2",
   "metadata": {},
   "outputs": [
    {
     "data": {
      "text/html": [
       "<div>\n",
       "<style scoped>\n",
       "    .dataframe tbody tr th:only-of-type {\n",
       "        vertical-align: middle;\n",
       "    }\n",
       "\n",
       "    .dataframe tbody tr th {\n",
       "        vertical-align: top;\n",
       "    }\n",
       "\n",
       "    .dataframe thead th {\n",
       "        text-align: right;\n",
       "    }\n",
       "</style>\n",
       "<table border=\"1\" class=\"dataframe\">\n",
       "  <thead>\n",
       "    <tr style=\"text-align: right;\">\n",
       "      <th></th>\n",
       "      <th>key_0</th>\n",
       "      <th>Player_19</th>\n",
       "      <th>Tm_19</th>\n",
       "      <th>Pos_19</th>\n",
       "      <th>Age_19</th>\n",
       "      <th>G_19</th>\n",
       "      <th>GS_19</th>\n",
       "      <th>Tgt_19</th>\n",
       "      <th>Rec_19</th>\n",
       "      <th>PassingYds_19</th>\n",
       "      <th>...</th>\n",
       "      <th>yds_per_opp20</th>\n",
       "      <th>td_per_opp19</th>\n",
       "      <th>td_per_opp20</th>\n",
       "      <th>turnover_per_opp19</th>\n",
       "      <th>turnover_per_opp20</th>\n",
       "      <th>fp_per_opp19</th>\n",
       "      <th>fp_per_opp20</th>\n",
       "      <th>fp_per_gm19</th>\n",
       "      <th>fp_per_gm20</th>\n",
       "      <th>fp_per_gm21</th>\n",
       "    </tr>\n",
       "  </thead>\n",
       "  <tbody>\n",
       "    <tr>\n",
       "      <th>0</th>\n",
       "      <td>Christian McCaffrey</td>\n",
       "      <td>Christian McCaffrey</td>\n",
       "      <td>CAR</td>\n",
       "      <td>RB</td>\n",
       "      <td>23.0</td>\n",
       "      <td>16.0</td>\n",
       "      <td>16.0</td>\n",
       "      <td>142.0</td>\n",
       "      <td>116.0</td>\n",
       "      <td>0.0</td>\n",
       "      <td>...</td>\n",
       "      <td>4.794872</td>\n",
       "      <td>0.044084</td>\n",
       "      <td>0.076923</td>\n",
       "      <td>0.000000</td>\n",
       "      <td>0.000000</td>\n",
       "      <td>1.088631</td>\n",
       "      <td>0.935897</td>\n",
       "      <td>29.32500</td>\n",
       "      <td>24.333333</td>\n",
       "      <td>13.000000</td>\n",
       "    </tr>\n",
       "    <tr>\n",
       "      <th>1</th>\n",
       "      <td>Lamar Jackson</td>\n",
       "      <td>Lamar Jackson</td>\n",
       "      <td>BAL</td>\n",
       "      <td>QB</td>\n",
       "      <td>22.0</td>\n",
       "      <td>15.0</td>\n",
       "      <td>15.0</td>\n",
       "      <td>0.0</td>\n",
       "      <td>0.0</td>\n",
       "      <td>3127.0</td>\n",
       "      <td>...</td>\n",
       "      <td>7.031776</td>\n",
       "      <td>0.074523</td>\n",
       "      <td>0.061682</td>\n",
       "      <td>0.013865</td>\n",
       "      <td>0.024299</td>\n",
       "      <td>0.720416</td>\n",
       "      <td>0.622430</td>\n",
       "      <td>27.71200</td>\n",
       "      <td>22.200000</td>\n",
       "      <td>20.000000</td>\n",
       "    </tr>\n",
       "    <tr>\n",
       "      <th>2</th>\n",
       "      <td>Derrick Henry</td>\n",
       "      <td>Derrick Henry</td>\n",
       "      <td>TEN</td>\n",
       "      <td>RB</td>\n",
       "      <td>25.0</td>\n",
       "      <td>15.0</td>\n",
       "      <td>15.0</td>\n",
       "      <td>24.0</td>\n",
       "      <td>18.0</td>\n",
       "      <td>0.0</td>\n",
       "      <td>...</td>\n",
       "      <td>5.234719</td>\n",
       "      <td>0.055046</td>\n",
       "      <td>0.041565</td>\n",
       "      <td>0.009174</td>\n",
       "      <td>0.004890</td>\n",
       "      <td>0.900917</td>\n",
       "      <td>0.767726</td>\n",
       "      <td>19.64000</td>\n",
       "      <td>19.625000</td>\n",
       "      <td>21.875000</td>\n",
       "    </tr>\n",
       "    <tr>\n",
       "      <th>3</th>\n",
       "      <td>Aaron Jones</td>\n",
       "      <td>Aaron Jones</td>\n",
       "      <td>GNB</td>\n",
       "      <td>RB</td>\n",
       "      <td>25.0</td>\n",
       "      <td>16.0</td>\n",
       "      <td>16.0</td>\n",
       "      <td>68.0</td>\n",
       "      <td>49.0</td>\n",
       "      <td>0.0</td>\n",
       "      <td>...</td>\n",
       "      <td>5.526515</td>\n",
       "      <td>0.062500</td>\n",
       "      <td>0.041667</td>\n",
       "      <td>0.006579</td>\n",
       "      <td>0.000000</td>\n",
       "      <td>1.035526</td>\n",
       "      <td>0.803030</td>\n",
       "      <td>19.67500</td>\n",
       "      <td>15.142857</td>\n",
       "      <td>11.800000</td>\n",
       "    </tr>\n",
       "    <tr>\n",
       "      <th>4</th>\n",
       "      <td>Ezekiel Elliott</td>\n",
       "      <td>Ezekiel Elliott</td>\n",
       "      <td>DAL</td>\n",
       "      <td>RB</td>\n",
       "      <td>24.0</td>\n",
       "      <td>16.0</td>\n",
       "      <td>16.0</td>\n",
       "      <td>71.0</td>\n",
       "      <td>54.0</td>\n",
       "      <td>0.0</td>\n",
       "      <td>...</td>\n",
       "      <td>4.180952</td>\n",
       "      <td>0.037634</td>\n",
       "      <td>0.025397</td>\n",
       "      <td>0.005376</td>\n",
       "      <td>0.015873</td>\n",
       "      <td>0.837903</td>\n",
       "      <td>0.546032</td>\n",
       "      <td>19.48125</td>\n",
       "      <td>11.466667</td>\n",
       "      <td>12.058824</td>\n",
       "    </tr>\n",
       "  </tbody>\n",
       "</table>\n",
       "<p>5 rows × 88 columns</p>\n",
       "</div>"
      ],
      "text/plain": [
       "                 key_0            Player_19 Tm_19 Pos_19  Age_19  G_19  GS_19  \\\n",
       "0  Christian McCaffrey  Christian McCaffrey   CAR     RB    23.0  16.0   16.0   \n",
       "1        Lamar Jackson        Lamar Jackson   BAL     QB    22.0  15.0   15.0   \n",
       "2        Derrick Henry        Derrick Henry   TEN     RB    25.0  15.0   15.0   \n",
       "3          Aaron Jones          Aaron Jones   GNB     RB    25.0  16.0   16.0   \n",
       "4      Ezekiel Elliott      Ezekiel Elliott   DAL     RB    24.0  16.0   16.0   \n",
       "\n",
       "   Tgt_19  Rec_19  PassingYds_19  ...  yds_per_opp20  td_per_opp19  \\\n",
       "0   142.0   116.0            0.0  ...       4.794872      0.044084   \n",
       "1     0.0     0.0         3127.0  ...       7.031776      0.074523   \n",
       "2    24.0    18.0            0.0  ...       5.234719      0.055046   \n",
       "3    68.0    49.0            0.0  ...       5.526515      0.062500   \n",
       "4    71.0    54.0            0.0  ...       4.180952      0.037634   \n",
       "\n",
       "   td_per_opp20  turnover_per_opp19  turnover_per_opp20  fp_per_opp19  \\\n",
       "0      0.076923            0.000000            0.000000      1.088631   \n",
       "1      0.061682            0.013865            0.024299      0.720416   \n",
       "2      0.041565            0.009174            0.004890      0.900917   \n",
       "3      0.041667            0.006579            0.000000      1.035526   \n",
       "4      0.025397            0.005376            0.015873      0.837903   \n",
       "\n",
       "   fp_per_opp20  fp_per_gm19  fp_per_gm20  fp_per_gm21  \n",
       "0      0.935897     29.32500    24.333333    13.000000  \n",
       "1      0.622430     27.71200    22.200000    20.000000  \n",
       "2      0.767726     19.64000    19.625000    21.875000  \n",
       "3      0.803030     19.67500    15.142857    11.800000  \n",
       "4      0.546032     19.48125    11.466667    12.058824  \n",
       "\n",
       "[5 rows x 88 columns]"
      ]
     },
     "execution_count": 249,
     "metadata": {},
     "output_type": "execute_result"
    }
   ],
   "source": [
    "# Create a rookie year column [1 if yes; 0 if no]\n",
    "# so, if 2019 and 2020 are null, and 2021 is not null, then rookie in '21\n",
    "# so on for 2020\n",
    "\n",
    "## NEED TO FIX THIS, or use dif data to see if rookie or not\n",
    "\n",
    "ff_all['rookie21'] = np.where((ff_all['Tm_19'].isnull() & ff_all['Tm_20'].isnull()), 1, 0)\n",
    "ff_all['rookie20'] = np.where((ff_all['Tm_19'].isnull() & ff_all['Tm_20'].notnull()), 1, 0)\n",
    "\n",
    "ff_all.head()"
   ]
  },
  {
   "cell_type": "markdown",
   "id": "36f22d11",
   "metadata": {},
   "source": [
    "## Feature Engineering"
   ]
  },
  {
   "cell_type": "code",
   "execution_count": 237,
   "id": "fa02d2b9",
   "metadata": {},
   "outputs": [],
   "source": [
    "# add in new variables -- \n",
    "\n",
    "# percentage of games started in 19 and 20.\n",
    "\n",
    "ff_all['pct_gs19'] = ff_all['GS_19'] / ff_all['G_19']\n",
    "ff_all['pct_gs20'] = ff_all['GS_20'] / ff_all['G_20']\n",
    "\n",
    "# rushing yards per attempt each year\n",
    "\n",
    "ff_all['avg_per_rush19'] = ff_all['RushingYds_19'] / ff_all['RushingAtt_19']\n",
    "ff_all['avg_per_rush20'] = ff_all['RushingYds_20'] / ff_all['RushingAtt_20']\n",
    "\n",
    "# rec yards per catch each year\n",
    "\n",
    "ff_all['avg_per_catch19'] = ff_all['ReceivingYds_19'] / ff_all['Rec_19']\n",
    "ff_all['avg_per_catch20'] = ff_all['ReceivingYds_20'] / ff_all['Rec_20']\n",
    "\n",
    "# rec yards per target each year\n",
    "\n",
    "ff_all['avg_per_tgt19'] = ff_all['ReceivingYds_19'] / ff_all['Tgt_19']\n",
    "ff_all['avg_per_tgt20'] = ff_all['ReceivingYds_20'] / ff_all['Tgt_20']\n",
    "\n",
    "# total touches \n",
    "\n",
    "ff_all['ttl_touch19'] = ff_all['RushingAtt_19'] + ff_all['Rec_19']\n",
    "ff_all['ttl_touch20'] = ff_all['RushingAtt_20'] + ff_all['Rec_20']\n",
    "\n",
    "# total opportunities\n",
    "# defining opportunity as a target, rushing attempt and passing attempt\n",
    "\n",
    "ff_all['ttl_opp19'] = ff_all['RushingAtt_19'] + ff_all['Tgt_19'] + ff_all['PassingAtt_19']\n",
    "ff_all['ttl_opp20'] = ff_all['RushingAtt_20'] + ff_all['Tgt_20'] + ff_all['PassingAtt_20']\n",
    "\n",
    "\n",
    "# total opportunities per game\n",
    "\n",
    "ff_all['ttl_opp_per_game19'] = ff_all['ttl_opp19'] / ff_all['G_19']\n",
    "ff_all['ttl_opp_per_game20'] = ff_all['ttl_opp20'] / ff_all['G_20']\n",
    "\n",
    "# yards per opportunity\n",
    "\n",
    "ff_all['yds_per_opp19'] = (ff_all['ReceivingYds_19'] + ff_all['RushingYds_19'] + ff_all['PassingYds_19']) / ff_all['ttl_opp19']\n",
    "ff_all['yds_per_opp20'] = (ff_all['ReceivingYds_20'] + ff_all['RushingYds_20'] + ff_all['PassingYds_20']) / ff_all['ttl_opp20']\n",
    "\n",
    "# touchdowns per opportunity\n",
    "\n",
    "ff_all['td_per_opp19'] = (ff_all['ReceivingTD_19'] + ff_all['RushingTD_19'] + ff_all['PassingTD_19']) / ff_all['ttl_opp19']\n",
    "ff_all['td_per_opp20'] = (ff_all['ReceivingTD_20'] + ff_all['RushingTD_20'] + ff_all['PassingTD_20']) / ff_all['ttl_opp20']\n",
    "\n",
    "\n",
    "# turnovers per opportunity\n",
    "\n",
    "ff_all['turnover_per_opp19'] = (ff_all['Int_19'] + ff_all['FumblesLost_19']) / ff_all['ttl_opp19']\n",
    "ff_all['turnover_per_opp20'] = (ff_all['Int_20'] + ff_all['FumblesLost_20']) / ff_all['ttl_opp20']\n",
    "\n",
    "# fantasy points per opportunity\n",
    "\n",
    "ff_all['fp_per_opp19'] = ff_all['FantasyPoints_19'] / ff_all['ttl_opp19']\n",
    "ff_all['fp_per_opp20'] = ff_all['FantasyPoints_20'] / ff_all['ttl_opp20']\n",
    "\n",
    "# fantasy points per game\n",
    "\n",
    "ff_all['fp_per_gm19'] = ff_all['FantasyPoints_19'] / ff_all['G_19']\n",
    "ff_all['fp_per_gm20'] = ff_all['FantasyPoints_20'] / ff_all['G_20']\n",
    "ff_all['fp_per_gm21'] = ff_all['FantasyPoints_21'] / ff_all['G_21']\n"
   ]
  },
  {
   "cell_type": "code",
   "execution_count": 242,
   "id": "10fc8198",
   "metadata": {},
   "outputs": [
    {
     "data": {
      "text/plain": [
       "Index(['key_0', 'Player_19', 'Tm_19', 'Pos_19', 'Age_19', 'G_19', 'GS_19',\n",
       "       'Tgt_19', 'Rec_19', 'PassingYds_19', 'PassingTD_19', 'PassingAtt_19',\n",
       "       'RushingYds_19', 'RushingTD_19', 'RushingAtt_19', 'ReceivingYds_19',\n",
       "       'ReceivingTD_19', 'FantasyPoints_19', 'Int_19', 'Fumbles_19',\n",
       "       'FumblesLost_19', 'Player_20', 'Tm_20', 'Pos_20', 'Age_20', 'G_20',\n",
       "       'GS_20', 'Tgt_20', 'Rec_20', 'PassingYds_20', 'PassingTD_20',\n",
       "       'PassingAtt_20', 'RushingYds_20', 'RushingTD_20', 'RushingAtt_20',\n",
       "       'ReceivingYds_20', 'ReceivingTD_20', 'FantasyPoints_20', 'Int_20',\n",
       "       'Fumbles_20', 'FumblesLost_20', 'Player_21', 'Tm_21', 'Pos_21',\n",
       "       'Age_21', 'G_21', 'GS_21', 'Tgt_21', 'Rec_21', 'PassingYds_21',\n",
       "       'PassingTD_21', 'PassingAtt_21', 'RushingYds_21', 'RushingTD_21',\n",
       "       'RushingAtt_21', 'ReceivingYds_21', 'ReceivingTD_21',\n",
       "       'FantasyPoints_21', 'Int_21', 'Fumbles_21', 'FumblesLost_21',\n",
       "       'rookie21', 'rookie20', 'pct_gs19', 'pct_gs20', 'avg_per_rush19',\n",
       "       'avg_per_rush20', 'avg_per_catch19', 'avg_per_catch20', 'avg_per_tgt19',\n",
       "       'avg_per_tgt20', 'ttl_touch19', 'ttl_touch20', 'ttl_opp19', 'ttl_opp20',\n",
       "       'ttl_opp_per_game19', 'ttl_opp_per_game20', 'yds_per_opp19',\n",
       "       'yds_per_opp20', 'td_per_opp19', 'td_per_opp20', 'turnover_per_opp19',\n",
       "       'turnover_per_opp20', 'fp_per_opp19', 'fp_per_opp20', 'fp_per_gm19',\n",
       "       'fp_per_gm20', 'fp_per_gm21'],\n",
       "      dtype='object')"
      ]
     },
     "execution_count": 242,
     "metadata": {},
     "output_type": "execute_result"
    }
   ],
   "source": [
    "ff_all.columns"
   ]
  },
  {
   "cell_type": "code",
   "execution_count": 250,
   "id": "9f05ab2a",
   "metadata": {},
   "outputs": [],
   "source": [
    "# creating DF with only most of 21's stats gone, only with '21 fantasy points and fp/game, as that will be what we're predicting\n",
    "# getting rid of other repetitive columns\n",
    "\n",
    "ff_all_19_20 = ff_all.drop(['Player_19', 'Age_19', 'Player_20', 'Pos_19', 'Pos_20', 'Age_20', \n",
    "                           'G_21', 'GS_21', 'Tgt_21', 'Rec_21', 'PassingYds_21', 'PassingTD_21', 'PassingAtt_21', 'RushingYds_21', \n",
    "                            'RushingTD_21', 'RushingAtt_21', 'ReceivingYds_21', 'ReceivingTD_21',\n",
    "                           'Int_21', 'Fumbles_21', 'FumblesLost_21'], axis = 1)"
   ]
  },
  {
   "cell_type": "code",
   "execution_count": 251,
   "id": "23abbc73",
   "metadata": {},
   "outputs": [],
   "source": [
    "# split up by position\n",
    "\n",
    "ff_rb = ff_all_19_20.loc[ff_all['Pos_21'] == 'RB']\n",
    "ff_wr = ff_all_19_20.loc[ff_all['Pos_21'] == 'WR']\n",
    "ff_qb = ff_all_19_20.loc[ff_all['Pos_21'] == 'QB']\n",
    "ff_te = ff_all_19_20.loc[ff_all['Pos_21'] == 'TE']"
   ]
  },
  {
   "cell_type": "markdown",
   "id": "f4c596ae",
   "metadata": {},
   "source": [
    "Data is now separated by position; with stats from 2019, 2020, and 2021 all under each name.\n",
    "\n",
    "Another thought -- should there be a minimum games played to be on?\n",
    "\n",
    "Let's make each position simpler, with the more relevant stats kept for each position.\n",
    "\n",
    "### For all: \n",
    "    - key_0, Age_21, Pos_21, Tm_19, Tm_20, Tm_21, pct_GS_19 (Create new variable), pct_GS_20 (create new variable)\n",
    "### RB:\n",
    "\n",
    "    - all but PassingYds_19, PassingTD_19, etc. Player_19, Player_20, Player_21\n",
    "    \n",
    "### WR:\n",
    "    - same as RB\n",
    "    \n",
    "### QB: \n",
    "    - all but receiving \n",
    "    \n",
    "### TE:\n",
    "    - all but rushing and passing\n"
   ]
  },
  {
   "cell_type": "code",
   "execution_count": 252,
   "id": "af144d3d",
   "metadata": {},
   "outputs": [
    {
     "data": {
      "text/plain": [
       "Index(['key_0', 'Tm_19', 'G_19', 'GS_19', 'Tgt_19', 'Rec_19', 'PassingYds_19',\n",
       "       'PassingTD_19', 'PassingAtt_19', 'RushingYds_19', 'RushingTD_19',\n",
       "       'RushingAtt_19', 'ReceivingYds_19', 'ReceivingTD_19',\n",
       "       'FantasyPoints_19', 'Int_19', 'Fumbles_19', 'FumblesLost_19', 'Tm_20',\n",
       "       'G_20', 'GS_20', 'Tgt_20', 'Rec_20', 'PassingYds_20', 'PassingTD_20',\n",
       "       'PassingAtt_20', 'RushingYds_20', 'RushingTD_20', 'RushingAtt_20',\n",
       "       'ReceivingYds_20', 'ReceivingTD_20', 'FantasyPoints_20', 'Int_20',\n",
       "       'Fumbles_20', 'FumblesLost_20', 'Player_21', 'Tm_21', 'Pos_21',\n",
       "       'Age_21', 'FantasyPoints_21', 'rookie21', 'rookie20', 'pct_gs19',\n",
       "       'pct_gs20', 'avg_per_rush19', 'avg_per_rush20', 'avg_per_catch19',\n",
       "       'avg_per_catch20', 'avg_per_tgt19', 'avg_per_tgt20', 'ttl_touch19',\n",
       "       'ttl_touch20', 'ttl_opp19', 'ttl_opp20', 'ttl_opp_per_game19',\n",
       "       'ttl_opp_per_game20', 'yds_per_opp19', 'yds_per_opp20', 'td_per_opp19',\n",
       "       'td_per_opp20', 'turnover_per_opp19', 'turnover_per_opp20',\n",
       "       'fp_per_opp19', 'fp_per_opp20', 'fp_per_gm19', 'fp_per_gm20',\n",
       "       'fp_per_gm21'],\n",
       "      dtype='object')"
      ]
     },
     "execution_count": 252,
     "metadata": {},
     "output_type": "execute_result"
    }
   ],
   "source": [
    "ff_rb.columns"
   ]
  },
  {
   "cell_type": "code",
   "execution_count": 253,
   "id": "3c8bd14c",
   "metadata": {},
   "outputs": [],
   "source": [
    "# let's make simpler \n",
    "\n",
    "ff_rb_pts = ff_rb.drop(['PassingYds_19', 'PassingTD_19', 'PassingAtt_19', 'Int_19',\n",
    "                        'PassingYds_20', 'PassingTD_20', 'PassingAtt_20', 'Int_20'], axis = 1)\n",
    "\n",
    "ff_wr_pts = ff_wr.drop(['PassingYds_19', 'PassingTD_19', 'PassingAtt_19', 'Int_19',\n",
    "                          'PassingYds_20', 'PassingTD_20', 'PassingAtt_20', 'Int_20'], axis = 1)\n",
    "\n",
    "ff_qb_pts = ff_qb.drop(['Tgt_19', 'Rec_19', 'ReceivingYds_19', 'ReceivingTD_19',\n",
    "                       'Tgt_20', 'Rec_20', 'ReceivingYds_20', 'ReceivingTD_20',\n",
    "                       'avg_per_catch19', 'avg_per_catch20', 'avg_per_tgt19', 'avg_per_tgt20'], axis = 1)\n",
    "\n",
    "\n",
    "ff_te_pts = ff_te.drop(['PassingYds_19', 'PassingTD_19', 'PassingAtt_19', 'Int_19',\n",
    "                        'PassingYds_20', 'PassingTD_20', 'PassingAtt_20', 'Int_20',\n",
    "                       'RushingYds_19', 'RushingAtt_19', 'RushingTD_19', 'avg_per_rush19', 'avg_per_rush20'], axis = 1)\n",
    "\n"
   ]
  },
  {
   "cell_type": "code",
   "execution_count": 254,
   "id": "da281ada",
   "metadata": {
    "scrolled": true
   },
   "outputs": [
    {
     "data": {
      "text/html": [
       "<div>\n",
       "<style scoped>\n",
       "    .dataframe tbody tr th:only-of-type {\n",
       "        vertical-align: middle;\n",
       "    }\n",
       "\n",
       "    .dataframe tbody tr th {\n",
       "        vertical-align: top;\n",
       "    }\n",
       "\n",
       "    .dataframe thead th {\n",
       "        text-align: right;\n",
       "    }\n",
       "</style>\n",
       "<table border=\"1\" class=\"dataframe\">\n",
       "  <thead>\n",
       "    <tr style=\"text-align: right;\">\n",
       "      <th></th>\n",
       "      <th>key_0</th>\n",
       "      <th>Tm_19</th>\n",
       "      <th>G_19</th>\n",
       "      <th>GS_19</th>\n",
       "      <th>Tgt_19</th>\n",
       "      <th>Rec_19</th>\n",
       "      <th>RushingYds_19</th>\n",
       "      <th>RushingTD_19</th>\n",
       "      <th>RushingAtt_19</th>\n",
       "      <th>ReceivingYds_19</th>\n",
       "      <th>...</th>\n",
       "      <th>yds_per_opp20</th>\n",
       "      <th>td_per_opp19</th>\n",
       "      <th>td_per_opp20</th>\n",
       "      <th>turnover_per_opp19</th>\n",
       "      <th>turnover_per_opp20</th>\n",
       "      <th>fp_per_opp19</th>\n",
       "      <th>fp_per_opp20</th>\n",
       "      <th>fp_per_gm19</th>\n",
       "      <th>fp_per_gm20</th>\n",
       "      <th>fp_per_gm21</th>\n",
       "    </tr>\n",
       "  </thead>\n",
       "  <tbody>\n",
       "    <tr>\n",
       "      <th>0</th>\n",
       "      <td>Christian McCaffrey</td>\n",
       "      <td>CAR</td>\n",
       "      <td>16.0</td>\n",
       "      <td>16.0</td>\n",
       "      <td>142.0</td>\n",
       "      <td>116.0</td>\n",
       "      <td>1387.0</td>\n",
       "      <td>15.0</td>\n",
       "      <td>287.0</td>\n",
       "      <td>1005.0</td>\n",
       "      <td>...</td>\n",
       "      <td>4.794872</td>\n",
       "      <td>0.044084</td>\n",
       "      <td>0.076923</td>\n",
       "      <td>0.000000</td>\n",
       "      <td>0.000000</td>\n",
       "      <td>1.088631</td>\n",
       "      <td>0.935897</td>\n",
       "      <td>29.325000</td>\n",
       "      <td>24.333333</td>\n",
       "      <td>13.000000</td>\n",
       "    </tr>\n",
       "    <tr>\n",
       "      <th>2</th>\n",
       "      <td>Derrick Henry</td>\n",
       "      <td>TEN</td>\n",
       "      <td>15.0</td>\n",
       "      <td>15.0</td>\n",
       "      <td>24.0</td>\n",
       "      <td>18.0</td>\n",
       "      <td>1540.0</td>\n",
       "      <td>16.0</td>\n",
       "      <td>303.0</td>\n",
       "      <td>206.0</td>\n",
       "      <td>...</td>\n",
       "      <td>5.234719</td>\n",
       "      <td>0.055046</td>\n",
       "      <td>0.041565</td>\n",
       "      <td>0.009174</td>\n",
       "      <td>0.004890</td>\n",
       "      <td>0.900917</td>\n",
       "      <td>0.767726</td>\n",
       "      <td>19.640000</td>\n",
       "      <td>19.625000</td>\n",
       "      <td>21.875000</td>\n",
       "    </tr>\n",
       "    <tr>\n",
       "      <th>3</th>\n",
       "      <td>Aaron Jones</td>\n",
       "      <td>GNB</td>\n",
       "      <td>16.0</td>\n",
       "      <td>16.0</td>\n",
       "      <td>68.0</td>\n",
       "      <td>49.0</td>\n",
       "      <td>1084.0</td>\n",
       "      <td>16.0</td>\n",
       "      <td>236.0</td>\n",
       "      <td>474.0</td>\n",
       "      <td>...</td>\n",
       "      <td>5.526515</td>\n",
       "      <td>0.062500</td>\n",
       "      <td>0.041667</td>\n",
       "      <td>0.006579</td>\n",
       "      <td>0.000000</td>\n",
       "      <td>1.035526</td>\n",
       "      <td>0.803030</td>\n",
       "      <td>19.675000</td>\n",
       "      <td>15.142857</td>\n",
       "      <td>11.800000</td>\n",
       "    </tr>\n",
       "    <tr>\n",
       "      <th>4</th>\n",
       "      <td>Ezekiel Elliott</td>\n",
       "      <td>DAL</td>\n",
       "      <td>16.0</td>\n",
       "      <td>16.0</td>\n",
       "      <td>71.0</td>\n",
       "      <td>54.0</td>\n",
       "      <td>1357.0</td>\n",
       "      <td>12.0</td>\n",
       "      <td>301.0</td>\n",
       "      <td>420.0</td>\n",
       "      <td>...</td>\n",
       "      <td>4.180952</td>\n",
       "      <td>0.037634</td>\n",
       "      <td>0.025397</td>\n",
       "      <td>0.005376</td>\n",
       "      <td>0.015873</td>\n",
       "      <td>0.837903</td>\n",
       "      <td>0.546032</td>\n",
       "      <td>19.481250</td>\n",
       "      <td>11.466667</td>\n",
       "      <td>12.058824</td>\n",
       "    </tr>\n",
       "    <tr>\n",
       "      <th>5</th>\n",
       "      <td>Dalvin Cook</td>\n",
       "      <td>MIN</td>\n",
       "      <td>14.0</td>\n",
       "      <td>14.0</td>\n",
       "      <td>63.0</td>\n",
       "      <td>53.0</td>\n",
       "      <td>1135.0</td>\n",
       "      <td>13.0</td>\n",
       "      <td>250.0</td>\n",
       "      <td>519.0</td>\n",
       "      <td>...</td>\n",
       "      <td>5.240437</td>\n",
       "      <td>0.041534</td>\n",
       "      <td>0.046448</td>\n",
       "      <td>0.006390</td>\n",
       "      <td>0.008197</td>\n",
       "      <td>0.934185</td>\n",
       "      <td>0.803279</td>\n",
       "      <td>20.885714</td>\n",
       "      <td>21.000000</td>\n",
       "      <td>13.230769</td>\n",
       "    </tr>\n",
       "  </tbody>\n",
       "</table>\n",
       "<p>5 rows × 59 columns</p>\n",
       "</div>"
      ],
      "text/plain": [
       "                 key_0 Tm_19  G_19  GS_19  Tgt_19  Rec_19  RushingYds_19  \\\n",
       "0  Christian McCaffrey   CAR  16.0   16.0   142.0   116.0         1387.0   \n",
       "2        Derrick Henry   TEN  15.0   15.0    24.0    18.0         1540.0   \n",
       "3          Aaron Jones   GNB  16.0   16.0    68.0    49.0         1084.0   \n",
       "4      Ezekiel Elliott   DAL  16.0   16.0    71.0    54.0         1357.0   \n",
       "5          Dalvin Cook   MIN  14.0   14.0    63.0    53.0         1135.0   \n",
       "\n",
       "   RushingTD_19  RushingAtt_19  ReceivingYds_19  ...  yds_per_opp20  \\\n",
       "0          15.0          287.0           1005.0  ...       4.794872   \n",
       "2          16.0          303.0            206.0  ...       5.234719   \n",
       "3          16.0          236.0            474.0  ...       5.526515   \n",
       "4          12.0          301.0            420.0  ...       4.180952   \n",
       "5          13.0          250.0            519.0  ...       5.240437   \n",
       "\n",
       "   td_per_opp19  td_per_opp20  turnover_per_opp19 turnover_per_opp20  \\\n",
       "0      0.044084      0.076923            0.000000           0.000000   \n",
       "2      0.055046      0.041565            0.009174           0.004890   \n",
       "3      0.062500      0.041667            0.006579           0.000000   \n",
       "4      0.037634      0.025397            0.005376           0.015873   \n",
       "5      0.041534      0.046448            0.006390           0.008197   \n",
       "\n",
       "   fp_per_opp19  fp_per_opp20  fp_per_gm19  fp_per_gm20  fp_per_gm21  \n",
       "0      1.088631      0.935897    29.325000    24.333333    13.000000  \n",
       "2      0.900917      0.767726    19.640000    19.625000    21.875000  \n",
       "3      1.035526      0.803030    19.675000    15.142857    11.800000  \n",
       "4      0.837903      0.546032    19.481250    11.466667    12.058824  \n",
       "5      0.934185      0.803279    20.885714    21.000000    13.230769  \n",
       "\n",
       "[5 rows x 59 columns]"
      ]
     },
     "execution_count": 254,
     "metadata": {},
     "output_type": "execute_result"
    }
   ],
   "source": [
    "ff_rb_pts.head()"
   ]
  },
  {
   "cell_type": "markdown",
   "id": "99582b9b",
   "metadata": {},
   "source": [
    "## Data Exploration"
   ]
  },
  {
   "cell_type": "markdown",
   "id": "7c212b12",
   "metadata": {},
   "source": [
    "### QB"
   ]
  },
  {
   "cell_type": "code",
   "execution_count": 199,
   "id": "9db83ee4",
   "metadata": {},
   "outputs": [
    {
     "data": {
      "text/plain": [
       "Text(0, 0.5, 'RB Fantasy points per game current season (2021)')"
      ]
     },
     "execution_count": 199,
     "metadata": {},
     "output_type": "execute_result"
    },
    {
     "data": {
      "image/png": "[encoded data removed]",
      "text/plain": [
       "<Figure size 432x288 with 1 Axes>"
      ]
     },
     "metadata": {
      "needs_background": "light"
     },
     "output_type": "display_data"
    }
   ],
   "source": [
    "plt.scatter(ff_qb_pts['fp_per_gm20'], ff_qb_pts['fp_per_gm21'], s = ff_qb_pts['GS_20'])\n",
    "plt.legend(ff_qb_pts['GS_20']) ## Need to figure out how to add a good legend in\n",
    "plt.xlabel('RB Fantasy points per game previous season (2020)')\n",
    "plt.ylabel('RB Fantasy points per game current season (2021)')"
   ]
  },
  {
   "cell_type": "code",
   "execution_count": 200,
   "id": "33605858",
   "metadata": {},
   "outputs": [
    {
     "data": {
      "text/plain": [
       "Text(0, 0.5, 'QB Fantasy points per game current season (2021)')"
      ]
     },
     "execution_count": 200,
     "metadata": {},
     "output_type": "execute_result"
    },
    {
     "data": {
      "image/png": "[encoded data removed]",
      "text/plain": [
       "<Figure size 432x288 with 1 Axes>"
      ]
     },
     "metadata": {
      "needs_background": "light"
     },
     "output_type": "display_data"
    }
   ],
   "source": [
    "plt.scatter(ff_qb_pts['fp_per_opp20'], ff_qb_pts['fp_per_gm21'])\n",
    "plt.xlabel('QB Fantasy points per opportunity previous season (2020)')\n",
    "plt.ylabel('QB Fantasy points per game current season (2021)')"
   ]
  },
  {
   "cell_type": "code",
   "execution_count": 259,
   "id": "b70f715b",
   "metadata": {},
   "outputs": [
    {
     "data": {
      "text/plain": [
       "Text(0, 0.5, 'QB Fantasy points in previous season (2020)')"
      ]
     },
     "execution_count": 259,
     "metadata": {},
     "output_type": "execute_result"
    },
    {
     "data": {
      "image/png": "[encoded data removed]",
      "text/plain": [
       "<Figure size 432x288 with 1 Axes>"
      ]
     },
     "metadata": {
      "needs_background": "light"
     },
     "output_type": "display_data"
    }
   ],
   "source": [
    "plt.scatter(ff_qb_pts['ttl_opp20'], ff_qb_pts['FantasyPoints_20'])\n",
    "plt.xlabel('QB total opportunity previous season (2020)')\n",
    "plt.ylabel('QB Fantasy points in previous season (2020)')"
   ]
  },
  {
   "cell_type": "code",
   "execution_count": 260,
   "id": "e0f097b4",
   "metadata": {},
   "outputs": [
    {
     "data": {
      "text/plain": [
       "<AxesSubplot:>"
      ]
     },
     "execution_count": 260,
     "metadata": {},
     "output_type": "execute_result"
    },
    {
     "data": {
      "image/png": "[encoded data removed]",
      "text/plain": [
       "<Figure size 432x288 with 2 Axes>"
      ]
     },
     "metadata": {
      "needs_background": "light"
     },
     "output_type": "display_data"
    }
   ],
   "source": [
    "sns.heatmap(ff_qb_pts[['fp_per_gm19','fp_per_gm20', 'fp_per_opp19', 'fp_per_opp20', 'ttl_opp19', 'ttl_opp20', 'rookie20',\n",
    "                       'rookie21',\n",
    "                       'fp_per_gm21']].corr())"
   ]
  },
  {
   "cell_type": "markdown",
   "id": "2f88f5a6",
   "metadata": {},
   "source": [
    "### RB"
   ]
  },
  {
   "cell_type": "code",
   "execution_count": 256,
   "id": "03651a26",
   "metadata": {},
   "outputs": [
    {
     "data": {
      "text/plain": [
       "count    135.0\n",
       "mean       0.0\n",
       "std        0.0\n",
       "min        0.0\n",
       "25%        0.0\n",
       "50%        0.0\n",
       "75%        0.0\n",
       "max        0.0\n",
       "Name: rookie21, dtype: float64"
      ]
     },
     "execution_count": 256,
     "metadata": {},
     "output_type": "execute_result"
    }
   ],
   "source": [
    "ff_rb_pts['rookie21'].describe()"
   ]
  },
  {
   "cell_type": "code",
   "execution_count": 198,
   "id": "413d41f9",
   "metadata": {},
   "outputs": [
    {
     "data": {
      "text/plain": [
       "Text(0, 0.5, 'RB Fantasy points per game current season (2021)')"
      ]
     },
     "execution_count": 198,
     "metadata": {},
     "output_type": "execute_result"
    },
    {
     "data": {
      "image/png": "[encoded data removed]",
      "text/plain": [
       "<Figure size 432x288 with 1 Axes>"
      ]
     },
     "metadata": {
      "needs_background": "light"
     },
     "output_type": "display_data"
    }
   ],
   "source": [
    "plt.scatter(ff_rb_pts['fp_per_gm20'], ff_rb_pts['fp_per_gm21'], s = ff_rb_pts['GS_20'])\n",
    "plt.legend(ff_rb_pts['GS_20']) ## Need to figure out how to add a good legend in\n",
    "plt.xlabel('RB Fantasy points per game previous season (2020)')\n",
    "plt.ylabel('RB Fantasy points per game current season (2021)')"
   ]
  },
  {
   "cell_type": "markdown",
   "id": "ceb1d3aa",
   "metadata": {},
   "source": [
    "The players with possibly most value are the ones lower on the x axis, but higher on y axis"
   ]
  },
  {
   "cell_type": "code",
   "execution_count": 176,
   "id": "a7af9f01",
   "metadata": {},
   "outputs": [
    {
     "data": {
      "text/plain": [
       "Text(0, 0.5, 'RB Fantasy points per game current season (2021)')"
      ]
     },
     "execution_count": 176,
     "metadata": {},
     "output_type": "execute_result"
    },
    {
     "data": {
      "image/png": "[encoded data removed]",
      "text/plain": [
       "<Figure size 432x288 with 1 Axes>"
      ]
     },
     "metadata": {
      "needs_background": "light"
     },
     "output_type": "display_data"
    }
   ],
   "source": [
    "plt.scatter(ff_rb_pts['fp_per_opp20'], ff_rb_pts['fp_per_gm21'])\n",
    "plt.xlabel('RB Fantasy points per opportunity previous season (2020)')\n",
    "plt.ylabel('RB Fantasy points per game current season (2021)')"
   ]
  },
  {
   "cell_type": "markdown",
   "id": "08a03f9c",
   "metadata": {},
   "source": [
    "There appear to be some outliers in fantasy points per opportunity"
   ]
  },
  {
   "cell_type": "code",
   "execution_count": 187,
   "id": "254231be",
   "metadata": {},
   "outputs": [
    {
     "data": {
      "text/plain": [
       "Text(0, 0.5, 'RB Fantasy points in previous season (2020)')"
      ]
     },
     "execution_count": 187,
     "metadata": {},
     "output_type": "execute_result"
    },
    {
     "data": {
      "image/png": "[encoded data removed]",
      "text/plain": [
       "<Figure size 432x288 with 1 Axes>"
      ]
     },
     "metadata": {
      "needs_background": "light"
     },
     "output_type": "display_data"
    }
   ],
   "source": [
    "plt.scatter(ff_rb_pts['ttl_opp20'], ff_rb_pts['FantasyPoints_20'])\n",
    "plt.xlabel('RB total opportunity previous season (2020)')\n",
    "plt.ylabel('RB Fantasy points in previous season (2020)')"
   ]
  },
  {
   "cell_type": "code",
   "execution_count": 245,
   "id": "ab53c589",
   "metadata": {},
   "outputs": [
    {
     "data": {
      "text/plain": [
       "<AxesSubplot:>"
      ]
     },
     "execution_count": 245,
     "metadata": {},
     "output_type": "execute_result"
    },
    {
     "data": {
      "image/png": "[encoded data removed]",
      "text/plain": [
       "<Figure size 432x288 with 2 Axes>"
      ]
     },
     "metadata": {
      "needs_background": "light"
     },
     "output_type": "display_data"
    }
   ],
   "source": [
    "sns.heatmap(ff_rb_pts[['fp_per_gm19','fp_per_gm20', 'fp_per_opp19', 'fp_per_opp20', 'ttl_opp19', 'ttl_opp20', 'rookie20',\n",
    "                       'rookie21',\n",
    "                       'fp_per_gm21']].corr())"
   ]
  },
  {
   "cell_type": "markdown",
   "id": "529a78bb",
   "metadata": {},
   "source": [
    "### WR"
   ]
  },
  {
   "cell_type": "code",
   "execution_count": 178,
   "id": "4cfa0155",
   "metadata": {},
   "outputs": [
    {
     "data": {
      "text/plain": [
       "Text(0, 0.5, 'WR Fantasy points per game current season (2021)')"
      ]
     },
     "execution_count": 178,
     "metadata": {},
     "output_type": "execute_result"
    },
    {
     "data": {
      "image/png": "[encoded data removed]",
      "text/plain": [
       "<Figure size 432x288 with 1 Axes>"
      ]
     },
     "metadata": {
      "needs_background": "light"
     },
     "output_type": "display_data"
    }
   ],
   "source": [
    "plt.scatter(ff_wr_pts['fp_per_gm20'], ff_wr_pts['fp_per_gm21'])\n",
    "plt.xlabel('WR Fantasy points per game previous season (2020)')\n",
    "plt.ylabel('WR Fantasy points per game current season (2021)')"
   ]
  },
  {
   "cell_type": "code",
   "execution_count": 181,
   "id": "8ba964a7",
   "metadata": {},
   "outputs": [
    {
     "data": {
      "text/plain": [
       "Text(0, 0.5, 'WR Fantasy points per game current season (2021)')"
      ]
     },
     "execution_count": 181,
     "metadata": {},
     "output_type": "execute_result"
    },
    {
     "data": {
      "image/png": "[encoded data removed]",
      "text/plain": [
       "<Figure size 432x288 with 1 Axes>"
      ]
     },
     "metadata": {
      "needs_background": "light"
     },
     "output_type": "display_data"
    }
   ],
   "source": [
    "plt.scatter(ff_wr_pts['fp_per_opp20'], ff_wr_pts['fp_per_gm21'])\n",
    "plt.xlabel('WR Fantasy points per opp previous season (2020)')\n",
    "plt.ylabel('WR Fantasy points per game current season (2021)')"
   ]
  },
  {
   "cell_type": "code",
   "execution_count": 184,
   "id": "38b91627",
   "metadata": {},
   "outputs": [
    {
     "data": {
      "text/plain": [
       "<matplotlib.collections.PathCollection at 0x113245a8cd0>"
      ]
     },
     "execution_count": 184,
     "metadata": {},
     "output_type": "execute_result"
    },
    {
     "data": {
      "image/png": "[encoded data removed]",
      "text/plain": [
       "<Figure size 432x288 with 1 Axes>"
      ]
     },
     "metadata": {
      "needs_background": "light"
     },
     "output_type": "display_data"
    }
   ],
   "source": [
    "plt.scatter(ff_wr_pts['pct_gs20'], ff_wr_pts['fp_per_gm21'])"
   ]
  },
  {
   "cell_type": "code",
   "execution_count": 261,
   "id": "86aa4328",
   "metadata": {},
   "outputs": [
    {
     "data": {
      "text/plain": [
       "Text(0, 0.5, 'WR Fantasy points in previous season (2020)')"
      ]
     },
     "execution_count": 261,
     "metadata": {},
     "output_type": "execute_result"
    },
    {
     "data": {
      "image/png": "[encoded data removed]",
      "text/plain": [
       "<Figure size 432x288 with 1 Axes>"
      ]
     },
     "metadata": {
      "needs_background": "light"
     },
     "output_type": "display_data"
    }
   ],
   "source": [
    "plt.scatter(ff_wr_pts['ttl_opp20'], ff_wr_pts['FantasyPoints_20'])\n",
    "plt.xlabel('WR total opportunity previous season (2020)')\n",
    "plt.ylabel('WR Fantasy points in previous season (2020)')"
   ]
  },
  {
   "cell_type": "code",
   "execution_count": 262,
   "id": "2e31ac3a",
   "metadata": {},
   "outputs": [
    {
     "data": {
      "text/plain": [
       "<AxesSubplot:>"
      ]
     },
     "execution_count": 262,
     "metadata": {},
     "output_type": "execute_result"
    },
    {
     "data": {
      "image/png": "[encoded data removed]",
      "text/plain": [
       "<Figure size 432x288 with 2 Axes>"
      ]
     },
     "metadata": {
      "needs_background": "light"
     },
     "output_type": "display_data"
    }
   ],
   "source": [
    "sns.heatmap(ff_wr_pts[['fp_per_gm19','fp_per_gm20', 'fp_per_opp19', 'fp_per_opp20', 'ttl_opp19', 'ttl_opp20', 'rookie20',\n",
    "                       'rookie21',\n",
    "                       'fp_per_gm21']].corr())"
   ]
  },
  {
   "cell_type": "markdown",
   "id": "973aaa6c",
   "metadata": {},
   "source": [
    "### TE"
   ]
  },
  {
   "cell_type": "code",
   "execution_count": 263,
   "id": "c18b2f7d",
   "metadata": {},
   "outputs": [
    {
     "data": {
      "text/plain": [
       "Text(0, 0.5, 'TE Fantasy points per game current season (2021)')"
      ]
     },
     "execution_count": 263,
     "metadata": {},
     "output_type": "execute_result"
    },
    {
     "data": {
      "image/png": "[encoded data removed]",
      "text/plain": [
       "<Figure size 432x288 with 1 Axes>"
      ]
     },
     "metadata": {
      "needs_background": "light"
     },
     "output_type": "display_data"
    }
   ],
   "source": [
    "plt.scatter(ff_te_pts['fp_per_gm20'], ff_te_pts['fp_per_gm21'])\n",
    "plt.xlabel('TE Fantasy points per game previous season (2020)')\n",
    "plt.ylabel('TE Fantasy points per game current season (2021)')"
   ]
  },
  {
   "cell_type": "code",
   "execution_count": 264,
   "id": "2a190b2a",
   "metadata": {},
   "outputs": [
    {
     "data": {
      "text/plain": [
       "Text(0, 0.5, 'TE Fantasy points per game current season (2021)')"
      ]
     },
     "execution_count": 264,
     "metadata": {},
     "output_type": "execute_result"
    },
    {
     "data": {
      "image/png": "[encoded data removed]",
      "text/plain": [
       "<Figure size 432x288 with 1 Axes>"
      ]
     },
     "metadata": {
      "needs_background": "light"
     },
     "output_type": "display_data"
    }
   ],
   "source": [
    "plt.scatter(ff_te_pts['fp_per_opp20'], ff_te_pts['fp_per_gm21'])\n",
    "plt.xlabel('TE Fantasy points per opportunity previous season (2020)')\n",
    "plt.ylabel('TE Fantasy points per game current season (2021)')"
   ]
  },
  {
   "cell_type": "code",
   "execution_count": 266,
   "id": "58fddc93",
   "metadata": {},
   "outputs": [
    {
     "data": {
      "text/plain": [
       "Text(0, 0.5, 'TE Fantasy points previous season (2020)')"
      ]
     },
     "execution_count": 266,
     "metadata": {},
     "output_type": "execute_result"
    },
    {
     "data": {
      "image/png": "[encoded data removed]",
      "text/plain": [
       "<Figure size 432x288 with 1 Axes>"
      ]
     },
     "metadata": {
      "needs_background": "light"
     },
     "output_type": "display_data"
    }
   ],
   "source": [
    "plt.scatter(ff_te_pts['ttl_opp20'], ff_te_pts['FantasyPoints_20'])\n",
    "plt.xlabel('TE opportunity previous season (2020)')\n",
    "plt.ylabel('TE Fantasy points previous season (2020)')"
   ]
  },
  {
   "cell_type": "code",
   "execution_count": 267,
   "id": "dfe475c7",
   "metadata": {},
   "outputs": [
    {
     "data": {
      "text/plain": [
       "Text(0, 0.5, 'TE Fantasy points previous season (2020)')"
      ]
     },
     "execution_count": 267,
     "metadata": {},
     "output_type": "execute_result"
    },
    {
     "data": {
      "image/png": "[encoded data removed]",
      "text/plain": [
       "<Figure size 432x288 with 1 Axes>"
      ]
     },
     "metadata": {
      "needs_background": "light"
     },
     "output_type": "display_data"
    }
   ],
   "source": [
    "plt.scatter(ff_te_pts['ttl_opp20'], ff_te_pts['FantasyPoints_21'])\n",
    "plt.xlabel('TE opportunity previous season (2020)')\n",
    "plt.ylabel('TE Fantasy points previous season (2020)')"
   ]
  },
  {
   "cell_type": "code",
   "execution_count": 269,
   "id": "c8806a95",
   "metadata": {},
   "outputs": [
    {
     "data": {
      "text/plain": [
       "<AxesSubplot:>"
      ]
     },
     "execution_count": 269,
     "metadata": {},
     "output_type": "execute_result"
    },
    {
     "data": {
      "image/png": "[encoded data removed]",
      "text/plain": [
       "<Figure size 432x288 with 2 Axes>"
      ]
     },
     "metadata": {
      "needs_background": "light"
     },
     "output_type": "display_data"
    }
   ],
   "source": [
    "sns.heatmap(ff_te_pts[['fp_per_gm19','fp_per_gm20', 'fp_per_opp19', 'fp_per_opp20', 'ttl_opp19', 'ttl_opp20', \n",
    "                       'fp_per_gm21']].corr())"
   ]
  },
  {
   "cell_type": "markdown",
   "id": "3f2ed613",
   "metadata": {},
   "source": [
    "## Initial Modeling"
   ]
  },
  {
   "cell_type": "code",
   "execution_count": null,
   "id": "9c220fa0",
   "metadata": {},
   "outputs": [],
   "source": []
  },
  {
   "cell_type": "code",
   "execution_count": null,
   "id": "5da98d94",
   "metadata": {},
   "outputs": [],
   "source": []
  },
  {
   "cell_type": "code",
   "execution_count": null,
   "id": "85924e79",
   "metadata": {},
   "outputs": [],
   "source": []
  },
  {
   "cell_type": "markdown",
   "id": "4b03b7b8",
   "metadata": {},
   "source": [
    "### Idea for next notebook/dataframe to combine with this\n",
    "Can we add more to these data frames, in terms of -- year in the league in '21, rookie contract or not, previous year team passing ranks, rushing ranks, qb play, OL play, etc."
   ]
  },
  {
   "cell_type": "code",
   "execution_count": null,
   "id": "9d3895ce",
   "metadata": {},
   "outputs": [],
   "source": []
  },
  {
   "cell_type": "code",
   "execution_count": null,
   "id": "a6a91ca0",
   "metadata": {},
   "outputs": [],
   "source": []
  },
  {
   "cell_type": "markdown",
   "id": "7bd9aed3",
   "metadata": {},
   "source": [
    "# need a dataset of predictor variables for final \n",
    "\n",
    "from bs4 import BeautifulSoup\n",
    "from urllib import request\n"
   ]
  },
  {
   "cell_type": "markdown",
   "id": "b91d8d27",
   "metadata": {},
   "source": [
    "# 2022 data or testing data\n",
    "\n",
    "r = request.get(\"https://www.pro-football-reference.com/years/2022/fantasy.htm\").read()\n",
    "soup = BeautifulSoup(website, 'lxml')\n",
    "\n",
    "table = soup.find('table', attrs={'id': 'fantasy','class': 'per_match_toggle'})\n",
    "\n",
    "table_headers = [header.text for header in table.find('thead').find_all('th')]\n",
    "table_rows = table.find_all('tr')\n",
    "\n",
    "player_data = [[td.getText() for tr in table_rows[i].findAll(['td','th'])] for i in table_rows]\n",
    "\n",
    "print(table_headers)\n",
    "df = pd.DataFrame(player_data,table_headers)\n",
    "\n",
    "df.head()"
   ]
  },
  {
   "cell_type": "code",
   "execution_count": null,
   "id": "2d574a8e",
   "metadata": {},
   "outputs": [],
   "source": []
  }
 ],
 "metadata": {
  "kernelspec": {
   "display_name": "Python 3 (ipykernel)",
   "language": "python",
   "name": "python3"
  },
  "language_info": {
   "codemirror_mode": {
    "name": "ipython",
    "version": 3
   },
   "file_extension": ".py",
   "mimetype": "text/x-python",
   "name": "python",
   "nbconvert_exporter": "python",
   "pygments_lexer": "ipython3",
   "version": "3.9.1"
  }
 },
 "nbformat": 4,
 "nbformat_minor": 5
}
