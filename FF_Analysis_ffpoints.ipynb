{
 "cells": [
  {
   "cell_type": "code",
   "execution_count": 241,
   "id": "dc764208",
   "metadata": {},
   "outputs": [],
   "source": [
    "import pandas as pd\n",
    "import numpy as np\n",
    "import matplotlib.pyplot as plt\n",
    "import seaborn as sns\n",
    "import nfl_data_py as nfl # package that works with NFL data sourced from nflfastR, nfldata, dynastyprocess, and Draft Scout.\n",
    "\n",
    "from bs4 import BeautifulSoup\n",
    "from urllib import request"
   ]
  },
  {
   "cell_type": "markdown",
   "id": "0edc65eb",
   "metadata": {},
   "source": [
    "\n",
    "\n",
    "website = request.urlopen(\"https://www.pro-football-reference.com/years/2021/fantasy.htm\").read()\n",
    "soup = BeautifulSoup(website, 'lxml')\n",
    "\n",
    "table = soup.find('table', attrs={'id': 'fantasy','class': 'per_match_toggle'})\n",
    "\n",
    "table_headers = [header.text for header in table.find('thead').find_all('th')]\n",
    "table_rows = table.find_all('tr')\n",
    "\n",
    "player_data = [[td.getText() for tr in table_rows[i].findAll(['td','th'])] for i in table_rows]\n",
    "\n",
    "print(table_headers)\n",
    "df = pd.DataFrame(player_data,table_headers)\n",
    "\n",
    "df.head()"
   ]
  },
  {
   "cell_type": "markdown",
   "id": "56482577",
   "metadata": {},
   "source": [
    "df = pd.DataFrame(df, columns = table_headers)"
   ]
  },
  {
   "cell_type": "code",
   "execution_count": 242,
   "id": "841ca659",
   "metadata": {},
   "outputs": [],
   "source": [
    "# fantasy football datasets; results from each season\n",
    "\n",
    "ff21 = pd.read_csv('https://raw.githubusercontent.com/fantasydatapros/data/master/yearly/2021.csv', index_col = 0)\n",
    "\n",
    "ff20 = pd.read_csv('https://raw.githubusercontent.com/fantasydatapros/data/master/yearly/2020.csv')\n",
    "\n",
    "ff19 = pd.read_csv('https://raw.githubusercontent.com/fantasydatapros/data/master/yearly/2019.csv', index_col = 0)\n",
    "\n",
    "\n",
    "# team stats and rankings from each game per season\n",
    "\n",
    "team19 = pd.read_csv(\"C:/Users/steph/OneDrive/Documents/Data Projects/2019_NFL_COMBINE.csv\", index_col = 0)\n",
    "team20 = pd.read_csv(\"C:/Users/steph/OneDrive/Documents/Data Projects/2020_NFL_COMBINE.csv\", index_col = 0)\n",
    "team21 = pd.read_csv(\"C:/Users/steph/OneDrive/Documents/Data Projects/2021_NFL_COMBINE.csv\", index_col = 0)\n",
    "\n",
    "# Incoming rookie data\n",
    "\n",
    "rosters = nfl.import_rosters([2019])\n",
    "\n",
    "rosters19 = nfl.import_rosters([2019], ['team', 'player_name','position', 'player_id', 'height', 'weight', 'years_exp', 'rookie_year'])\n",
    "\n",
    "rosters20 = nfl.import_rosters([2020], ['team', 'player_name', 'position', 'player_id', 'height', 'weight', 'years_exp', 'rookie_year'])\n",
    "\n",
    "rosters21 = nfl.import_rosters([2021], ['team', 'player_name', 'position', 'player_id', 'height', 'weight', 'years_exp', 'rookie_year'])\n",
    "\n",
    "\n",
    "# PFF Data (OL rankings, etc)\n",
    "\n",
    "\n",
    "# Injury Data?\n",
    "# contract data? years in the league? \n"
   ]
  },
  {
   "cell_type": "code",
   "execution_count": 243,
   "id": "ecea62dd",
   "metadata": {},
   "outputs": [
    {
     "data": {
      "text/html": [
       "<div>\n",
       "<style scoped>\n",
       "    .dataframe tbody tr th:only-of-type {\n",
       "        vertical-align: middle;\n",
       "    }\n",
       "\n",
       "    .dataframe tbody tr th {\n",
       "        vertical-align: top;\n",
       "    }\n",
       "\n",
       "    .dataframe thead th {\n",
       "        text-align: right;\n",
       "    }\n",
       "</style>\n",
       "<table border=\"1\" class=\"dataframe\">\n",
       "  <thead>\n",
       "    <tr style=\"text-align: right;\">\n",
       "      <th></th>\n",
       "      <th>team</th>\n",
       "      <th>player_name</th>\n",
       "      <th>position</th>\n",
       "      <th>player_id</th>\n",
       "      <th>height</th>\n",
       "      <th>weight</th>\n",
       "      <th>years_exp</th>\n",
       "      <th>rookie_year</th>\n",
       "    </tr>\n",
       "  </thead>\n",
       "  <tbody>\n",
       "    <tr>\n",
       "      <th>17</th>\n",
       "      <td>ARI</td>\n",
       "      <td>Byron Murphy</td>\n",
       "      <td>DB</td>\n",
       "      <td>00-0035236</td>\n",
       "      <td>71</td>\n",
       "      <td>190.0</td>\n",
       "      <td>0.0</td>\n",
       "      <td>2019.0</td>\n",
       "    </tr>\n",
       "    <tr>\n",
       "      <th>18</th>\n",
       "      <td>ARI</td>\n",
       "      <td>Deionte Thompson</td>\n",
       "      <td>DB</td>\n",
       "      <td>00-0035532</td>\n",
       "      <td>73</td>\n",
       "      <td>196.0</td>\n",
       "      <td>0.0</td>\n",
       "      <td>2019.0</td>\n",
       "    </tr>\n",
       "    <tr>\n",
       "      <th>20</th>\n",
       "      <td>ARI</td>\n",
       "      <td>Jalen Thompson</td>\n",
       "      <td>DB</td>\n",
       "      <td>00-0035705</td>\n",
       "      <td>71</td>\n",
       "      <td>190.0</td>\n",
       "      <td>0.0</td>\n",
       "      <td>2019.0</td>\n",
       "    </tr>\n",
       "    <tr>\n",
       "      <th>36</th>\n",
       "      <td>ARI</td>\n",
       "      <td>Michael Dogbe</td>\n",
       "      <td>DL</td>\n",
       "      <td>00-0035541</td>\n",
       "      <td>75</td>\n",
       "      <td>284.0</td>\n",
       "      <td>0.0</td>\n",
       "      <td>2019.0</td>\n",
       "    </tr>\n",
       "    <tr>\n",
       "      <th>39</th>\n",
       "      <td>ARI</td>\n",
       "      <td>Miles Brown</td>\n",
       "      <td>DL</td>\n",
       "      <td>00-0035486</td>\n",
       "      <td>74</td>\n",
       "      <td>320.0</td>\n",
       "      <td>0.0</td>\n",
       "      <td>2019.0</td>\n",
       "    </tr>\n",
       "    <tr>\n",
       "      <th>...</th>\n",
       "      <td>...</td>\n",
       "      <td>...</td>\n",
       "      <td>...</td>\n",
       "      <td>...</td>\n",
       "      <td>...</td>\n",
       "      <td>...</td>\n",
       "      <td>...</td>\n",
       "      <td>...</td>\n",
       "    </tr>\n",
       "    <tr>\n",
       "      <th>3451</th>\n",
       "      <td>WAS</td>\n",
       "      <td>Caleb Wilson</td>\n",
       "      <td>TE</td>\n",
       "      <td>00-0035320</td>\n",
       "      <td>76</td>\n",
       "      <td>240.0</td>\n",
       "      <td>0.0</td>\n",
       "      <td>2019.0</td>\n",
       "    </tr>\n",
       "    <tr>\n",
       "      <th>3453</th>\n",
       "      <td>WAS</td>\n",
       "      <td>Hale Hentges</td>\n",
       "      <td>TE</td>\n",
       "      <td>00-0035025</td>\n",
       "      <td>76</td>\n",
       "      <td>245.0</td>\n",
       "      <td>0.0</td>\n",
       "      <td>2019.0</td>\n",
       "    </tr>\n",
       "    <tr>\n",
       "      <th>3466</th>\n",
       "      <td>WAS</td>\n",
       "      <td>Terry McLaurin</td>\n",
       "      <td>WR</td>\n",
       "      <td>00-0035659</td>\n",
       "      <td>72</td>\n",
       "      <td>210.0</td>\n",
       "      <td>0.0</td>\n",
       "      <td>2019.0</td>\n",
       "    </tr>\n",
       "    <tr>\n",
       "      <th>3467</th>\n",
       "      <td>WAS</td>\n",
       "      <td>Kelvin Harmon</td>\n",
       "      <td>WR</td>\n",
       "      <td>00-0035297</td>\n",
       "      <td>74</td>\n",
       "      <td>213.0</td>\n",
       "      <td>0.0</td>\n",
       "      <td>2019.0</td>\n",
       "    </tr>\n",
       "    <tr>\n",
       "      <th>3468</th>\n",
       "      <td>WAS</td>\n",
       "      <td>Steven Sims</td>\n",
       "      <td>WR</td>\n",
       "      <td>00-0034928</td>\n",
       "      <td>70</td>\n",
       "      <td>176.0</td>\n",
       "      <td>0.0</td>\n",
       "      <td>2019.0</td>\n",
       "    </tr>\n",
       "  </tbody>\n",
       "</table>\n",
       "<p>296 rows × 8 columns</p>\n",
       "</div>"
      ],
      "text/plain": [
       "     team       player_name position   player_id height  weight  years_exp  \\\n",
       "17    ARI      Byron Murphy       DB  00-0035236     71   190.0        0.0   \n",
       "18    ARI  Deionte Thompson       DB  00-0035532     73   196.0        0.0   \n",
       "20    ARI    Jalen Thompson       DB  00-0035705     71   190.0        0.0   \n",
       "36    ARI     Michael Dogbe       DL  00-0035541     75   284.0        0.0   \n",
       "39    ARI       Miles Brown       DL  00-0035486     74   320.0        0.0   \n",
       "...   ...               ...      ...         ...    ...     ...        ...   \n",
       "3451  WAS      Caleb Wilson       TE  00-0035320     76   240.0        0.0   \n",
       "3453  WAS      Hale Hentges       TE  00-0035025     76   245.0        0.0   \n",
       "3466  WAS    Terry McLaurin       WR  00-0035659     72   210.0        0.0   \n",
       "3467  WAS     Kelvin Harmon       WR  00-0035297     74   213.0        0.0   \n",
       "3468  WAS       Steven Sims       WR  00-0034928     70   176.0        0.0   \n",
       "\n",
       "      rookie_year  \n",
       "17         2019.0  \n",
       "18         2019.0  \n",
       "20         2019.0  \n",
       "36         2019.0  \n",
       "39         2019.0  \n",
       "...           ...  \n",
       "3451       2019.0  \n",
       "3453       2019.0  \n",
       "3466       2019.0  \n",
       "3467       2019.0  \n",
       "3468       2019.0  \n",
       "\n",
       "[296 rows x 8 columns]"
      ]
     },
     "execution_count": 243,
     "metadata": {},
     "output_type": "execute_result"
    }
   ],
   "source": [
    "rosters19.loc[rosters19['rookie_year'] == 2019]"
   ]
  },
  {
   "cell_type": "markdown",
   "id": "79bee431",
   "metadata": {},
   "source": [
    "## Data Cleaning"
   ]
  },
  {
   "cell_type": "markdown",
   "id": "f2252e1f",
   "metadata": {},
   "source": [
    "### Fantasy Points DataSources"
   ]
  },
  {
   "cell_type": "code",
   "execution_count": 244,
   "id": "e2a2132f",
   "metadata": {},
   "outputs": [
    {
     "data": {
      "text/html": [
       "<div>\n",
       "<style scoped>\n",
       "    .dataframe tbody tr th:only-of-type {\n",
       "        vertical-align: middle;\n",
       "    }\n",
       "\n",
       "    .dataframe tbody tr th {\n",
       "        vertical-align: top;\n",
       "    }\n",
       "\n",
       "    .dataframe thead th {\n",
       "        text-align: right;\n",
       "    }\n",
       "</style>\n",
       "<table border=\"1\" class=\"dataframe\">\n",
       "  <thead>\n",
       "    <tr style=\"text-align: right;\">\n",
       "      <th></th>\n",
       "      <th>Player</th>\n",
       "      <th>Tm</th>\n",
       "      <th>Pos</th>\n",
       "      <th>Age</th>\n",
       "      <th>G</th>\n",
       "      <th>GS</th>\n",
       "      <th>Tgt</th>\n",
       "      <th>Rec</th>\n",
       "      <th>PassingYds</th>\n",
       "      <th>PassingTD</th>\n",
       "      <th>PassingAtt</th>\n",
       "      <th>RushingYds</th>\n",
       "      <th>RushingTD</th>\n",
       "      <th>RushingAtt</th>\n",
       "      <th>ReceivingYds</th>\n",
       "      <th>ReceivingTD</th>\n",
       "      <th>FantasyPoints</th>\n",
       "      <th>Int</th>\n",
       "      <th>Fumbles</th>\n",
       "      <th>FumblesLost</th>\n",
       "    </tr>\n",
       "  </thead>\n",
       "  <tbody>\n",
       "    <tr>\n",
       "      <th>0</th>\n",
       "      <td>Jonathan Taylor*+</td>\n",
       "      <td>IND</td>\n",
       "      <td>RB</td>\n",
       "      <td>22</td>\n",
       "      <td>17</td>\n",
       "      <td>17</td>\n",
       "      <td>51.0</td>\n",
       "      <td>40.0</td>\n",
       "      <td>0.0</td>\n",
       "      <td>0.0</td>\n",
       "      <td>0.0</td>\n",
       "      <td>1811.0</td>\n",
       "      <td>18.0</td>\n",
       "      <td>332.0</td>\n",
       "      <td>360.0</td>\n",
       "      <td>2.0</td>\n",
       "      <td>333.0</td>\n",
       "      <td>0.0</td>\n",
       "      <td>4.0</td>\n",
       "      <td>2.0</td>\n",
       "    </tr>\n",
       "    <tr>\n",
       "      <th>1</th>\n",
       "      <td>Cooper Kupp*+</td>\n",
       "      <td>LAR</td>\n",
       "      <td>WR</td>\n",
       "      <td>28</td>\n",
       "      <td>17</td>\n",
       "      <td>17</td>\n",
       "      <td>191.0</td>\n",
       "      <td>145.0</td>\n",
       "      <td>0.0</td>\n",
       "      <td>0.0</td>\n",
       "      <td>1.0</td>\n",
       "      <td>18.0</td>\n",
       "      <td>0.0</td>\n",
       "      <td>4.0</td>\n",
       "      <td>1947.0</td>\n",
       "      <td>16.0</td>\n",
       "      <td>295.0</td>\n",
       "      <td>0.0</td>\n",
       "      <td>0.0</td>\n",
       "      <td>0.0</td>\n",
       "    </tr>\n",
       "    <tr>\n",
       "      <th>2</th>\n",
       "      <td>Deebo Samuel*+</td>\n",
       "      <td>SFO</td>\n",
       "      <td>WR</td>\n",
       "      <td>25</td>\n",
       "      <td>16</td>\n",
       "      <td>15</td>\n",
       "      <td>121.0</td>\n",
       "      <td>77.0</td>\n",
       "      <td>24.0</td>\n",
       "      <td>1.0</td>\n",
       "      <td>2.0</td>\n",
       "      <td>365.0</td>\n",
       "      <td>8.0</td>\n",
       "      <td>59.0</td>\n",
       "      <td>1405.0</td>\n",
       "      <td>6.0</td>\n",
       "      <td>262.0</td>\n",
       "      <td>0.0</td>\n",
       "      <td>4.0</td>\n",
       "      <td>2.0</td>\n",
       "    </tr>\n",
       "    <tr>\n",
       "      <th>3</th>\n",
       "      <td>Josh Allen</td>\n",
       "      <td>BUF</td>\n",
       "      <td>QB</td>\n",
       "      <td>25</td>\n",
       "      <td>17</td>\n",
       "      <td>17</td>\n",
       "      <td>0.0</td>\n",
       "      <td>0.0</td>\n",
       "      <td>4407.0</td>\n",
       "      <td>36.0</td>\n",
       "      <td>646.0</td>\n",
       "      <td>763.0</td>\n",
       "      <td>6.0</td>\n",
       "      <td>122.0</td>\n",
       "      <td>0.0</td>\n",
       "      <td>0.0</td>\n",
       "      <td>403.0</td>\n",
       "      <td>15.0</td>\n",
       "      <td>8.0</td>\n",
       "      <td>3.0</td>\n",
       "    </tr>\n",
       "    <tr>\n",
       "      <th>4</th>\n",
       "      <td>Austin Ekeler</td>\n",
       "      <td>LAC</td>\n",
       "      <td>RB</td>\n",
       "      <td>26</td>\n",
       "      <td>16</td>\n",
       "      <td>16</td>\n",
       "      <td>94.0</td>\n",
       "      <td>70.0</td>\n",
       "      <td>0.0</td>\n",
       "      <td>0.0</td>\n",
       "      <td>0.0</td>\n",
       "      <td>911.0</td>\n",
       "      <td>12.0</td>\n",
       "      <td>206.0</td>\n",
       "      <td>647.0</td>\n",
       "      <td>8.0</td>\n",
       "      <td>274.0</td>\n",
       "      <td>0.0</td>\n",
       "      <td>4.0</td>\n",
       "      <td>3.0</td>\n",
       "    </tr>\n",
       "  </tbody>\n",
       "</table>\n",
       "</div>"
      ],
      "text/plain": [
       "              Player   Tm Pos  Age   G  GS    Tgt    Rec  PassingYds  \\\n",
       "0  Jonathan Taylor*+  IND  RB   22  17  17   51.0   40.0         0.0   \n",
       "1      Cooper Kupp*+  LAR  WR   28  17  17  191.0  145.0         0.0   \n",
       "2     Deebo Samuel*+  SFO  WR   25  16  15  121.0   77.0        24.0   \n",
       "3         Josh Allen  BUF  QB   25  17  17    0.0    0.0      4407.0   \n",
       "4      Austin Ekeler  LAC  RB   26  16  16   94.0   70.0         0.0   \n",
       "\n",
       "   PassingTD  PassingAtt  RushingYds  RushingTD  RushingAtt  ReceivingYds  \\\n",
       "0        0.0         0.0      1811.0       18.0       332.0         360.0   \n",
       "1        0.0         1.0        18.0        0.0         4.0        1947.0   \n",
       "2        1.0         2.0       365.0        8.0        59.0        1405.0   \n",
       "3       36.0       646.0       763.0        6.0       122.0           0.0   \n",
       "4        0.0         0.0       911.0       12.0       206.0         647.0   \n",
       "\n",
       "   ReceivingTD  FantasyPoints   Int  Fumbles  FumblesLost  \n",
       "0          2.0          333.0   0.0      4.0          2.0  \n",
       "1         16.0          295.0   0.0      0.0          0.0  \n",
       "2          6.0          262.0   0.0      4.0          2.0  \n",
       "3          0.0          403.0  15.0      8.0          3.0  \n",
       "4          8.0          274.0   0.0      4.0          3.0  "
      ]
     },
     "execution_count": 244,
     "metadata": {},
     "output_type": "execute_result"
    }
   ],
   "source": [
    "ff21.head()"
   ]
  },
  {
   "cell_type": "code",
   "execution_count": 245,
   "id": "e24f24bd",
   "metadata": {},
   "outputs": [
    {
     "data": {
      "text/html": [
       "<div>\n",
       "<style scoped>\n",
       "    .dataframe tbody tr th:only-of-type {\n",
       "        vertical-align: middle;\n",
       "    }\n",
       "\n",
       "    .dataframe tbody tr th {\n",
       "        vertical-align: top;\n",
       "    }\n",
       "\n",
       "    .dataframe thead th {\n",
       "        text-align: right;\n",
       "    }\n",
       "</style>\n",
       "<table border=\"1\" class=\"dataframe\">\n",
       "  <thead>\n",
       "    <tr style=\"text-align: right;\">\n",
       "      <th></th>\n",
       "      <th>Player</th>\n",
       "      <th>Tm</th>\n",
       "      <th>Pos</th>\n",
       "      <th>Age</th>\n",
       "      <th>G</th>\n",
       "      <th>GS</th>\n",
       "      <th>Tgt</th>\n",
       "      <th>Rec</th>\n",
       "      <th>PassingYds</th>\n",
       "      <th>PassingTD</th>\n",
       "      <th>PassingAtt</th>\n",
       "      <th>RushingYds</th>\n",
       "      <th>RushingTD</th>\n",
       "      <th>RushingAtt</th>\n",
       "      <th>ReceivingYds</th>\n",
       "      <th>ReceivingTD</th>\n",
       "      <th>FantasyPoints</th>\n",
       "      <th>Int</th>\n",
       "      <th>Fumbles</th>\n",
       "      <th>FumblesLost</th>\n",
       "    </tr>\n",
       "    <tr>\n",
       "      <th>Unnamed: 0</th>\n",
       "      <th></th>\n",
       "      <th></th>\n",
       "      <th></th>\n",
       "      <th></th>\n",
       "      <th></th>\n",
       "      <th></th>\n",
       "      <th></th>\n",
       "      <th></th>\n",
       "      <th></th>\n",
       "      <th></th>\n",
       "      <th></th>\n",
       "      <th></th>\n",
       "      <th></th>\n",
       "      <th></th>\n",
       "      <th></th>\n",
       "      <th></th>\n",
       "      <th></th>\n",
       "      <th></th>\n",
       "      <th></th>\n",
       "      <th></th>\n",
       "    </tr>\n",
       "  </thead>\n",
       "  <tbody>\n",
       "    <tr>\n",
       "      <th>0</th>\n",
       "      <td>Christian McCaffrey</td>\n",
       "      <td>CAR</td>\n",
       "      <td>RB</td>\n",
       "      <td>23.0</td>\n",
       "      <td>16.0</td>\n",
       "      <td>16.0</td>\n",
       "      <td>142.0</td>\n",
       "      <td>116.0</td>\n",
       "      <td>0.0</td>\n",
       "      <td>0.0</td>\n",
       "      <td>2.0</td>\n",
       "      <td>1387.0</td>\n",
       "      <td>15.0</td>\n",
       "      <td>287.0</td>\n",
       "      <td>1005.0</td>\n",
       "      <td>4.0</td>\n",
       "      <td>469.20</td>\n",
       "      <td>0.0</td>\n",
       "      <td>1.0</td>\n",
       "      <td>0.0</td>\n",
       "    </tr>\n",
       "    <tr>\n",
       "      <th>1</th>\n",
       "      <td>Lamar Jackson</td>\n",
       "      <td>BAL</td>\n",
       "      <td>QB</td>\n",
       "      <td>22.0</td>\n",
       "      <td>15.0</td>\n",
       "      <td>15.0</td>\n",
       "      <td>0.0</td>\n",
       "      <td>0.0</td>\n",
       "      <td>3127.0</td>\n",
       "      <td>36.0</td>\n",
       "      <td>401.0</td>\n",
       "      <td>1206.0</td>\n",
       "      <td>7.0</td>\n",
       "      <td>176.0</td>\n",
       "      <td>0.0</td>\n",
       "      <td>0.0</td>\n",
       "      <td>415.68</td>\n",
       "      <td>6.0</td>\n",
       "      <td>9.0</td>\n",
       "      <td>2.0</td>\n",
       "    </tr>\n",
       "    <tr>\n",
       "      <th>2</th>\n",
       "      <td>Derrick Henry</td>\n",
       "      <td>TEN</td>\n",
       "      <td>RB</td>\n",
       "      <td>25.0</td>\n",
       "      <td>15.0</td>\n",
       "      <td>15.0</td>\n",
       "      <td>24.0</td>\n",
       "      <td>18.0</td>\n",
       "      <td>0.0</td>\n",
       "      <td>0.0</td>\n",
       "      <td>0.0</td>\n",
       "      <td>1540.0</td>\n",
       "      <td>16.0</td>\n",
       "      <td>303.0</td>\n",
       "      <td>206.0</td>\n",
       "      <td>2.0</td>\n",
       "      <td>294.60</td>\n",
       "      <td>0.0</td>\n",
       "      <td>5.0</td>\n",
       "      <td>3.0</td>\n",
       "    </tr>\n",
       "    <tr>\n",
       "      <th>3</th>\n",
       "      <td>Aaron Jones</td>\n",
       "      <td>GNB</td>\n",
       "      <td>RB</td>\n",
       "      <td>25.0</td>\n",
       "      <td>16.0</td>\n",
       "      <td>16.0</td>\n",
       "      <td>68.0</td>\n",
       "      <td>49.0</td>\n",
       "      <td>0.0</td>\n",
       "      <td>0.0</td>\n",
       "      <td>0.0</td>\n",
       "      <td>1084.0</td>\n",
       "      <td>16.0</td>\n",
       "      <td>236.0</td>\n",
       "      <td>474.0</td>\n",
       "      <td>3.0</td>\n",
       "      <td>314.80</td>\n",
       "      <td>0.0</td>\n",
       "      <td>3.0</td>\n",
       "      <td>2.0</td>\n",
       "    </tr>\n",
       "    <tr>\n",
       "      <th>4</th>\n",
       "      <td>Ezekiel Elliott</td>\n",
       "      <td>DAL</td>\n",
       "      <td>RB</td>\n",
       "      <td>24.0</td>\n",
       "      <td>16.0</td>\n",
       "      <td>16.0</td>\n",
       "      <td>71.0</td>\n",
       "      <td>54.0</td>\n",
       "      <td>0.0</td>\n",
       "      <td>0.0</td>\n",
       "      <td>0.0</td>\n",
       "      <td>1357.0</td>\n",
       "      <td>12.0</td>\n",
       "      <td>301.0</td>\n",
       "      <td>420.0</td>\n",
       "      <td>2.0</td>\n",
       "      <td>311.70</td>\n",
       "      <td>0.0</td>\n",
       "      <td>3.0</td>\n",
       "      <td>2.0</td>\n",
       "    </tr>\n",
       "  </tbody>\n",
       "</table>\n",
       "</div>"
      ],
      "text/plain": [
       "                         Player   Tm Pos   Age     G    GS    Tgt    Rec  \\\n",
       "Unnamed: 0                                                                 \n",
       "0           Christian McCaffrey  CAR  RB  23.0  16.0  16.0  142.0  116.0   \n",
       "1                 Lamar Jackson  BAL  QB  22.0  15.0  15.0    0.0    0.0   \n",
       "2                 Derrick Henry  TEN  RB  25.0  15.0  15.0   24.0   18.0   \n",
       "3                   Aaron Jones  GNB  RB  25.0  16.0  16.0   68.0   49.0   \n",
       "4               Ezekiel Elliott  DAL  RB  24.0  16.0  16.0   71.0   54.0   \n",
       "\n",
       "            PassingYds  PassingTD  PassingAtt  RushingYds  RushingTD  \\\n",
       "Unnamed: 0                                                             \n",
       "0                  0.0        0.0         2.0      1387.0       15.0   \n",
       "1               3127.0       36.0       401.0      1206.0        7.0   \n",
       "2                  0.0        0.0         0.0      1540.0       16.0   \n",
       "3                  0.0        0.0         0.0      1084.0       16.0   \n",
       "4                  0.0        0.0         0.0      1357.0       12.0   \n",
       "\n",
       "            RushingAtt  ReceivingYds  ReceivingTD  FantasyPoints  Int  \\\n",
       "Unnamed: 0                                                              \n",
       "0                287.0        1005.0          4.0         469.20  0.0   \n",
       "1                176.0           0.0          0.0         415.68  6.0   \n",
       "2                303.0         206.0          2.0         294.60  0.0   \n",
       "3                236.0         474.0          3.0         314.80  0.0   \n",
       "4                301.0         420.0          2.0         311.70  0.0   \n",
       "\n",
       "            Fumbles  FumblesLost  \n",
       "Unnamed: 0                        \n",
       "0               1.0          0.0  \n",
       "1               9.0          2.0  \n",
       "2               5.0          3.0  \n",
       "3               3.0          2.0  \n",
       "4               3.0          2.0  "
      ]
     },
     "execution_count": 245,
     "metadata": {},
     "output_type": "execute_result"
    }
   ],
   "source": [
    "ff19.head()"
   ]
  },
  {
   "cell_type": "code",
   "execution_count": 246,
   "id": "6727696c",
   "metadata": {},
   "outputs": [
    {
     "data": {
      "text/html": [
       "<div>\n",
       "<style scoped>\n",
       "    .dataframe tbody tr th:only-of-type {\n",
       "        vertical-align: middle;\n",
       "    }\n",
       "\n",
       "    .dataframe tbody tr th {\n",
       "        vertical-align: top;\n",
       "    }\n",
       "\n",
       "    .dataframe thead th {\n",
       "        text-align: right;\n",
       "    }\n",
       "</style>\n",
       "<table border=\"1\" class=\"dataframe\">\n",
       "  <thead>\n",
       "    <tr style=\"text-align: right;\">\n",
       "      <th></th>\n",
       "      <th>Week</th>\n",
       "      <th>Day</th>\n",
       "      <th>Date</th>\n",
       "      <th>Unnamed: 5</th>\n",
       "      <th>Opp</th>\n",
       "      <th>Tm</th>\n",
       "      <th>Opp.1</th>\n",
       "      <th>1stD</th>\n",
       "      <th>TotYd</th>\n",
       "      <th>PassY</th>\n",
       "      <th>...</th>\n",
       "      <th>TO</th>\n",
       "      <th>1stD.1</th>\n",
       "      <th>TotYd.1</th>\n",
       "      <th>PassY.1</th>\n",
       "      <th>RushY.1</th>\n",
       "      <th>TO.1</th>\n",
       "      <th>Offense</th>\n",
       "      <th>Defense</th>\n",
       "      <th>Sp. Tms</th>\n",
       "      <th>Home_team</th>\n",
       "    </tr>\n",
       "  </thead>\n",
       "  <tbody>\n",
       "    <tr>\n",
       "      <th>0</th>\n",
       "      <td>1</td>\n",
       "      <td>Sun</td>\n",
       "      <td>8-Sep</td>\n",
       "      <td>W</td>\n",
       "      <td>Tampa Bay Buccaneers</td>\n",
       "      <td>31.0</td>\n",
       "      <td>17.0</td>\n",
       "      <td>17.0</td>\n",
       "      <td>256.0</td>\n",
       "      <td>158.0</td>\n",
       "      <td>...</td>\n",
       "      <td>2.0</td>\n",
       "      <td>21.0</td>\n",
       "      <td>295.0</td>\n",
       "      <td>174.0</td>\n",
       "      <td>121.0</td>\n",
       "      <td>4.0</td>\n",
       "      <td>-7.51</td>\n",
       "      <td>19.12</td>\n",
       "      <td>1.10</td>\n",
       "      <td>San Francisco 49ers</td>\n",
       "    </tr>\n",
       "    <tr>\n",
       "      <th>1</th>\n",
       "      <td>2</td>\n",
       "      <td>Sun</td>\n",
       "      <td>15-Sep</td>\n",
       "      <td>W</td>\n",
       "      <td>Cincinnati Bengals</td>\n",
       "      <td>41.0</td>\n",
       "      <td>17.0</td>\n",
       "      <td>27.0</td>\n",
       "      <td>571.0</td>\n",
       "      <td>312.0</td>\n",
       "      <td>...</td>\n",
       "      <td>1.0</td>\n",
       "      <td>14.0</td>\n",
       "      <td>316.0</td>\n",
       "      <td>291.0</td>\n",
       "      <td>25.0</td>\n",
       "      <td>1.0</td>\n",
       "      <td>27.34</td>\n",
       "      <td>1.14</td>\n",
       "      <td>-6.64</td>\n",
       "      <td>San Francisco 49ers</td>\n",
       "    </tr>\n",
       "    <tr>\n",
       "      <th>2</th>\n",
       "      <td>3</td>\n",
       "      <td>Sun</td>\n",
       "      <td>22-Sep</td>\n",
       "      <td>W</td>\n",
       "      <td>Pittsburgh Steelers</td>\n",
       "      <td>24.0</td>\n",
       "      <td>20.0</td>\n",
       "      <td>26.0</td>\n",
       "      <td>436.0</td>\n",
       "      <td>268.0</td>\n",
       "      <td>...</td>\n",
       "      <td>5.0</td>\n",
       "      <td>11.0</td>\n",
       "      <td>239.0</td>\n",
       "      <td>160.0</td>\n",
       "      <td>79.0</td>\n",
       "      <td>2.0</td>\n",
       "      <td>-3.72</td>\n",
       "      <td>10.20</td>\n",
       "      <td>0.12</td>\n",
       "      <td>San Francisco 49ers</td>\n",
       "    </tr>\n",
       "    <tr>\n",
       "      <th>3</th>\n",
       "      <td>4</td>\n",
       "      <td>NaN</td>\n",
       "      <td>NaN</td>\n",
       "      <td>NaN</td>\n",
       "      <td>Bye Week</td>\n",
       "      <td>NaN</td>\n",
       "      <td>NaN</td>\n",
       "      <td>NaN</td>\n",
       "      <td>NaN</td>\n",
       "      <td>NaN</td>\n",
       "      <td>...</td>\n",
       "      <td>NaN</td>\n",
       "      <td>NaN</td>\n",
       "      <td>NaN</td>\n",
       "      <td>NaN</td>\n",
       "      <td>NaN</td>\n",
       "      <td>NaN</td>\n",
       "      <td>NaN</td>\n",
       "      <td>NaN</td>\n",
       "      <td>NaN</td>\n",
       "      <td>San Francisco 49ers</td>\n",
       "    </tr>\n",
       "    <tr>\n",
       "      <th>4</th>\n",
       "      <td>5</td>\n",
       "      <td>Mon</td>\n",
       "      <td>7-Oct</td>\n",
       "      <td>W</td>\n",
       "      <td>Cleveland Browns</td>\n",
       "      <td>31.0</td>\n",
       "      <td>3.0</td>\n",
       "      <td>22.0</td>\n",
       "      <td>446.0</td>\n",
       "      <td>171.0</td>\n",
       "      <td>...</td>\n",
       "      <td>NaN</td>\n",
       "      <td>9.0</td>\n",
       "      <td>180.0</td>\n",
       "      <td>78.0</td>\n",
       "      <td>102.0</td>\n",
       "      <td>4.0</td>\n",
       "      <td>12.38</td>\n",
       "      <td>22.56</td>\n",
       "      <td>-10.50</td>\n",
       "      <td>San Francisco 49ers</td>\n",
       "    </tr>\n",
       "  </tbody>\n",
       "</table>\n",
       "<p>5 rows × 21 columns</p>\n",
       "</div>"
      ],
      "text/plain": [
       "  Week  Day    Date Unnamed: 5                   Opp    Tm  Opp.1  1stD  \\\n",
       "0    1  Sun   8-Sep          W  Tampa Bay Buccaneers  31.0   17.0  17.0   \n",
       "1    2  Sun  15-Sep          W    Cincinnati Bengals  41.0   17.0  27.0   \n",
       "2    3  Sun  22-Sep          W   Pittsburgh Steelers  24.0   20.0  26.0   \n",
       "3    4  NaN     NaN        NaN              Bye Week   NaN    NaN   NaN   \n",
       "4    5  Mon   7-Oct          W      Cleveland Browns  31.0    3.0  22.0   \n",
       "\n",
       "   TotYd  PassY  ...   TO  1stD.1  TotYd.1  PassY.1  RushY.1  TO.1  Offense  \\\n",
       "0  256.0  158.0  ...  2.0    21.0    295.0    174.0    121.0   4.0    -7.51   \n",
       "1  571.0  312.0  ...  1.0    14.0    316.0    291.0     25.0   1.0    27.34   \n",
       "2  436.0  268.0  ...  5.0    11.0    239.0    160.0     79.0   2.0    -3.72   \n",
       "3    NaN    NaN  ...  NaN     NaN      NaN      NaN      NaN   NaN      NaN   \n",
       "4  446.0  171.0  ...  NaN     9.0    180.0     78.0    102.0   4.0    12.38   \n",
       "\n",
       "   Defense  Sp. Tms            Home_team  \n",
       "0    19.12     1.10  San Francisco 49ers  \n",
       "1     1.14    -6.64  San Francisco 49ers  \n",
       "2    10.20     0.12  San Francisco 49ers  \n",
       "3      NaN      NaN  San Francisco 49ers  \n",
       "4    22.56   -10.50  San Francisco 49ers  \n",
       "\n",
       "[5 rows x 21 columns]"
      ]
     },
     "execution_count": 246,
     "metadata": {},
     "output_type": "execute_result"
    }
   ],
   "source": [
    "team19.head()"
   ]
  },
  {
   "cell_type": "markdown",
   "id": "74453f4f",
   "metadata": {},
   "source": [
    "Need to clean player name from *, + and/or both.\n",
    "\n",
    "Need to group by position, as points scored and value is dependent on position.\n",
    "\n",
    "need a dataset of predictor variables for final -- previous year's players (2021) plus rookies (2022) draft.\n",
    "\n",
    "Need to bring in a dataset of rookies \n",
    "\n",
    "Need a dataset of team ranks from previous year (2021)\n",
    "\n",
    "We'll use 19 and 20 as training years; 21 as test year. \n",
    "\n",
    "Final model will use previous 2 season data, and other, to predict upcoming season data\n"
   ]
  },
  {
   "cell_type": "code",
   "execution_count": 247,
   "id": "1d5fd65b",
   "metadata": {},
   "outputs": [
    {
     "data": {
      "text/plain": [
       "Player            object\n",
       "Tm                object\n",
       "Pos               object\n",
       "Age                int64\n",
       "G                  int64\n",
       "GS                 int64\n",
       "Tgt              float64\n",
       "Rec              float64\n",
       "PassingYds       float64\n",
       "PassingTD        float64\n",
       "PassingAtt       float64\n",
       "RushingYds       float64\n",
       "RushingTD        float64\n",
       "RushingAtt       float64\n",
       "ReceivingYds     float64\n",
       "ReceivingTD      float64\n",
       "FantasyPoints    float64\n",
       "Int              float64\n",
       "Fumbles          float64\n",
       "FumblesLost      float64\n",
       "dtype: object"
      ]
     },
     "execution_count": 247,
     "metadata": {},
     "output_type": "execute_result"
    }
   ],
   "source": [
    "ff21.dtypes\n"
   ]
  },
  {
   "cell_type": "code",
   "execution_count": 248,
   "id": "f4c74507",
   "metadata": {},
   "outputs": [],
   "source": [
    "# cleaning player names\n",
    "\n",
    "ff21['Player'] = ff21['Player'].str.replace(\"+\",\"\", regex = True)\n",
    "ff21['Player'] = ff21['Player'].str.replace(\"*\",\"\", regex = True)\n",
    "\n",
    "ff20['Player'] = ff20['Player'].str.replace(\"+\",\"\", regex = True)\n",
    "ff20['Player'] = ff20['Player'].str.replace(\"*\",\"\", regex = True)\n",
    "\n",
    "ff19['Player'] = ff19['Player'].str.replace(\"+\",\"\", regex = True)\n",
    "ff19['Player'] = ff19['Player'].str.replace(\"*\",\"\", regex = True)\n",
    "\n"
   ]
  },
  {
   "cell_type": "markdown",
   "id": "83217058",
   "metadata": {},
   "source": [
    "## Roster data\n",
    "\n",
    "Now that fantasy points for 3 seasons are relatively cleaned; before merging, let's try to clean up roster data"
   ]
  },
  {
   "cell_type": "code",
   "execution_count": 249,
   "id": "ae72976a",
   "metadata": {},
   "outputs": [
    {
     "data": {
      "text/html": [
       "<div>\n",
       "<style scoped>\n",
       "    .dataframe tbody tr th:only-of-type {\n",
       "        vertical-align: middle;\n",
       "    }\n",
       "\n",
       "    .dataframe tbody tr th {\n",
       "        vertical-align: top;\n",
       "    }\n",
       "\n",
       "    .dataframe thead th {\n",
       "        text-align: right;\n",
       "    }\n",
       "</style>\n",
       "<table border=\"1\" class=\"dataframe\">\n",
       "  <thead>\n",
       "    <tr style=\"text-align: right;\">\n",
       "      <th></th>\n",
       "      <th>team</th>\n",
       "      <th>player_name</th>\n",
       "      <th>position</th>\n",
       "      <th>player_id</th>\n",
       "      <th>height</th>\n",
       "      <th>weight</th>\n",
       "      <th>years_exp</th>\n",
       "      <th>rookie_year</th>\n",
       "    </tr>\n",
       "  </thead>\n",
       "  <tbody>\n",
       "    <tr>\n",
       "      <th>65</th>\n",
       "      <td>ARI</td>\n",
       "      <td>Max Garcia</td>\n",
       "      <td>OL</td>\n",
       "      <td>00-0032132</td>\n",
       "      <td>76</td>\n",
       "      <td>309.0</td>\n",
       "      <td>4.0</td>\n",
       "      <td>2015.0</td>\n",
       "    </tr>\n",
       "    <tr>\n",
       "      <th>1161</th>\n",
       "      <td>DET</td>\n",
       "      <td>Cole Herdman</td>\n",
       "      <td>TE</td>\n",
       "      <td>00-0035109</td>\n",
       "      <td>76</td>\n",
       "      <td>245.0</td>\n",
       "      <td>NaN</td>\n",
       "      <td>NaN</td>\n",
       "    </tr>\n",
       "    <tr>\n",
       "      <th>1264</th>\n",
       "      <td>GB</td>\n",
       "      <td>Teo Redding</td>\n",
       "      <td>WR</td>\n",
       "      <td>00-0034647</td>\n",
       "      <td>None</td>\n",
       "      <td>176.0</td>\n",
       "      <td>NaN</td>\n",
       "      <td>NaN</td>\n",
       "    </tr>\n",
       "    <tr>\n",
       "      <th>2759</th>\n",
       "      <td>PHI</td>\n",
       "      <td>Halapoulivaati Vaitai</td>\n",
       "      <td>OL</td>\n",
       "      <td>00-0032785</td>\n",
       "      <td>78</td>\n",
       "      <td>320.0</td>\n",
       "      <td>3.0</td>\n",
       "      <td>2016.0</td>\n",
       "    </tr>\n",
       "    <tr>\n",
       "      <th>1869</th>\n",
       "      <td>LAC</td>\n",
       "      <td>Cole Toner</td>\n",
       "      <td>OL</td>\n",
       "      <td>00-0032787</td>\n",
       "      <td>77</td>\n",
       "      <td>310.0</td>\n",
       "      <td>NaN</td>\n",
       "      <td>NaN</td>\n",
       "    </tr>\n",
       "    <tr>\n",
       "      <th>3143</th>\n",
       "      <td>TB</td>\n",
       "      <td>Kentrell Brice</td>\n",
       "      <td>DB</td>\n",
       "      <td>00-0032628</td>\n",
       "      <td>None</td>\n",
       "      <td>200.0</td>\n",
       "      <td>NaN</td>\n",
       "      <td>NaN</td>\n",
       "    </tr>\n",
       "    <tr>\n",
       "      <th>1603</th>\n",
       "      <td>JAX</td>\n",
       "      <td>Dede Westbrook</td>\n",
       "      <td>WR</td>\n",
       "      <td>00-0033839</td>\n",
       "      <td>72</td>\n",
       "      <td>176.0</td>\n",
       "      <td>2.0</td>\n",
       "      <td>2017.0</td>\n",
       "    </tr>\n",
       "    <tr>\n",
       "      <th>3418</th>\n",
       "      <td>WAS</td>\n",
       "      <td>Brandon Scherff</td>\n",
       "      <td>OL</td>\n",
       "      <td>00-0032053</td>\n",
       "      <td>77</td>\n",
       "      <td>315.0</td>\n",
       "      <td>NaN</td>\n",
       "      <td>NaN</td>\n",
       "    </tr>\n",
       "  </tbody>\n",
       "</table>\n",
       "</div>"
      ],
      "text/plain": [
       "     team            player_name position   player_id height  weight  \\\n",
       "65    ARI             Max Garcia       OL  00-0032132     76   309.0   \n",
       "1161  DET           Cole Herdman       TE  00-0035109     76   245.0   \n",
       "1264   GB            Teo Redding       WR  00-0034647   None   176.0   \n",
       "2759  PHI  Halapoulivaati Vaitai       OL  00-0032785     78   320.0   \n",
       "1869  LAC             Cole Toner       OL  00-0032787     77   310.0   \n",
       "3143   TB         Kentrell Brice       DB  00-0032628   None   200.0   \n",
       "1603  JAX         Dede Westbrook       WR  00-0033839     72   176.0   \n",
       "3418  WAS        Brandon Scherff       OL  00-0032053     77   315.0   \n",
       "\n",
       "      years_exp  rookie_year  \n",
       "65          4.0       2015.0  \n",
       "1161        NaN          NaN  \n",
       "1264        NaN          NaN  \n",
       "2759        3.0       2016.0  \n",
       "1869        NaN          NaN  \n",
       "3143        NaN          NaN  \n",
       "1603        2.0       2017.0  \n",
       "3418        NaN          NaN  "
      ]
     },
     "execution_count": 249,
     "metadata": {},
     "output_type": "execute_result"
    }
   ],
   "source": [
    "rosters19.sample(n=8)"
   ]
  },
  {
   "cell_type": "code",
   "execution_count": 250,
   "id": "3edde1eb",
   "metadata": {},
   "outputs": [],
   "source": [
    "# We must get rid of non-offensive, fantasy irrelevant positions\n",
    "\n",
    "# for this analysis, only focused on qb, rb, wr, te\n",
    "\n",
    "ff_positions = ['QB', 'RB', 'WR', 'TE']\n",
    "\n",
    "rosters19_rel = rosters19.loc[rosters19['position'].isin(ff_positions)]\n",
    "rosters20_rel = rosters20.loc[rosters20['position'].isin(ff_positions)]\n",
    "rosters21_rel = rosters21.loc[rosters21['position'].isin(ff_positions)]"
   ]
  },
  {
   "cell_type": "code",
   "execution_count": 251,
   "id": "e938e780",
   "metadata": {},
   "outputs": [
    {
     "data": {
      "text/plain": [
       "(620, 20)"
      ]
     },
     "execution_count": 251,
     "metadata": {},
     "output_type": "execute_result"
    }
   ],
   "source": [
    "ff19.shape"
   ]
  },
  {
   "cell_type": "code",
   "execution_count": 252,
   "id": "43048426",
   "metadata": {},
   "outputs": [
    {
     "data": {
      "text/html": [
       "<div>\n",
       "<style scoped>\n",
       "    .dataframe tbody tr th:only-of-type {\n",
       "        vertical-align: middle;\n",
       "    }\n",
       "\n",
       "    .dataframe tbody tr th {\n",
       "        vertical-align: top;\n",
       "    }\n",
       "\n",
       "    .dataframe thead th {\n",
       "        text-align: right;\n",
       "    }\n",
       "</style>\n",
       "<table border=\"1\" class=\"dataframe\">\n",
       "  <thead>\n",
       "    <tr style=\"text-align: right;\">\n",
       "      <th></th>\n",
       "      <th>key_0</th>\n",
       "      <th>team</th>\n",
       "      <th>player_name</th>\n",
       "      <th>position</th>\n",
       "      <th>player_id</th>\n",
       "      <th>height</th>\n",
       "      <th>weight</th>\n",
       "      <th>years_exp</th>\n",
       "      <th>rookie_year</th>\n",
       "      <th>Player</th>\n",
       "      <th>...</th>\n",
       "      <th>PassingAtt</th>\n",
       "      <th>RushingYds</th>\n",
       "      <th>RushingTD</th>\n",
       "      <th>RushingAtt</th>\n",
       "      <th>ReceivingYds</th>\n",
       "      <th>ReceivingTD</th>\n",
       "      <th>FantasyPoints</th>\n",
       "      <th>Int</th>\n",
       "      <th>Fumbles</th>\n",
       "      <th>FumblesLost</th>\n",
       "    </tr>\n",
       "  </thead>\n",
       "  <tbody>\n",
       "    <tr>\n",
       "      <th>0</th>\n",
       "      <td>Brett Hundley</td>\n",
       "      <td>ARI</td>\n",
       "      <td>Brett Hundley</td>\n",
       "      <td>QB</td>\n",
       "      <td>00-0031589</td>\n",
       "      <td>75</td>\n",
       "      <td>226.0</td>\n",
       "      <td>4.0</td>\n",
       "      <td>2015.0</td>\n",
       "      <td>Brett Hundley</td>\n",
       "      <td>...</td>\n",
       "      <td>11.0</td>\n",
       "      <td>41.0</td>\n",
       "      <td>0.0</td>\n",
       "      <td>7.0</td>\n",
       "      <td>0.0</td>\n",
       "      <td>0.0</td>\n",
       "      <td>6.06</td>\n",
       "      <td>0.0</td>\n",
       "      <td>0.0</td>\n",
       "      <td>0.0</td>\n",
       "    </tr>\n",
       "    <tr>\n",
       "      <th>1</th>\n",
       "      <td>Kyler Murray</td>\n",
       "      <td>ARI</td>\n",
       "      <td>Kyler Murray</td>\n",
       "      <td>QB</td>\n",
       "      <td>00-0035228</td>\n",
       "      <td>70</td>\n",
       "      <td>207.0</td>\n",
       "      <td>0.0</td>\n",
       "      <td>2019.0</td>\n",
       "      <td>Kyler Murray</td>\n",
       "      <td>...</td>\n",
       "      <td>542.0</td>\n",
       "      <td>544.0</td>\n",
       "      <td>4.0</td>\n",
       "      <td>93.0</td>\n",
       "      <td>0.0</td>\n",
       "      <td>0.0</td>\n",
       "      <td>279.28</td>\n",
       "      <td>12.0</td>\n",
       "      <td>5.0</td>\n",
       "      <td>2.0</td>\n",
       "    </tr>\n",
       "    <tr>\n",
       "      <th>2</th>\n",
       "      <td>Alfred Morris</td>\n",
       "      <td>ARI</td>\n",
       "      <td>Alfred Morris</td>\n",
       "      <td>RB</td>\n",
       "      <td>00-0029141</td>\n",
       "      <td>70</td>\n",
       "      <td>222.0</td>\n",
       "      <td>NaN</td>\n",
       "      <td>NaN</td>\n",
       "      <td>Alfred Morris</td>\n",
       "      <td>...</td>\n",
       "      <td>0.0</td>\n",
       "      <td>4.0</td>\n",
       "      <td>0.0</td>\n",
       "      <td>1.0</td>\n",
       "      <td>0.0</td>\n",
       "      <td>0.0</td>\n",
       "      <td>0.40</td>\n",
       "      <td>0.0</td>\n",
       "      <td>0.0</td>\n",
       "      <td>0.0</td>\n",
       "    </tr>\n",
       "    <tr>\n",
       "      <th>3</th>\n",
       "      <td>David Johnson</td>\n",
       "      <td>ARI</td>\n",
       "      <td>David Johnson</td>\n",
       "      <td>RB</td>\n",
       "      <td>00-0032187</td>\n",
       "      <td>73</td>\n",
       "      <td>224.0</td>\n",
       "      <td>4.0</td>\n",
       "      <td>2015.0</td>\n",
       "      <td>David Johnson</td>\n",
       "      <td>...</td>\n",
       "      <td>0.0</td>\n",
       "      <td>345.0</td>\n",
       "      <td>2.0</td>\n",
       "      <td>94.0</td>\n",
       "      <td>370.0</td>\n",
       "      <td>4.0</td>\n",
       "      <td>141.50</td>\n",
       "      <td>0.0</td>\n",
       "      <td>1.0</td>\n",
       "      <td>1.0</td>\n",
       "    </tr>\n",
       "    <tr>\n",
       "      <th>4</th>\n",
       "      <td>Kenyan Drake</td>\n",
       "      <td>ARI</td>\n",
       "      <td>Kenyan Drake</td>\n",
       "      <td>RB</td>\n",
       "      <td>00-0033118</td>\n",
       "      <td>73</td>\n",
       "      <td>211.0</td>\n",
       "      <td>3.0</td>\n",
       "      <td>2016.0</td>\n",
       "      <td>Kenyan Drake</td>\n",
       "      <td>...</td>\n",
       "      <td>0.0</td>\n",
       "      <td>817.0</td>\n",
       "      <td>8.0</td>\n",
       "      <td>170.0</td>\n",
       "      <td>345.0</td>\n",
       "      <td>0.0</td>\n",
       "      <td>212.20</td>\n",
       "      <td>0.0</td>\n",
       "      <td>2.0</td>\n",
       "      <td>1.0</td>\n",
       "    </tr>\n",
       "  </tbody>\n",
       "</table>\n",
       "<p>5 rows × 29 columns</p>\n",
       "</div>"
      ],
      "text/plain": [
       "           key_0 team    player_name position   player_id height  weight  \\\n",
       "0  Brett Hundley  ARI  Brett Hundley       QB  00-0031589     75   226.0   \n",
       "1   Kyler Murray  ARI   Kyler Murray       QB  00-0035228     70   207.0   \n",
       "2  Alfred Morris  ARI  Alfred Morris       RB  00-0029141     70   222.0   \n",
       "3  David Johnson  ARI  David Johnson       RB  00-0032187     73   224.0   \n",
       "4   Kenyan Drake  ARI   Kenyan Drake       RB  00-0033118     73   211.0   \n",
       "\n",
       "   years_exp  rookie_year         Player  ... PassingAtt RushingYds  \\\n",
       "0        4.0       2015.0  Brett Hundley  ...       11.0       41.0   \n",
       "1        0.0       2019.0   Kyler Murray  ...      542.0      544.0   \n",
       "2        NaN          NaN  Alfred Morris  ...        0.0        4.0   \n",
       "3        4.0       2015.0  David Johnson  ...        0.0      345.0   \n",
       "4        3.0       2016.0   Kenyan Drake  ...        0.0      817.0   \n",
       "\n",
       "   RushingTD  RushingAtt  ReceivingYds  ReceivingTD  FantasyPoints   Int  \\\n",
       "0        0.0         7.0           0.0          0.0           6.06   0.0   \n",
       "1        4.0        93.0           0.0          0.0         279.28  12.0   \n",
       "2        0.0         1.0           0.0          0.0           0.40   0.0   \n",
       "3        2.0        94.0         370.0          4.0         141.50   0.0   \n",
       "4        8.0       170.0         345.0          0.0         212.20   0.0   \n",
       "\n",
       "   Fumbles  FumblesLost  \n",
       "0      0.0          0.0  \n",
       "1      5.0          2.0  \n",
       "2      0.0          0.0  \n",
       "3      1.0          1.0  \n",
       "4      2.0          1.0  \n",
       "\n",
       "[5 rows x 29 columns]"
      ]
     },
     "execution_count": 252,
     "metadata": {},
     "output_type": "execute_result"
    }
   ],
   "source": [
    "ff19_r = pd.merge(rosters19_rel, ff19, how = 'inner', left_on = rosters19_rel['player_name'], right_on = ff19['Player'], suffixes = ('_19r', '_19')).reset_index(drop = True)\n",
    "\n",
    "ff19_r.head()"
   ]
  },
  {
   "cell_type": "code",
   "execution_count": 253,
   "id": "a33de876",
   "metadata": {},
   "outputs": [
    {
     "data": {
      "text/html": [
       "<div>\n",
       "<style scoped>\n",
       "    .dataframe tbody tr th:only-of-type {\n",
       "        vertical-align: middle;\n",
       "    }\n",
       "\n",
       "    .dataframe tbody tr th {\n",
       "        vertical-align: top;\n",
       "    }\n",
       "\n",
       "    .dataframe thead th {\n",
       "        text-align: right;\n",
       "    }\n",
       "</style>\n",
       "<table border=\"1\" class=\"dataframe\">\n",
       "  <thead>\n",
       "    <tr style=\"text-align: right;\">\n",
       "      <th></th>\n",
       "      <th>team</th>\n",
       "      <th>player_name</th>\n",
       "      <th>position</th>\n",
       "      <th>player_id</th>\n",
       "      <th>height</th>\n",
       "      <th>weight</th>\n",
       "      <th>years_exp</th>\n",
       "      <th>rookie_year</th>\n",
       "    </tr>\n",
       "  </thead>\n",
       "  <tbody>\n",
       "    <tr>\n",
       "      <th>2674</th>\n",
       "      <td>SF</td>\n",
       "      <td>Chris Thompson</td>\n",
       "      <td>WR</td>\n",
       "      <td>00-0033855</td>\n",
       "      <td>72</td>\n",
       "      <td>175</td>\n",
       "      <td>3.0</td>\n",
       "      <td>2017.0</td>\n",
       "    </tr>\n",
       "    <tr>\n",
       "      <th>2738</th>\n",
       "      <td>TB</td>\n",
       "      <td>Ryan Griffin</td>\n",
       "      <td>QB</td>\n",
       "      <td>00-0029857</td>\n",
       "      <td>77</td>\n",
       "      <td>210</td>\n",
       "      <td>7.0</td>\n",
       "      <td>2013.0</td>\n",
       "    </tr>\n",
       "  </tbody>\n",
       "</table>\n",
       "</div>"
      ],
      "text/plain": [
       "     team     player_name position   player_id height  weight  years_exp  \\\n",
       "2674   SF  Chris Thompson       WR  00-0033855     72     175        3.0   \n",
       "2738   TB    Ryan Griffin       QB  00-0029857     77     210        7.0   \n",
       "\n",
       "      rookie_year  \n",
       "2674       2017.0  \n",
       "2738       2013.0  "
      ]
     },
     "execution_count": 253,
     "metadata": {},
     "output_type": "execute_result"
    }
   ],
   "source": [
    "# there may be duplicates in this\n",
    "\n",
    "rosters20_rel.loc[rosters20_rel['player_name'].duplicated() == True]"
   ]
  },
  {
   "cell_type": "code",
   "execution_count": 254,
   "id": "58db9add",
   "metadata": {},
   "outputs": [],
   "source": [
    "# dropping duplicates here\n",
    "\n",
    "rosters20_rel = rosters20_rel.drop_duplicates(subset = ['player_name'], keep = 'first')\n",
    "ff20 = ff20.drop_duplicates(subset = ['Player'], keep = 'first')"
   ]
  },
  {
   "cell_type": "code",
   "execution_count": 255,
   "id": "2004c8e9",
   "metadata": {},
   "outputs": [
    {
     "data": {
      "text/html": [
       "<div>\n",
       "<style scoped>\n",
       "    .dataframe tbody tr th:only-of-type {\n",
       "        vertical-align: middle;\n",
       "    }\n",
       "\n",
       "    .dataframe tbody tr th {\n",
       "        vertical-align: top;\n",
       "    }\n",
       "\n",
       "    .dataframe thead th {\n",
       "        text-align: right;\n",
       "    }\n",
       "</style>\n",
       "<table border=\"1\" class=\"dataframe\">\n",
       "  <thead>\n",
       "    <tr style=\"text-align: right;\">\n",
       "      <th></th>\n",
       "      <th>key_0</th>\n",
       "      <th>team</th>\n",
       "      <th>player_name</th>\n",
       "      <th>position</th>\n",
       "      <th>player_id</th>\n",
       "      <th>height</th>\n",
       "      <th>weight</th>\n",
       "      <th>years_exp</th>\n",
       "      <th>rookie_year</th>\n",
       "      <th>Player</th>\n",
       "      <th>...</th>\n",
       "      <th>PassingAtt</th>\n",
       "      <th>RushingYds</th>\n",
       "      <th>RushingTD</th>\n",
       "      <th>RushingAtt</th>\n",
       "      <th>ReceivingYds</th>\n",
       "      <th>ReceivingTD</th>\n",
       "      <th>FantasyPoints</th>\n",
       "      <th>Int</th>\n",
       "      <th>Fumbles</th>\n",
       "      <th>FumblesLost</th>\n",
       "    </tr>\n",
       "  </thead>\n",
       "  <tbody>\n",
       "    <tr>\n",
       "      <th>230</th>\n",
       "      <td>Randall Cobb</td>\n",
       "      <td>HOU</td>\n",
       "      <td>Randall Cobb</td>\n",
       "      <td>WR</td>\n",
       "      <td>00-0028002</td>\n",
       "      <td>70</td>\n",
       "      <td>192</td>\n",
       "      <td>9.0</td>\n",
       "      <td>2011.0</td>\n",
       "      <td>Randall Cobb</td>\n",
       "      <td>...</td>\n",
       "      <td>1</td>\n",
       "      <td>0</td>\n",
       "      <td>0</td>\n",
       "      <td>0</td>\n",
       "      <td>441</td>\n",
       "      <td>3</td>\n",
       "      <td>62.0</td>\n",
       "      <td>0</td>\n",
       "      <td>0</td>\n",
       "      <td>0</td>\n",
       "    </tr>\n",
       "    <tr>\n",
       "      <th>544</th>\n",
       "      <td>Mike Evans</td>\n",
       "      <td>TB</td>\n",
       "      <td>Mike Evans</td>\n",
       "      <td>WR</td>\n",
       "      <td>00-0031408</td>\n",
       "      <td>77</td>\n",
       "      <td>231</td>\n",
       "      <td>6.0</td>\n",
       "      <td>2014.0</td>\n",
       "      <td>Mike Evans</td>\n",
       "      <td>...</td>\n",
       "      <td>0</td>\n",
       "      <td>0</td>\n",
       "      <td>0</td>\n",
       "      <td>0</td>\n",
       "      <td>1006</td>\n",
       "      <td>13</td>\n",
       "      <td>179.0</td>\n",
       "      <td>0</td>\n",
       "      <td>0</td>\n",
       "      <td>0</td>\n",
       "    </tr>\n",
       "    <tr>\n",
       "      <th>467</th>\n",
       "      <td>Alshon Jeffery</td>\n",
       "      <td>PHI</td>\n",
       "      <td>Alshon Jeffery</td>\n",
       "      <td>WR</td>\n",
       "      <td>00-0029137</td>\n",
       "      <td>75</td>\n",
       "      <td>218</td>\n",
       "      <td>8.0</td>\n",
       "      <td>2012.0</td>\n",
       "      <td>Alshon Jeffery</td>\n",
       "      <td>...</td>\n",
       "      <td>0</td>\n",
       "      <td>0</td>\n",
       "      <td>0</td>\n",
       "      <td>0</td>\n",
       "      <td>115</td>\n",
       "      <td>1</td>\n",
       "      <td>18.0</td>\n",
       "      <td>0</td>\n",
       "      <td>0</td>\n",
       "      <td>0</td>\n",
       "    </tr>\n",
       "    <tr>\n",
       "      <th>466</th>\n",
       "      <td>DeSean Jackson</td>\n",
       "      <td>PHI</td>\n",
       "      <td>DeSean Jackson</td>\n",
       "      <td>WR</td>\n",
       "      <td>00-0026189</td>\n",
       "      <td>70</td>\n",
       "      <td>175</td>\n",
       "      <td>12.0</td>\n",
       "      <td>2008.0</td>\n",
       "      <td>DeSean Jackson</td>\n",
       "      <td>...</td>\n",
       "      <td>0</td>\n",
       "      <td>12</td>\n",
       "      <td>0</td>\n",
       "      <td>1</td>\n",
       "      <td>236</td>\n",
       "      <td>1</td>\n",
       "      <td>31.0</td>\n",
       "      <td>0</td>\n",
       "      <td>0</td>\n",
       "      <td>0</td>\n",
       "    </tr>\n",
       "    <tr>\n",
       "      <th>100</th>\n",
       "      <td>J.P. Holtz</td>\n",
       "      <td>CHI</td>\n",
       "      <td>J.P. Holtz</td>\n",
       "      <td>TE</td>\n",
       "      <td>00-0032986</td>\n",
       "      <td>75</td>\n",
       "      <td>240</td>\n",
       "      <td>4.0</td>\n",
       "      <td>2016.0</td>\n",
       "      <td>J.P. Holtz</td>\n",
       "      <td>...</td>\n",
       "      <td>0</td>\n",
       "      <td>0</td>\n",
       "      <td>0</td>\n",
       "      <td>0</td>\n",
       "      <td>0</td>\n",
       "      <td>0</td>\n",
       "      <td>NaN</td>\n",
       "      <td>0</td>\n",
       "      <td>0</td>\n",
       "      <td>0</td>\n",
       "    </tr>\n",
       "  </tbody>\n",
       "</table>\n",
       "<p>5 rows × 29 columns</p>\n",
       "</div>"
      ],
      "text/plain": [
       "              key_0 team     player_name position   player_id height  weight  \\\n",
       "230    Randall Cobb  HOU    Randall Cobb       WR  00-0028002     70     192   \n",
       "544      Mike Evans   TB      Mike Evans       WR  00-0031408     77     231   \n",
       "467  Alshon Jeffery  PHI  Alshon Jeffery       WR  00-0029137     75     218   \n",
       "466  DeSean Jackson  PHI  DeSean Jackson       WR  00-0026189     70     175   \n",
       "100      J.P. Holtz  CHI      J.P. Holtz       TE  00-0032986     75     240   \n",
       "\n",
       "     years_exp  rookie_year          Player  ... PassingAtt RushingYds  \\\n",
       "230        9.0       2011.0    Randall Cobb  ...          1          0   \n",
       "544        6.0       2014.0      Mike Evans  ...          0          0   \n",
       "467        8.0       2012.0  Alshon Jeffery  ...          0          0   \n",
       "466       12.0       2008.0  DeSean Jackson  ...          0         12   \n",
       "100        4.0       2016.0      J.P. Holtz  ...          0          0   \n",
       "\n",
       "     RushingTD  RushingAtt  ReceivingYds  ReceivingTD  FantasyPoints  Int  \\\n",
       "230          0           0           441            3           62.0    0   \n",
       "544          0           0          1006           13          179.0    0   \n",
       "467          0           0           115            1           18.0    0   \n",
       "466          0           1           236            1           31.0    0   \n",
       "100          0           0             0            0            NaN    0   \n",
       "\n",
       "     Fumbles  FumblesLost  \n",
       "230        0            0  \n",
       "544        0            0  \n",
       "467        0            0  \n",
       "466        0            0  \n",
       "100        0            0  \n",
       "\n",
       "[5 rows x 29 columns]"
      ]
     },
     "execution_count": 255,
     "metadata": {},
     "output_type": "execute_result"
    }
   ],
   "source": [
    "ff20_r = pd.merge(rosters20_rel, ff20, how = 'inner', left_on = rosters20_rel['player_name'], right_on = ff20['Player'], suffixes = ('_20r', '_20')).reset_index(drop = True)\n",
    "\n",
    "ff20_r.sample(5)"
   ]
  },
  {
   "cell_type": "code",
   "execution_count": 256,
   "id": "c595f6c5",
   "metadata": {},
   "outputs": [
    {
     "data": {
      "text/html": [
       "<div>\n",
       "<style scoped>\n",
       "    .dataframe tbody tr th:only-of-type {\n",
       "        vertical-align: middle;\n",
       "    }\n",
       "\n",
       "    .dataframe tbody tr th {\n",
       "        vertical-align: top;\n",
       "    }\n",
       "\n",
       "    .dataframe thead th {\n",
       "        text-align: right;\n",
       "    }\n",
       "</style>\n",
       "<table border=\"1\" class=\"dataframe\">\n",
       "  <thead>\n",
       "    <tr style=\"text-align: right;\">\n",
       "      <th></th>\n",
       "      <th>key_0</th>\n",
       "      <th>team</th>\n",
       "      <th>player_name</th>\n",
       "      <th>position</th>\n",
       "      <th>player_id</th>\n",
       "      <th>height</th>\n",
       "      <th>weight</th>\n",
       "      <th>years_exp</th>\n",
       "      <th>rookie_year</th>\n",
       "      <th>Player</th>\n",
       "      <th>...</th>\n",
       "      <th>PassingAtt</th>\n",
       "      <th>RushingYds</th>\n",
       "      <th>RushingTD</th>\n",
       "      <th>RushingAtt</th>\n",
       "      <th>ReceivingYds</th>\n",
       "      <th>ReceivingTD</th>\n",
       "      <th>FantasyPoints</th>\n",
       "      <th>Int</th>\n",
       "      <th>Fumbles</th>\n",
       "      <th>FumblesLost</th>\n",
       "    </tr>\n",
       "  </thead>\n",
       "  <tbody>\n",
       "    <tr>\n",
       "      <th>561</th>\n",
       "      <td>Mohamed Sanu</td>\n",
       "      <td>SF</td>\n",
       "      <td>Mohamed Sanu</td>\n",
       "      <td>WR</td>\n",
       "      <td>00-0029632</td>\n",
       "      <td>74</td>\n",
       "      <td>215</td>\n",
       "      <td>9</td>\n",
       "      <td>2012.0</td>\n",
       "      <td>Mohamed Sanu</td>\n",
       "      <td>...</td>\n",
       "      <td>0.0</td>\n",
       "      <td>0.0</td>\n",
       "      <td>0.0</td>\n",
       "      <td>0.0</td>\n",
       "      <td>177.0</td>\n",
       "      <td>0.0</td>\n",
       "      <td>18.0</td>\n",
       "      <td>0.0</td>\n",
       "      <td>0.0</td>\n",
       "      <td>0.0</td>\n",
       "    </tr>\n",
       "    <tr>\n",
       "      <th>91</th>\n",
       "      <td>Shi Smith</td>\n",
       "      <td>CAR</td>\n",
       "      <td>Shi Smith</td>\n",
       "      <td>WR</td>\n",
       "      <td>00-0036572</td>\n",
       "      <td>70</td>\n",
       "      <td>190</td>\n",
       "      <td>0</td>\n",
       "      <td>2021.0</td>\n",
       "      <td>Shi Smith</td>\n",
       "      <td>...</td>\n",
       "      <td>0.0</td>\n",
       "      <td>-3.0</td>\n",
       "      <td>0.0</td>\n",
       "      <td>1.0</td>\n",
       "      <td>104.0</td>\n",
       "      <td>0.0</td>\n",
       "      <td>10.0</td>\n",
       "      <td>0.0</td>\n",
       "      <td>0.0</td>\n",
       "      <td>0.0</td>\n",
       "    </tr>\n",
       "    <tr>\n",
       "      <th>553</th>\n",
       "      <td>Trenton Cannon</td>\n",
       "      <td>SF</td>\n",
       "      <td>Trenton Cannon</td>\n",
       "      <td>RB</td>\n",
       "      <td>00-0034164</td>\n",
       "      <td>71</td>\n",
       "      <td>185</td>\n",
       "      <td>3</td>\n",
       "      <td>2018.0</td>\n",
       "      <td>Trenton Cannon</td>\n",
       "      <td>...</td>\n",
       "      <td>0.0</td>\n",
       "      <td>4.0</td>\n",
       "      <td>0.0</td>\n",
       "      <td>3.0</td>\n",
       "      <td>0.0</td>\n",
       "      <td>0.0</td>\n",
       "      <td>-2.0</td>\n",
       "      <td>0.0</td>\n",
       "      <td>1.0</td>\n",
       "      <td>1.0</td>\n",
       "    </tr>\n",
       "    <tr>\n",
       "      <th>99</th>\n",
       "      <td>Khalil Herbert</td>\n",
       "      <td>CHI</td>\n",
       "      <td>Khalil Herbert</td>\n",
       "      <td>RB</td>\n",
       "      <td>00-0036906</td>\n",
       "      <td>69</td>\n",
       "      <td>212</td>\n",
       "      <td>0</td>\n",
       "      <td>2021.0</td>\n",
       "      <td>Khalil Herbert</td>\n",
       "      <td>...</td>\n",
       "      <td>0.0</td>\n",
       "      <td>433.0</td>\n",
       "      <td>2.0</td>\n",
       "      <td>103.0</td>\n",
       "      <td>96.0</td>\n",
       "      <td>0.0</td>\n",
       "      <td>65.0</td>\n",
       "      <td>0.0</td>\n",
       "      <td>1.0</td>\n",
       "      <td>0.0</td>\n",
       "    </tr>\n",
       "    <tr>\n",
       "      <th>37</th>\n",
       "      <td>Josh Johnson</td>\n",
       "      <td>SEA</td>\n",
       "      <td>Josh Johnson</td>\n",
       "      <td>RB</td>\n",
       "      <td>00-0036799</td>\n",
       "      <td>69</td>\n",
       "      <td>208</td>\n",
       "      <td>0</td>\n",
       "      <td>2021.0</td>\n",
       "      <td>Josh Johnson</td>\n",
       "      <td>...</td>\n",
       "      <td>85.0</td>\n",
       "      <td>28.0</td>\n",
       "      <td>0.0</td>\n",
       "      <td>9.0</td>\n",
       "      <td>0.0</td>\n",
       "      <td>0.0</td>\n",
       "      <td>46.0</td>\n",
       "      <td>2.0</td>\n",
       "      <td>2.0</td>\n",
       "      <td>0.0</td>\n",
       "    </tr>\n",
       "  </tbody>\n",
       "</table>\n",
       "<p>5 rows × 29 columns</p>\n",
       "</div>"
      ],
      "text/plain": [
       "              key_0 team     player_name position   player_id height  weight  \\\n",
       "561    Mohamed Sanu   SF    Mohamed Sanu       WR  00-0029632     74     215   \n",
       "91        Shi Smith  CAR       Shi Smith       WR  00-0036572     70     190   \n",
       "553  Trenton Cannon   SF  Trenton Cannon       RB  00-0034164     71     185   \n",
       "99   Khalil Herbert  CHI  Khalil Herbert       RB  00-0036906     69     212   \n",
       "37     Josh Johnson  SEA    Josh Johnson       RB  00-0036799     69     208   \n",
       "\n",
       "     years_exp  rookie_year          Player  ... PassingAtt RushingYds  \\\n",
       "561          9       2012.0    Mohamed Sanu  ...        0.0        0.0   \n",
       "91           0       2021.0       Shi Smith  ...        0.0       -3.0   \n",
       "553          3       2018.0  Trenton Cannon  ...        0.0        4.0   \n",
       "99           0       2021.0  Khalil Herbert  ...        0.0      433.0   \n",
       "37           0       2021.0    Josh Johnson  ...       85.0       28.0   \n",
       "\n",
       "     RushingTD  RushingAtt  ReceivingYds  ReceivingTD  FantasyPoints  Int  \\\n",
       "561        0.0         0.0         177.0          0.0           18.0  0.0   \n",
       "91         0.0         1.0         104.0          0.0           10.0  0.0   \n",
       "553        0.0         3.0           0.0          0.0           -2.0  0.0   \n",
       "99         2.0       103.0          96.0          0.0           65.0  0.0   \n",
       "37         0.0         9.0           0.0          0.0           46.0  2.0   \n",
       "\n",
       "     Fumbles  FumblesLost  \n",
       "561      0.0          0.0  \n",
       "91       0.0          0.0  \n",
       "553      1.0          1.0  \n",
       "99       1.0          0.0  \n",
       "37       2.0          0.0  \n",
       "\n",
       "[5 rows x 29 columns]"
      ]
     },
     "execution_count": 256,
     "metadata": {},
     "output_type": "execute_result"
    }
   ],
   "source": [
    "ff21_r = pd.merge(rosters21_rel, ff21, how = 'inner', left_on = rosters21_rel['player_name'], right_on = ff21['Player'], suffixes = ('_21r', '_21')).reset_index(drop = True)\n",
    "\n",
    "ff21_r.sample(5)"
   ]
  },
  {
   "cell_type": "markdown",
   "id": "0732943e",
   "metadata": {},
   "source": [
    "### merging all 3 years together\n",
    "\n",
    "Now, let's merge these dataframes on Player_id"
   ]
  },
  {
   "cell_type": "code",
   "execution_count": 257,
   "id": "016301be",
   "metadata": {},
   "outputs": [
    {
     "data": {
      "text/html": [
       "<div>\n",
       "<style scoped>\n",
       "    .dataframe tbody tr th:only-of-type {\n",
       "        vertical-align: middle;\n",
       "    }\n",
       "\n",
       "    .dataframe tbody tr th {\n",
       "        vertical-align: top;\n",
       "    }\n",
       "\n",
       "    .dataframe thead th {\n",
       "        text-align: right;\n",
       "    }\n",
       "</style>\n",
       "<table border=\"1\" class=\"dataframe\">\n",
       "  <thead>\n",
       "    <tr style=\"text-align: right;\">\n",
       "      <th></th>\n",
       "      <th>key_0</th>\n",
       "      <th>key_0_19</th>\n",
       "      <th>team_19</th>\n",
       "      <th>player_name_19</th>\n",
       "      <th>position_19</th>\n",
       "      <th>player_id_19</th>\n",
       "      <th>height_19</th>\n",
       "      <th>weight_19</th>\n",
       "      <th>years_exp_19</th>\n",
       "      <th>rookie_year_19</th>\n",
       "      <th>...</th>\n",
       "      <th>PassingAtt_20</th>\n",
       "      <th>RushingYds_20</th>\n",
       "      <th>RushingTD_20</th>\n",
       "      <th>RushingAtt_20</th>\n",
       "      <th>ReceivingYds_20</th>\n",
       "      <th>ReceivingTD_20</th>\n",
       "      <th>FantasyPoints_20</th>\n",
       "      <th>Int_20</th>\n",
       "      <th>Fumbles_20</th>\n",
       "      <th>FumblesLost_20</th>\n",
       "    </tr>\n",
       "  </thead>\n",
       "  <tbody>\n",
       "    <tr>\n",
       "      <th>0</th>\n",
       "      <td>00-0031589</td>\n",
       "      <td>Brett Hundley</td>\n",
       "      <td>ARI</td>\n",
       "      <td>Brett Hundley</td>\n",
       "      <td>QB</td>\n",
       "      <td>00-0031589</td>\n",
       "      <td>75</td>\n",
       "      <td>226.0</td>\n",
       "      <td>4.0</td>\n",
       "      <td>2015.0</td>\n",
       "      <td>...</td>\n",
       "      <td>NaN</td>\n",
       "      <td>NaN</td>\n",
       "      <td>NaN</td>\n",
       "      <td>NaN</td>\n",
       "      <td>NaN</td>\n",
       "      <td>NaN</td>\n",
       "      <td>NaN</td>\n",
       "      <td>NaN</td>\n",
       "      <td>NaN</td>\n",
       "      <td>NaN</td>\n",
       "    </tr>\n",
       "    <tr>\n",
       "      <th>1</th>\n",
       "      <td>00-0035228</td>\n",
       "      <td>Kyler Murray</td>\n",
       "      <td>ARI</td>\n",
       "      <td>Kyler Murray</td>\n",
       "      <td>QB</td>\n",
       "      <td>00-0035228</td>\n",
       "      <td>70</td>\n",
       "      <td>207.0</td>\n",
       "      <td>0.0</td>\n",
       "      <td>2019.0</td>\n",
       "      <td>...</td>\n",
       "      <td>558.0</td>\n",
       "      <td>819.0</td>\n",
       "      <td>11.0</td>\n",
       "      <td>133.0</td>\n",
       "      <td>0.0</td>\n",
       "      <td>0.0</td>\n",
       "      <td>379.0</td>\n",
       "      <td>12.0</td>\n",
       "      <td>9.0</td>\n",
       "      <td>4.0</td>\n",
       "    </tr>\n",
       "    <tr>\n",
       "      <th>2</th>\n",
       "      <td>00-0029141</td>\n",
       "      <td>Alfred Morris</td>\n",
       "      <td>ARI</td>\n",
       "      <td>Alfred Morris</td>\n",
       "      <td>RB</td>\n",
       "      <td>00-0029141</td>\n",
       "      <td>70</td>\n",
       "      <td>222.0</td>\n",
       "      <td>NaN</td>\n",
       "      <td>NaN</td>\n",
       "      <td>...</td>\n",
       "      <td>0.0</td>\n",
       "      <td>238.0</td>\n",
       "      <td>1.0</td>\n",
       "      <td>55.0</td>\n",
       "      <td>19.0</td>\n",
       "      <td>1.0</td>\n",
       "      <td>38.0</td>\n",
       "      <td>0.0</td>\n",
       "      <td>0.0</td>\n",
       "      <td>0.0</td>\n",
       "    </tr>\n",
       "    <tr>\n",
       "      <th>3</th>\n",
       "      <td>00-0032187</td>\n",
       "      <td>David Johnson</td>\n",
       "      <td>ARI</td>\n",
       "      <td>David Johnson</td>\n",
       "      <td>RB</td>\n",
       "      <td>00-0032187</td>\n",
       "      <td>73</td>\n",
       "      <td>224.0</td>\n",
       "      <td>4.0</td>\n",
       "      <td>2015.0</td>\n",
       "      <td>...</td>\n",
       "      <td>0.0</td>\n",
       "      <td>691.0</td>\n",
       "      <td>6.0</td>\n",
       "      <td>147.0</td>\n",
       "      <td>314.0</td>\n",
       "      <td>2.0</td>\n",
       "      <td>147.0</td>\n",
       "      <td>0.0</td>\n",
       "      <td>2.0</td>\n",
       "      <td>1.0</td>\n",
       "    </tr>\n",
       "    <tr>\n",
       "      <th>4</th>\n",
       "      <td>00-0033118</td>\n",
       "      <td>Kenyan Drake</td>\n",
       "      <td>ARI</td>\n",
       "      <td>Kenyan Drake</td>\n",
       "      <td>RB</td>\n",
       "      <td>00-0033118</td>\n",
       "      <td>73</td>\n",
       "      <td>211.0</td>\n",
       "      <td>3.0</td>\n",
       "      <td>2016.0</td>\n",
       "      <td>...</td>\n",
       "      <td>0.0</td>\n",
       "      <td>955.0</td>\n",
       "      <td>10.0</td>\n",
       "      <td>239.0</td>\n",
       "      <td>137.0</td>\n",
       "      <td>0.0</td>\n",
       "      <td>167.0</td>\n",
       "      <td>0.0</td>\n",
       "      <td>3.0</td>\n",
       "      <td>1.0</td>\n",
       "    </tr>\n",
       "  </tbody>\n",
       "</table>\n",
       "<p>5 rows × 59 columns</p>\n",
       "</div>"
      ],
      "text/plain": [
       "        key_0       key_0_19 team_19 player_name_19 position_19 player_id_19  \\\n",
       "0  00-0031589  Brett Hundley     ARI  Brett Hundley          QB   00-0031589   \n",
       "1  00-0035228   Kyler Murray     ARI   Kyler Murray          QB   00-0035228   \n",
       "2  00-0029141  Alfred Morris     ARI  Alfred Morris          RB   00-0029141   \n",
       "3  00-0032187  David Johnson     ARI  David Johnson          RB   00-0032187   \n",
       "4  00-0033118   Kenyan Drake     ARI   Kenyan Drake          RB   00-0033118   \n",
       "\n",
       "  height_19  weight_19  years_exp_19  rookie_year_19  ... PassingAtt_20  \\\n",
       "0        75      226.0           4.0          2015.0  ...           NaN   \n",
       "1        70      207.0           0.0          2019.0  ...         558.0   \n",
       "2        70      222.0           NaN             NaN  ...           0.0   \n",
       "3        73      224.0           4.0          2015.0  ...           0.0   \n",
       "4        73      211.0           3.0          2016.0  ...           0.0   \n",
       "\n",
       "  RushingYds_20 RushingTD_20  RushingAtt_20  ReceivingYds_20  ReceivingTD_20  \\\n",
       "0           NaN          NaN            NaN              NaN             NaN   \n",
       "1         819.0         11.0          133.0              0.0             0.0   \n",
       "2         238.0          1.0           55.0             19.0             1.0   \n",
       "3         691.0          6.0          147.0            314.0             2.0   \n",
       "4         955.0         10.0          239.0            137.0             0.0   \n",
       "\n",
       "   FantasyPoints_20  Int_20  Fumbles_20  FumblesLost_20  \n",
       "0               NaN     NaN         NaN             NaN  \n",
       "1             379.0    12.0         9.0             4.0  \n",
       "2              38.0     0.0         0.0             0.0  \n",
       "3             147.0     0.0         2.0             1.0  \n",
       "4             167.0     0.0         3.0             1.0  \n",
       "\n",
       "[5 rows x 59 columns]"
      ]
     },
     "execution_count": 257,
     "metadata": {},
     "output_type": "execute_result"
    }
   ],
   "source": [
    "# concatenating data frames\n",
    "\n",
    "ff_all = pd.merge(ff19_r, ff20_r, how = 'outer', left_on = ff19_r['player_id'], right_on = ff20_r['player_id'], suffixes = ('_19', '_20')).reset_index(drop = True)\n",
    "\n",
    "ff_all.head()"
   ]
  },
  {
   "cell_type": "code",
   "execution_count": 258,
   "id": "5f518da9",
   "metadata": {},
   "outputs": [],
   "source": [
    "# first, adding suffix to 21\n",
    "ff21_r = ff21_r.add_suffix('_21')\n",
    "\n"
   ]
  },
  {
   "cell_type": "code",
   "execution_count": 259,
   "id": "f5489c48",
   "metadata": {
    "scrolled": true
   },
   "outputs": [
    {
     "data": {
      "text/html": [
       "<div>\n",
       "<style scoped>\n",
       "    .dataframe tbody tr th:only-of-type {\n",
       "        vertical-align: middle;\n",
       "    }\n",
       "\n",
       "    .dataframe tbody tr th {\n",
       "        vertical-align: top;\n",
       "    }\n",
       "\n",
       "    .dataframe thead th {\n",
       "        text-align: right;\n",
       "    }\n",
       "</style>\n",
       "<table border=\"1\" class=\"dataframe\">\n",
       "  <thead>\n",
       "    <tr style=\"text-align: right;\">\n",
       "      <th></th>\n",
       "      <th>key_0</th>\n",
       "      <th>key_0_19</th>\n",
       "      <th>team_19</th>\n",
       "      <th>player_name_19</th>\n",
       "      <th>position_19</th>\n",
       "      <th>player_id_19</th>\n",
       "      <th>height_19</th>\n",
       "      <th>weight_19</th>\n",
       "      <th>years_exp_19</th>\n",
       "      <th>rookie_year_19</th>\n",
       "      <th>...</th>\n",
       "      <th>PassingAtt_21</th>\n",
       "      <th>RushingYds_21</th>\n",
       "      <th>RushingTD_21</th>\n",
       "      <th>RushingAtt_21</th>\n",
       "      <th>ReceivingYds_21</th>\n",
       "      <th>ReceivingTD_21</th>\n",
       "      <th>FantasyPoints_21</th>\n",
       "      <th>Int_21</th>\n",
       "      <th>Fumbles_21</th>\n",
       "      <th>FumblesLost_21</th>\n",
       "    </tr>\n",
       "  </thead>\n",
       "  <tbody>\n",
       "    <tr>\n",
       "      <th>349</th>\n",
       "      <td>00-0034867</td>\n",
       "      <td>Malik Turner</td>\n",
       "      <td>SEA</td>\n",
       "      <td>Malik Turner</td>\n",
       "      <td>WR</td>\n",
       "      <td>00-0034867</td>\n",
       "      <td>74</td>\n",
       "      <td>200.0</td>\n",
       "      <td>1.0</td>\n",
       "      <td>2018.0</td>\n",
       "      <td>...</td>\n",
       "      <td>0.0</td>\n",
       "      <td>0.0</td>\n",
       "      <td>0.0</td>\n",
       "      <td>0.0</td>\n",
       "      <td>149.0</td>\n",
       "      <td>3.0</td>\n",
       "      <td>33.0</td>\n",
       "      <td>0.0</td>\n",
       "      <td>0.0</td>\n",
       "      <td>0.0</td>\n",
       "    </tr>\n",
       "    <tr>\n",
       "      <th>364</th>\n",
       "      <td>00-0031503</td>\n",
       "      <td>Jameis Winston</td>\n",
       "      <td>TB</td>\n",
       "      <td>Jameis Winston</td>\n",
       "      <td>QB</td>\n",
       "      <td>00-0031503</td>\n",
       "      <td>76</td>\n",
       "      <td>231.0</td>\n",
       "      <td>4.0</td>\n",
       "      <td>2015.0</td>\n",
       "      <td>...</td>\n",
       "      <td>161.0</td>\n",
       "      <td>166.0</td>\n",
       "      <td>1.0</td>\n",
       "      <td>32.0</td>\n",
       "      <td>0.0</td>\n",
       "      <td>0.0</td>\n",
       "      <td>117.0</td>\n",
       "      <td>3.0</td>\n",
       "      <td>2.0</td>\n",
       "      <td>1.0</td>\n",
       "    </tr>\n",
       "    <tr>\n",
       "      <th>277</th>\n",
       "      <td>00-0035624</td>\n",
       "      <td>N'Keal Harry</td>\n",
       "      <td>NE</td>\n",
       "      <td>N'Keal Harry</td>\n",
       "      <td>WR</td>\n",
       "      <td>00-0035624</td>\n",
       "      <td>76</td>\n",
       "      <td>225.0</td>\n",
       "      <td>0.0</td>\n",
       "      <td>2019.0</td>\n",
       "      <td>...</td>\n",
       "      <td>0.0</td>\n",
       "      <td>0.0</td>\n",
       "      <td>0.0</td>\n",
       "      <td>0.0</td>\n",
       "      <td>184.0</td>\n",
       "      <td>0.0</td>\n",
       "      <td>16.0</td>\n",
       "      <td>0.0</td>\n",
       "      <td>1.0</td>\n",
       "      <td>1.0</td>\n",
       "    </tr>\n",
       "    <tr>\n",
       "      <th>191</th>\n",
       "      <td>00-0034301</td>\n",
       "      <td>Darrel Williams</td>\n",
       "      <td>KC</td>\n",
       "      <td>Darrel Williams</td>\n",
       "      <td>RB</td>\n",
       "      <td>00-0034301</td>\n",
       "      <td>71</td>\n",
       "      <td>224.0</td>\n",
       "      <td>NaN</td>\n",
       "      <td>NaN</td>\n",
       "      <td>...</td>\n",
       "      <td>0.0</td>\n",
       "      <td>558.0</td>\n",
       "      <td>6.0</td>\n",
       "      <td>144.0</td>\n",
       "      <td>452.0</td>\n",
       "      <td>2.0</td>\n",
       "      <td>149.0</td>\n",
       "      <td>0.0</td>\n",
       "      <td>0.0</td>\n",
       "      <td>0.0</td>\n",
       "    </tr>\n",
       "    <tr>\n",
       "      <th>14</th>\n",
       "      <td>00-0030465</td>\n",
       "      <td>Kenjon Barner</td>\n",
       "      <td>ATL</td>\n",
       "      <td>Kenjon Barner</td>\n",
       "      <td>RB</td>\n",
       "      <td>00-0030465</td>\n",
       "      <td>69</td>\n",
       "      <td>195.0</td>\n",
       "      <td>6.0</td>\n",
       "      <td>2013.0</td>\n",
       "      <td>...</td>\n",
       "      <td>0.0</td>\n",
       "      <td>0.0</td>\n",
       "      <td>0.0</td>\n",
       "      <td>4.0</td>\n",
       "      <td>0.0</td>\n",
       "      <td>0.0</td>\n",
       "      <td>NaN</td>\n",
       "      <td>0.0</td>\n",
       "      <td>0.0</td>\n",
       "      <td>0.0</td>\n",
       "    </tr>\n",
       "    <tr>\n",
       "      <th>461</th>\n",
       "      <td>00-0036096</td>\n",
       "      <td>NaN</td>\n",
       "      <td>NaN</td>\n",
       "      <td>NaN</td>\n",
       "      <td>NaN</td>\n",
       "      <td>NaN</td>\n",
       "      <td>NaN</td>\n",
       "      <td>NaN</td>\n",
       "      <td>NaN</td>\n",
       "      <td>NaN</td>\n",
       "      <td>...</td>\n",
       "      <td>0.0</td>\n",
       "      <td>37.0</td>\n",
       "      <td>2.0</td>\n",
       "      <td>19.0</td>\n",
       "      <td>8.0</td>\n",
       "      <td>0.0</td>\n",
       "      <td>15.0</td>\n",
       "      <td>0.0</td>\n",
       "      <td>1.0</td>\n",
       "      <td>1.0</td>\n",
       "    </tr>\n",
       "    <tr>\n",
       "      <th>404</th>\n",
       "      <td>00-0035993</td>\n",
       "      <td>NaN</td>\n",
       "      <td>NaN</td>\n",
       "      <td>NaN</td>\n",
       "      <td>NaN</td>\n",
       "      <td>NaN</td>\n",
       "      <td>NaN</td>\n",
       "      <td>NaN</td>\n",
       "      <td>NaN</td>\n",
       "      <td>NaN</td>\n",
       "      <td>...</td>\n",
       "      <td>188.0</td>\n",
       "      <td>294.0</td>\n",
       "      <td>2.0</td>\n",
       "      <td>47.0</td>\n",
       "      <td>0.0</td>\n",
       "      <td>0.0</td>\n",
       "      <td>83.0</td>\n",
       "      <td>4.0</td>\n",
       "      <td>4.0</td>\n",
       "      <td>3.0</td>\n",
       "    </tr>\n",
       "    <tr>\n",
       "      <th>437</th>\n",
       "      <td>00-0036069</td>\n",
       "      <td>NaN</td>\n",
       "      <td>NaN</td>\n",
       "      <td>NaN</td>\n",
       "      <td>NaN</td>\n",
       "      <td>NaN</td>\n",
       "      <td>NaN</td>\n",
       "      <td>NaN</td>\n",
       "      <td>NaN</td>\n",
       "      <td>NaN</td>\n",
       "      <td>...</td>\n",
       "      <td>0.0</td>\n",
       "      <td>13.0</td>\n",
       "      <td>0.0</td>\n",
       "      <td>6.0</td>\n",
       "      <td>9.0</td>\n",
       "      <td>0.0</td>\n",
       "      <td>2.0</td>\n",
       "      <td>0.0</td>\n",
       "      <td>0.0</td>\n",
       "      <td>0.0</td>\n",
       "    </tr>\n",
       "    <tr>\n",
       "      <th>98</th>\n",
       "      <td>00-0034854</td>\n",
       "      <td>KhaDarel Hodge</td>\n",
       "      <td>CLE</td>\n",
       "      <td>KhaDarel Hodge</td>\n",
       "      <td>WR</td>\n",
       "      <td>00-0034854</td>\n",
       "      <td>74</td>\n",
       "      <td>205.0</td>\n",
       "      <td>1.0</td>\n",
       "      <td>2018.0</td>\n",
       "      <td>...</td>\n",
       "      <td>0.0</td>\n",
       "      <td>0.0</td>\n",
       "      <td>0.0</td>\n",
       "      <td>0.0</td>\n",
       "      <td>157.0</td>\n",
       "      <td>0.0</td>\n",
       "      <td>18.0</td>\n",
       "      <td>0.0</td>\n",
       "      <td>0.0</td>\n",
       "      <td>0.0</td>\n",
       "    </tr>\n",
       "    <tr>\n",
       "      <th>226</th>\n",
       "      <td>00-0035432</td>\n",
       "      <td>Jason Moore</td>\n",
       "      <td>LAC</td>\n",
       "      <td>Jason Moore</td>\n",
       "      <td>WR</td>\n",
       "      <td>00-0035432</td>\n",
       "      <td>74</td>\n",
       "      <td>215.0</td>\n",
       "      <td>0.0</td>\n",
       "      <td>2019.0</td>\n",
       "      <td>...</td>\n",
       "      <td>0.0</td>\n",
       "      <td>0.0</td>\n",
       "      <td>0.0</td>\n",
       "      <td>0.0</td>\n",
       "      <td>56.0</td>\n",
       "      <td>0.0</td>\n",
       "      <td>6.0</td>\n",
       "      <td>0.0</td>\n",
       "      <td>0.0</td>\n",
       "      <td>0.0</td>\n",
       "    </tr>\n",
       "  </tbody>\n",
       "</table>\n",
       "<p>10 rows × 88 columns</p>\n",
       "</div>"
      ],
      "text/plain": [
       "          key_0         key_0_19 team_19   player_name_19 position_19  \\\n",
       "349  00-0034867     Malik Turner     SEA     Malik Turner          WR   \n",
       "364  00-0031503   Jameis Winston      TB   Jameis Winston          QB   \n",
       "277  00-0035624     N'Keal Harry      NE     N'Keal Harry          WR   \n",
       "191  00-0034301  Darrel Williams      KC  Darrel Williams          RB   \n",
       "14   00-0030465    Kenjon Barner     ATL    Kenjon Barner          RB   \n",
       "461  00-0036096              NaN     NaN              NaN         NaN   \n",
       "404  00-0035993              NaN     NaN              NaN         NaN   \n",
       "437  00-0036069              NaN     NaN              NaN         NaN   \n",
       "98   00-0034854   KhaDarel Hodge     CLE   KhaDarel Hodge          WR   \n",
       "226  00-0035432      Jason Moore     LAC      Jason Moore          WR   \n",
       "\n",
       "    player_id_19 height_19  weight_19  years_exp_19  rookie_year_19  ...  \\\n",
       "349   00-0034867        74      200.0           1.0          2018.0  ...   \n",
       "364   00-0031503        76      231.0           4.0          2015.0  ...   \n",
       "277   00-0035624        76      225.0           0.0          2019.0  ...   \n",
       "191   00-0034301        71      224.0           NaN             NaN  ...   \n",
       "14    00-0030465        69      195.0           6.0          2013.0  ...   \n",
       "461          NaN       NaN        NaN           NaN             NaN  ...   \n",
       "404          NaN       NaN        NaN           NaN             NaN  ...   \n",
       "437          NaN       NaN        NaN           NaN             NaN  ...   \n",
       "98    00-0034854        74      205.0           1.0          2018.0  ...   \n",
       "226   00-0035432        74      215.0           0.0          2019.0  ...   \n",
       "\n",
       "    PassingAtt_21 RushingYds_21 RushingTD_21  RushingAtt_21  ReceivingYds_21  \\\n",
       "349           0.0           0.0          0.0            0.0            149.0   \n",
       "364         161.0         166.0          1.0           32.0              0.0   \n",
       "277           0.0           0.0          0.0            0.0            184.0   \n",
       "191           0.0         558.0          6.0          144.0            452.0   \n",
       "14            0.0           0.0          0.0            4.0              0.0   \n",
       "461           0.0          37.0          2.0           19.0              8.0   \n",
       "404         188.0         294.0          2.0           47.0              0.0   \n",
       "437           0.0          13.0          0.0            6.0              9.0   \n",
       "98            0.0           0.0          0.0            0.0            157.0   \n",
       "226           0.0           0.0          0.0            0.0             56.0   \n",
       "\n",
       "     ReceivingTD_21  FantasyPoints_21  Int_21  Fumbles_21  FumblesLost_21  \n",
       "349             3.0              33.0     0.0         0.0             0.0  \n",
       "364             0.0             117.0     3.0         2.0             1.0  \n",
       "277             0.0              16.0     0.0         1.0             1.0  \n",
       "191             2.0             149.0     0.0         0.0             0.0  \n",
       "14              0.0               NaN     0.0         0.0             0.0  \n",
       "461             0.0              15.0     0.0         1.0             1.0  \n",
       "404             0.0              83.0     4.0         4.0             3.0  \n",
       "437             0.0               2.0     0.0         0.0             0.0  \n",
       "98              0.0              18.0     0.0         0.0             0.0  \n",
       "226             0.0               6.0     0.0         0.0             0.0  \n",
       "\n",
       "[10 rows x 88 columns]"
      ]
     },
     "execution_count": 259,
     "metadata": {},
     "output_type": "execute_result"
    }
   ],
   "source": [
    "# concatenating data frames (19+20 with 21)\n",
    "\n",
    "ff21_r['key_0'] = ff21_r['player_id_21']\n",
    "\n",
    "ff_all = ff_all.merge(ff21_r, on = 'key_0')\n",
    "\n",
    "ff_all.sample(10)"
   ]
  },
  {
   "cell_type": "markdown",
   "id": "df367361",
   "metadata": {},
   "source": [
    "After the merges, let's ensure the columns are all relevant and no duplicate information"
   ]
  },
  {
   "cell_type": "code",
   "execution_count": 260,
   "id": "a63e5ef5",
   "metadata": {},
   "outputs": [
    {
     "data": {
      "text/plain": [
       "(504, 88)"
      ]
     },
     "execution_count": 260,
     "metadata": {},
     "output_type": "execute_result"
    }
   ],
   "source": [
    "ff_all.shape"
   ]
  },
  {
   "cell_type": "code",
   "execution_count": 261,
   "id": "35d04485",
   "metadata": {},
   "outputs": [
    {
     "data": {
      "text/plain": [
       "Index(['key_0', 'key_0_19', 'team_19', 'player_name_19', 'position_19',\n",
       "       'player_id_19', 'height_19', 'weight_19', 'years_exp_19',\n",
       "       'rookie_year_19', 'Player_19', 'Tm_19', 'Pos_19', 'Age_19', 'G_19',\n",
       "       'GS_19', 'Tgt_19', 'Rec_19', 'PassingYds_19', 'PassingTD_19',\n",
       "       'PassingAtt_19', 'RushingYds_19', 'RushingTD_19', 'RushingAtt_19',\n",
       "       'ReceivingYds_19', 'ReceivingTD_19', 'FantasyPoints_19', 'Int_19',\n",
       "       'Fumbles_19', 'FumblesLost_19', 'key_0_20', 'team_20', 'player_name_20',\n",
       "       'position_20', 'player_id_20', 'height_20', 'weight_20', 'years_exp_20',\n",
       "       'rookie_year_20', 'Player_20', 'Tm_20', 'Pos_20', 'Age_20', 'G_20',\n",
       "       'GS_20', 'Tgt_20', 'Rec_20', 'PassingYds_20', 'PassingTD_20',\n",
       "       'PassingAtt_20', 'RushingYds_20', 'RushingTD_20', 'RushingAtt_20',\n",
       "       'ReceivingYds_20', 'ReceivingTD_20', 'FantasyPoints_20', 'Int_20',\n",
       "       'Fumbles_20', 'FumblesLost_20', 'key_0_21', 'team_21', 'player_name_21',\n",
       "       'position_21', 'player_id_21', 'height_21', 'weight_21', 'years_exp_21',\n",
       "       'rookie_year_21', 'Player_21', 'Tm_21', 'Pos_21', 'Age_21', 'G_21',\n",
       "       'GS_21', 'Tgt_21', 'Rec_21', 'PassingYds_21', 'PassingTD_21',\n",
       "       'PassingAtt_21', 'RushingYds_21', 'RushingTD_21', 'RushingAtt_21',\n",
       "       'ReceivingYds_21', 'ReceivingTD_21', 'FantasyPoints_21', 'Int_21',\n",
       "       'Fumbles_21', 'FumblesLost_21'],\n",
       "      dtype='object')"
      ]
     },
     "execution_count": 261,
     "metadata": {},
     "output_type": "execute_result"
    }
   ],
   "source": [
    "ff_all.columns"
   ]
  },
  {
   "cell_type": "code",
   "execution_count": 262,
   "id": "b69c3ae0",
   "metadata": {},
   "outputs": [],
   "source": [
    "ff_all = ff_all.loc[:,~ff_all.apply(lambda x: x.duplicated(),axis=1).all()].copy()"
   ]
  },
  {
   "cell_type": "code",
   "execution_count": 263,
   "id": "119d49b5",
   "metadata": {},
   "outputs": [
    {
     "data": {
      "text/plain": [
       "Index(['key_0', 'key_0_19', 'team_19', 'position_19', 'height_19', 'weight_19',\n",
       "       'years_exp_19', 'rookie_year_19', 'Tm_19', 'Pos_19', 'Age_19', 'G_19',\n",
       "       'GS_19', 'Tgt_19', 'Rec_19', 'PassingYds_19', 'PassingTD_19',\n",
       "       'PassingAtt_19', 'RushingYds_19', 'RushingTD_19', 'RushingAtt_19',\n",
       "       'ReceivingYds_19', 'ReceivingTD_19', 'FantasyPoints_19', 'Int_19',\n",
       "       'Fumbles_19', 'FumblesLost_19', 'key_0_20', 'team_20', 'position_20',\n",
       "       'height_20', 'weight_20', 'years_exp_20', 'rookie_year_20', 'Tm_20',\n",
       "       'Pos_20', 'Age_20', 'G_20', 'GS_20', 'Tgt_20', 'Rec_20',\n",
       "       'PassingYds_20', 'PassingTD_20', 'PassingAtt_20', 'RushingYds_20',\n",
       "       'RushingTD_20', 'RushingAtt_20', 'ReceivingYds_20', 'ReceivingTD_20',\n",
       "       'FantasyPoints_20', 'Int_20', 'Fumbles_20', 'FumblesLost_20', 'team_21',\n",
       "       'position_21', 'height_21', 'weight_21', 'years_exp_21',\n",
       "       'rookie_year_21', 'Tm_21', 'Pos_21', 'Age_21', 'G_21', 'GS_21',\n",
       "       'Tgt_21', 'Rec_21', 'PassingYds_21', 'PassingTD_21', 'PassingAtt_21',\n",
       "       'RushingYds_21', 'RushingTD_21', 'RushingAtt_21', 'ReceivingYds_21',\n",
       "       'ReceivingTD_21', 'FantasyPoints_21', 'Int_21', 'Fumbles_21',\n",
       "       'FumblesLost_21'],\n",
       "      dtype='object')"
      ]
     },
     "execution_count": 263,
     "metadata": {},
     "output_type": "execute_result"
    }
   ],
   "source": [
    "ff_all.columns"
   ]
  },
  {
   "cell_type": "markdown",
   "id": "aec23b45",
   "metadata": {},
   "source": [
    "## Feature Engineering"
   ]
  },
  {
   "cell_type": "markdown",
   "id": "618d3e37",
   "metadata": {},
   "source": [
    "Main Data Frame is set! Let's see if we can create new features"
   ]
  },
  {
   "cell_type": "code",
   "execution_count": 264,
   "id": "b5b20373",
   "metadata": {},
   "outputs": [],
   "source": [
    "# Create a rookie year column [1 if yes; 0 if no]\n",
    "# so, if 2019 and 2020 are null, and 2021 is not null, then rookie in '21\n",
    "# so on for 2020\n",
    "\n",
    "## NEED TO FIX THIS, or use dif data to see if rookie or not\n",
    "\n",
    "# ff_all['rookie21'] = np.where(ff_all['years_exp_21', 1, 0)\n",
    "# ff_all['rookie20'] = np.where((ff_all['Tm_19'].isnull() & ff_all['Tm_20'].notnull()), 1, 0)\n",
    "\n",
    "# ff_all.head()\n",
    "\n",
    "## THIS WAS TAKEN CARE OF WITH NEW DATASET"
   ]
  },
  {
   "cell_type": "code",
   "execution_count": 265,
   "id": "46dec2ae",
   "metadata": {},
   "outputs": [],
   "source": [
    "# add in new variables -- \n",
    "\n",
    "# percentage of games started in 19 and 20.\n",
    "\n",
    "ff_all['pct_gs19'] = ff_all['GS_19'] / ff_all['G_19']\n",
    "ff_all['pct_gs20'] = ff_all['GS_20'] / ff_all['G_20']\n",
    "\n",
    "# rushing yards per attempt each year\n",
    "\n",
    "ff_all['avg_per_rush19'] = ff_all['RushingYds_19'] / ff_all['RushingAtt_19']\n",
    "ff_all['avg_per_rush20'] = ff_all['RushingYds_20'] / ff_all['RushingAtt_20']\n",
    "\n",
    "# rec yards per catch each year\n",
    "\n",
    "ff_all['avg_per_catch19'] = ff_all['ReceivingYds_19'] / ff_all['Rec_19']\n",
    "ff_all['avg_per_catch20'] = ff_all['ReceivingYds_20'] / ff_all['Rec_20']\n",
    "\n",
    "# rec yards per target each year\n",
    "\n",
    "ff_all['avg_per_tgt19'] = ff_all['ReceivingYds_19'] / ff_all['Tgt_19']\n",
    "ff_all['avg_per_tgt20'] = ff_all['ReceivingYds_20'] / ff_all['Tgt_20']\n",
    "\n",
    "# total touches \n",
    "\n",
    "ff_all['ttl_touch19'] = ff_all['RushingAtt_19'] + ff_all['Rec_19']\n",
    "ff_all['ttl_touch20'] = ff_all['RushingAtt_20'] + ff_all['Rec_20']\n",
    "\n",
    "# total opportunities\n",
    "# defining opportunity as a target, rushing attempt and passing attempt\n",
    "\n",
    "ff_all['ttl_opp19'] = ff_all['RushingAtt_19'] + ff_all['Tgt_19'] + ff_all['PassingAtt_19']\n",
    "ff_all['ttl_opp20'] = ff_all['RushingAtt_20'] + ff_all['Tgt_20'] + ff_all['PassingAtt_20']\n",
    "\n",
    "\n",
    "# total opportunities per game\n",
    "\n",
    "ff_all['ttl_opp_per_game19'] = ff_all['ttl_opp19'] / ff_all['G_19']\n",
    "ff_all['ttl_opp_per_game20'] = ff_all['ttl_opp20'] / ff_all['G_20']\n",
    "\n",
    "# yards per opportunity\n",
    "\n",
    "ff_all['yds_per_opp19'] = (ff_all['ReceivingYds_19'] + ff_all['RushingYds_19'] + ff_all['PassingYds_19']) / ff_all['ttl_opp19']\n",
    "ff_all['yds_per_opp20'] = (ff_all['ReceivingYds_20'] + ff_all['RushingYds_20'] + ff_all['PassingYds_20']) / ff_all['ttl_opp20']\n",
    "\n",
    "# touchdowns per opportunity\n",
    "\n",
    "ff_all['td_per_opp19'] = (ff_all['ReceivingTD_19'] + ff_all['RushingTD_19'] + ff_all['PassingTD_19']) / ff_all['ttl_opp19']\n",
    "ff_all['td_per_opp20'] = (ff_all['ReceivingTD_20'] + ff_all['RushingTD_20'] + ff_all['PassingTD_20']) / ff_all['ttl_opp20']\n",
    "\n",
    "\n",
    "# turnovers per opportunity\n",
    "\n",
    "ff_all['turnover_per_opp19'] = (ff_all['Int_19'] + ff_all['FumblesLost_19']) / ff_all['ttl_opp19']\n",
    "ff_all['turnover_per_opp20'] = (ff_all['Int_20'] + ff_all['FumblesLost_20']) / ff_all['ttl_opp20']\n",
    "\n",
    "# fantasy points per opportunity\n",
    "\n",
    "ff_all['fp_per_opp19'] = ff_all['FantasyPoints_19'] / ff_all['ttl_opp19']\n",
    "ff_all['fp_per_opp20'] = ff_all['FantasyPoints_20'] / ff_all['ttl_opp20']\n",
    "\n",
    "# fantasy points per game\n",
    "\n",
    "ff_all['fp_per_gm19'] = ff_all['FantasyPoints_19'] / ff_all['G_19']\n",
    "ff_all['fp_per_gm20'] = ff_all['FantasyPoints_20'] / ff_all['G_20']\n",
    "ff_all['fp_per_gm21'] = ff_all['FantasyPoints_21'] / ff_all['G_21']\n",
    "\n",
    "\n",
    "# if rookie year\n",
    "\n",
    "ff_all['rookie19'] = np.where(ff_all['years_exp_19'] == 0, 1, 0)\n",
    "ff_all['rookie20'] = np.where(ff_all['years_exp_20'] == 0, 1, 0)\n",
    "ff_all['rookie21'] = np.where(ff_all['years_exp_21'] == 0, 1, 0)\n",
    "\n",
    "# Half-ppr scoring\n",
    "\n",
    "ff_all['FantasyPoints_19hppr'] = ff_all['FantasyPoints_19'] + (.5 * ff_all['Rec_19'])\n",
    "ff_all['FantasyPoints_20hppr'] = ff_all['FantasyPoints_20'] + (.5 * ff_all['Rec_20'])\n",
    "ff_all['FantasyPoints_21hppr'] = ff_all['FantasyPoints_21'] + (.5 * ff_all['Rec_21'])\n",
    "\n",
    "# fantasy points per game, hppr\n",
    "\n",
    "ff_all['fp_per_gm19hppr'] = ff_all['FantasyPoints_19hppr'] / ff_all['G_19']\n",
    "ff_all['fp_per_gm20hppr'] = ff_all['FantasyPoints_20hppr'] / ff_all['G_20']\n",
    "ff_all['fp_per_gm21hppr'] = ff_all['FantasyPoints_21hppr'] / ff_all['G_21']\n"
   ]
  },
  {
   "cell_type": "code",
   "execution_count": 266,
   "id": "d61e36ee",
   "metadata": {},
   "outputs": [
    {
     "data": {
      "text/plain": [
       "Index(['key_0', 'key_0_19', 'team_19', 'position_19', 'height_19', 'weight_19',\n",
       "       'years_exp_19', 'rookie_year_19', 'Tm_19', 'Pos_19',\n",
       "       ...\n",
       "       'fp_per_gm21', 'rookie19', 'rookie20', 'rookie21',\n",
       "       'FantasyPoints_19hppr', 'FantasyPoints_20hppr', 'FantasyPoints_21hppr',\n",
       "       'fp_per_gm19hppr', 'fp_per_gm20hppr', 'fp_per_gm21hppr'],\n",
       "      dtype='object', length=112)"
      ]
     },
     "execution_count": 266,
     "metadata": {},
     "output_type": "execute_result"
    }
   ],
   "source": [
    "ff_all.columns"
   ]
  },
  {
   "cell_type": "code",
   "execution_count": 267,
   "id": "453f8d66",
   "metadata": {},
   "outputs": [],
   "source": [
    "# creating DF with only most of 21's stats gone, only with '21 fantasy points and fp/game, as that will be what we're predicting\n",
    "# getting rid of other repetitive columns\n",
    "\n",
    "ff_all_19_20 = ff_all.drop(['Age_19', 'Pos_19', 'Pos_20', 'Age_20', \n",
    "                           'G_21', 'GS_21', 'Tgt_21', 'Rec_21', 'PassingYds_21', 'PassingTD_21', 'PassingAtt_21', 'RushingYds_21', \n",
    "                            'RushingTD_21', 'RushingAtt_21', 'ReceivingYds_21', 'ReceivingTD_21',\n",
    "                           'Int_21', 'Fumbles_21', 'FumblesLost_21'], axis = 1)\n",
    "\n",
    "ff_all_19_20 = ff_all_19_20.rename(columns={'key_0' : 'player_id', 'key_0_19': 'player_name'})"
   ]
  },
  {
   "cell_type": "code",
   "execution_count": 268,
   "id": "9ab26a5f",
   "metadata": {},
   "outputs": [],
   "source": [
    "# split up by position\n",
    "\n",
    "ff_rb = ff_all_19_20.loc[ff_all['Pos_21'] == 'RB']\n",
    "ff_wr = ff_all_19_20.loc[ff_all['Pos_21'] == 'WR']\n",
    "ff_qb = ff_all_19_20.loc[ff_all['Pos_21'] == 'QB']\n",
    "ff_te = ff_all_19_20.loc[ff_all['Pos_21'] == 'TE']"
   ]
  },
  {
   "cell_type": "markdown",
   "id": "fc9cc565",
   "metadata": {},
   "source": [
    "Data is now separated by position; with stats from 2019, 2020, and 2021 all under each name.\n",
    "\n",
    "Another thought -- should there be a minimum games played to be on?\n",
    "\n",
    "Let's make each position simpler, with the more relevant stats kept for each position.\n",
    "\n",
    "### For all: \n",
    "    - key_0, Age_21, Pos_21, Tm_19, Tm_20, Tm_21, pct_GS_19 (Create new variable), pct_GS_20 (create new variable)\n",
    "### RB:\n",
    "\n",
    "    - all but PassingYds_19, PassingTD_19, etc. Player_19, Player_20, Player_21\n",
    "    \n",
    "### WR:\n",
    "    - same as RB\n",
    "    \n",
    "### QB: \n",
    "    - all but receiving \n",
    "    \n",
    "### TE:\n",
    "    - all but rushing and passing\n"
   ]
  },
  {
   "cell_type": "code",
   "execution_count": 269,
   "id": "fd7b5c60",
   "metadata": {},
   "outputs": [
    {
     "data": {
      "text/plain": [
       "Index(['player_id', 'player_name', 'team_19', 'position_19', 'height_19',\n",
       "       'weight_19', 'years_exp_19', 'rookie_year_19', 'Tm_19', 'G_19', 'GS_19',\n",
       "       'Tgt_19', 'Rec_19', 'PassingYds_19', 'PassingTD_19', 'PassingAtt_19',\n",
       "       'RushingYds_19', 'RushingTD_19', 'RushingAtt_19', 'ReceivingYds_19',\n",
       "       'ReceivingTD_19', 'FantasyPoints_19', 'Int_19', 'Fumbles_19',\n",
       "       'FumblesLost_19', 'key_0_20', 'team_20', 'position_20', 'height_20',\n",
       "       'weight_20', 'years_exp_20', 'rookie_year_20', 'Tm_20', 'G_20', 'GS_20',\n",
       "       'Tgt_20', 'Rec_20', 'PassingYds_20', 'PassingTD_20', 'PassingAtt_20',\n",
       "       'RushingYds_20', 'RushingTD_20', 'RushingAtt_20', 'ReceivingYds_20',\n",
       "       'ReceivingTD_20', 'FantasyPoints_20', 'Int_20', 'Fumbles_20',\n",
       "       'FumblesLost_20', 'team_21', 'position_21', 'height_21', 'weight_21',\n",
       "       'years_exp_21', 'rookie_year_21', 'Tm_21', 'Pos_21', 'Age_21',\n",
       "       'FantasyPoints_21', 'pct_gs19', 'pct_gs20', 'avg_per_rush19',\n",
       "       'avg_per_rush20', 'avg_per_catch19', 'avg_per_catch20', 'avg_per_tgt19',\n",
       "       'avg_per_tgt20', 'ttl_touch19', 'ttl_touch20', 'ttl_opp19', 'ttl_opp20',\n",
       "       'ttl_opp_per_game19', 'ttl_opp_per_game20', 'yds_per_opp19',\n",
       "       'yds_per_opp20', 'td_per_opp19', 'td_per_opp20', 'turnover_per_opp19',\n",
       "       'turnover_per_opp20', 'fp_per_opp19', 'fp_per_opp20', 'fp_per_gm19',\n",
       "       'fp_per_gm20', 'fp_per_gm21', 'rookie19', 'rookie20', 'rookie21',\n",
       "       'FantasyPoints_19hppr', 'FantasyPoints_20hppr', 'FantasyPoints_21hppr',\n",
       "       'fp_per_gm19hppr', 'fp_per_gm20hppr', 'fp_per_gm21hppr'],\n",
       "      dtype='object')"
      ]
     },
     "execution_count": 269,
     "metadata": {},
     "output_type": "execute_result"
    }
   ],
   "source": [
    "ff_rb.columns"
   ]
  },
  {
   "cell_type": "code",
   "execution_count": 270,
   "id": "cbe537c0",
   "metadata": {},
   "outputs": [],
   "source": [
    "# let's make simpler \n",
    "\n",
    "ff_rb_pts = ff_rb.drop(['PassingYds_19', 'PassingTD_19', 'PassingAtt_19', 'Int_19',\n",
    "                        'PassingYds_20', 'PassingTD_20', 'PassingAtt_20', 'Int_20'], axis = 1)\n",
    "\n",
    "ff_wr_pts = ff_wr.drop(['PassingYds_19', 'PassingTD_19', 'PassingAtt_19', 'Int_19',\n",
    "                          'PassingYds_20', 'PassingTD_20', 'PassingAtt_20', 'Int_20'], axis = 1)\n",
    "\n",
    "ff_qb_pts = ff_qb.drop(['Tgt_19', 'Rec_19', 'ReceivingYds_19', 'ReceivingTD_19',\n",
    "                       'Tgt_20', 'Rec_20', 'ReceivingYds_20', 'ReceivingTD_20',\n",
    "                       'avg_per_catch19', 'avg_per_catch20', 'avg_per_tgt19', 'avg_per_tgt20'], axis = 1)\n",
    "\n",
    "\n",
    "ff_te_pts = ff_te.drop(['PassingYds_19', 'PassingTD_19', 'PassingAtt_19', 'Int_19',\n",
    "                        'PassingYds_20', 'PassingTD_20', 'PassingAtt_20', 'Int_20',\n",
    "                       'RushingYds_19', 'RushingAtt_19', 'RushingTD_19', 'avg_per_rush19', 'avg_per_rush20'], axis = 1)\n",
    "\n"
   ]
  },
  {
   "cell_type": "code",
   "execution_count": 271,
   "id": "1c910ab4",
   "metadata": {
    "scrolled": true
   },
   "outputs": [
    {
     "data": {
      "text/html": [
       "<div>\n",
       "<style scoped>\n",
       "    .dataframe tbody tr th:only-of-type {\n",
       "        vertical-align: middle;\n",
       "    }\n",
       "\n",
       "    .dataframe tbody tr th {\n",
       "        vertical-align: top;\n",
       "    }\n",
       "\n",
       "    .dataframe thead th {\n",
       "        text-align: right;\n",
       "    }\n",
       "</style>\n",
       "<table border=\"1\" class=\"dataframe\">\n",
       "  <thead>\n",
       "    <tr style=\"text-align: right;\">\n",
       "      <th></th>\n",
       "      <th>player_id</th>\n",
       "      <th>player_name</th>\n",
       "      <th>team_19</th>\n",
       "      <th>position_19</th>\n",
       "      <th>height_19</th>\n",
       "      <th>weight_19</th>\n",
       "      <th>years_exp_19</th>\n",
       "      <th>rookie_year_19</th>\n",
       "      <th>Tm_19</th>\n",
       "      <th>G_19</th>\n",
       "      <th>...</th>\n",
       "      <th>fp_per_gm21</th>\n",
       "      <th>rookie19</th>\n",
       "      <th>rookie20</th>\n",
       "      <th>rookie21</th>\n",
       "      <th>FantasyPoints_19hppr</th>\n",
       "      <th>FantasyPoints_20hppr</th>\n",
       "      <th>FantasyPoints_21hppr</th>\n",
       "      <th>fp_per_gm19hppr</th>\n",
       "      <th>fp_per_gm20hppr</th>\n",
       "      <th>fp_per_gm21hppr</th>\n",
       "    </tr>\n",
       "  </thead>\n",
       "  <tbody>\n",
       "    <tr>\n",
       "      <th>1</th>\n",
       "      <td>00-0032187</td>\n",
       "      <td>David Johnson</td>\n",
       "      <td>ARI</td>\n",
       "      <td>RB</td>\n",
       "      <td>73</td>\n",
       "      <td>224.0</td>\n",
       "      <td>4.0</td>\n",
       "      <td>2015.0</td>\n",
       "      <td>ARI</td>\n",
       "      <td>13.0</td>\n",
       "      <td>...</td>\n",
       "      <td>3.769231</td>\n",
       "      <td>0</td>\n",
       "      <td>0</td>\n",
       "      <td>0</td>\n",
       "      <td>159.50</td>\n",
       "      <td>163.5</td>\n",
       "      <td>65.0</td>\n",
       "      <td>12.269231</td>\n",
       "      <td>13.625000</td>\n",
       "      <td>5.000000</td>\n",
       "    </tr>\n",
       "    <tr>\n",
       "      <th>2</th>\n",
       "      <td>00-0033118</td>\n",
       "      <td>Kenyan Drake</td>\n",
       "      <td>ARI</td>\n",
       "      <td>RB</td>\n",
       "      <td>73</td>\n",
       "      <td>211.0</td>\n",
       "      <td>3.0</td>\n",
       "      <td>2016.0</td>\n",
       "      <td>2TM</td>\n",
       "      <td>14.0</td>\n",
       "      <td>...</td>\n",
       "      <td>6.083333</td>\n",
       "      <td>0</td>\n",
       "      <td>0</td>\n",
       "      <td>0</td>\n",
       "      <td>237.20</td>\n",
       "      <td>179.5</td>\n",
       "      <td>88.0</td>\n",
       "      <td>16.942857</td>\n",
       "      <td>11.966667</td>\n",
       "      <td>7.333333</td>\n",
       "    </tr>\n",
       "    <tr>\n",
       "      <th>3</th>\n",
       "      <td>00-0034681</td>\n",
       "      <td>Chase Edmonds</td>\n",
       "      <td>ARI</td>\n",
       "      <td>RB</td>\n",
       "      <td>69</td>\n",
       "      <td>210.0</td>\n",
       "      <td>1.0</td>\n",
       "      <td>2018.0</td>\n",
       "      <td>ARI</td>\n",
       "      <td>13.0</td>\n",
       "      <td>...</td>\n",
       "      <td>8.333333</td>\n",
       "      <td>0</td>\n",
       "      <td>0</td>\n",
       "      <td>0</td>\n",
       "      <td>88.80</td>\n",
       "      <td>141.5</td>\n",
       "      <td>121.5</td>\n",
       "      <td>6.830769</td>\n",
       "      <td>8.843750</td>\n",
       "      <td>10.125000</td>\n",
       "    </tr>\n",
       "    <tr>\n",
       "      <th>14</th>\n",
       "      <td>00-0030465</td>\n",
       "      <td>Kenjon Barner</td>\n",
       "      <td>ATL</td>\n",
       "      <td>RB</td>\n",
       "      <td>69</td>\n",
       "      <td>195.0</td>\n",
       "      <td>6.0</td>\n",
       "      <td>2013.0</td>\n",
       "      <td>ATL</td>\n",
       "      <td>14.0</td>\n",
       "      <td>...</td>\n",
       "      <td>NaN</td>\n",
       "      <td>0</td>\n",
       "      <td>0</td>\n",
       "      <td>0</td>\n",
       "      <td>12.12</td>\n",
       "      <td>NaN</td>\n",
       "      <td>NaN</td>\n",
       "      <td>0.865714</td>\n",
       "      <td>NaN</td>\n",
       "      <td>NaN</td>\n",
       "    </tr>\n",
       "    <tr>\n",
       "      <th>15</th>\n",
       "      <td>00-0031285</td>\n",
       "      <td>Devonta Freeman</td>\n",
       "      <td>ATL</td>\n",
       "      <td>RB</td>\n",
       "      <td>68</td>\n",
       "      <td>206.0</td>\n",
       "      <td>5.0</td>\n",
       "      <td>2014.0</td>\n",
       "      <td>ATL</td>\n",
       "      <td>14.0</td>\n",
       "      <td>...</td>\n",
       "      <td>7.062500</td>\n",
       "      <td>0</td>\n",
       "      <td>0</td>\n",
       "      <td>0</td>\n",
       "      <td>227.10</td>\n",
       "      <td>32.5</td>\n",
       "      <td>130.0</td>\n",
       "      <td>16.221429</td>\n",
       "      <td>6.500000</td>\n",
       "      <td>8.125000</td>\n",
       "    </tr>\n",
       "  </tbody>\n",
       "</table>\n",
       "<p>5 rows × 85 columns</p>\n",
       "</div>"
      ],
      "text/plain": [
       "     player_id      player_name team_19 position_19 height_19  weight_19  \\\n",
       "1   00-0032187    David Johnson     ARI          RB        73      224.0   \n",
       "2   00-0033118     Kenyan Drake     ARI          RB        73      211.0   \n",
       "3   00-0034681    Chase Edmonds     ARI          RB        69      210.0   \n",
       "14  00-0030465    Kenjon Barner     ATL          RB        69      195.0   \n",
       "15  00-0031285  Devonta Freeman     ATL          RB        68      206.0   \n",
       "\n",
       "    years_exp_19  rookie_year_19 Tm_19  G_19  ...  fp_per_gm21  rookie19  \\\n",
       "1            4.0          2015.0   ARI  13.0  ...     3.769231         0   \n",
       "2            3.0          2016.0   2TM  14.0  ...     6.083333         0   \n",
       "3            1.0          2018.0   ARI  13.0  ...     8.333333         0   \n",
       "14           6.0          2013.0   ATL  14.0  ...          NaN         0   \n",
       "15           5.0          2014.0   ATL  14.0  ...     7.062500         0   \n",
       "\n",
       "    rookie20  rookie21  FantasyPoints_19hppr  FantasyPoints_20hppr  \\\n",
       "1          0         0                159.50                 163.5   \n",
       "2          0         0                237.20                 179.5   \n",
       "3          0         0                 88.80                 141.5   \n",
       "14         0         0                 12.12                   NaN   \n",
       "15         0         0                227.10                  32.5   \n",
       "\n",
       "    FantasyPoints_21hppr  fp_per_gm19hppr  fp_per_gm20hppr  fp_per_gm21hppr  \n",
       "1                   65.0        12.269231        13.625000         5.000000  \n",
       "2                   88.0        16.942857        11.966667         7.333333  \n",
       "3                  121.5         6.830769         8.843750        10.125000  \n",
       "14                   NaN         0.865714              NaN              NaN  \n",
       "15                 130.0        16.221429         6.500000         8.125000  \n",
       "\n",
       "[5 rows x 85 columns]"
      ]
     },
     "execution_count": 271,
     "metadata": {},
     "output_type": "execute_result"
    }
   ],
   "source": [
    "ff_rb_pts.head()"
   ]
  },
  {
   "cell_type": "markdown",
   "id": "336e7978",
   "metadata": {},
   "source": [
    "## Data Exploration"
   ]
  },
  {
   "cell_type": "markdown",
   "id": "b5219186",
   "metadata": {},
   "source": [
    "### QB"
   ]
  },
  {
   "cell_type": "code",
   "execution_count": 272,
   "id": "817cd03f",
   "metadata": {},
   "outputs": [
    {
     "data": {
      "text/plain": [
       "Text(0, 0.5, 'RB Fantasy points per game current season (2021)')"
      ]
     },
     "execution_count": 272,
     "metadata": {},
     "output_type": "execute_result"
    },
    {
     "data": {
      "image/png": "[encoded data removed]",
      "text/plain": [
       "<Figure size 432x288 with 1 Axes>"
      ]
     },
     "metadata": {
      "needs_background": "light"
     },
     "output_type": "display_data"
    }
   ],
   "source": [
    "plt.scatter(ff_qb_pts['fp_per_gm20'], ff_qb_pts['fp_per_gm21'], s = ff_qb_pts['GS_20'])\n",
    "# plt.legend(handles =ff_qb_pts['GS_20'] , loc=2) ## Need to figure out how to add a good legend in\n",
    "plt.xlabel('RB Fantasy points per game previous season (2020)')\n",
    "plt.ylabel('RB Fantasy points per game current season (2021)')"
   ]
  },
  {
   "cell_type": "code",
   "execution_count": 273,
   "id": "83071e22",
   "metadata": {},
   "outputs": [
    {
     "data": {
      "text/plain": [
       "Text(0, 0.5, 'QB Fantasy points per game current season (2021)')"
      ]
     },
     "execution_count": 273,
     "metadata": {},
     "output_type": "execute_result"
    },
    {
     "data": {
      "image/png": "[encoded data removed]",
      "text/plain": [
       "<Figure size 432x288 with 1 Axes>"
      ]
     },
     "metadata": {
      "needs_background": "light"
     },
     "output_type": "display_data"
    }
   ],
   "source": [
    "plt.scatter(ff_qb_pts['fp_per_opp20'], ff_qb_pts['fp_per_gm21'], s= ff_qb_pts['GS_20'])\n",
    "plt.xlabel('QB Fantasy points per opportunity previous season (2020)')\n",
    "plt.ylabel('QB Fantasy points per game current season (2021)')"
   ]
  },
  {
   "cell_type": "code",
   "execution_count": 274,
   "id": "ef23c331",
   "metadata": {},
   "outputs": [
    {
     "data": {
      "text/plain": [
       "Text(0, 0.5, 'QB Fantasy points in previous season (2020)')"
      ]
     },
     "execution_count": 274,
     "metadata": {},
     "output_type": "execute_result"
    },
    {
     "data": {
      "image/png": "[encoded data removed]",
      "text/plain": [
       "<Figure size 432x288 with 1 Axes>"
      ]
     },
     "metadata": {
      "needs_background": "light"
     },
     "output_type": "display_data"
    }
   ],
   "source": [
    "plt.scatter(ff_qb_pts['ttl_opp20'], ff_qb_pts['FantasyPoints_20'], ff_qb_pts['GS_20'])\n",
    "plt.xlabel('QB total opportunity previous season (2020)')\n",
    "plt.ylabel('QB Fantasy points in previous season (2020)')"
   ]
  },
  {
   "cell_type": "code",
   "execution_count": 275,
   "id": "98f8eaf4",
   "metadata": {},
   "outputs": [
    {
     "data": {
      "text/plain": [
       "Text(0, 0.5, 'QB Fantasy points in previous season (2020)')"
      ]
     },
     "execution_count": 275,
     "metadata": {},
     "output_type": "execute_result"
    },
    {
     "data": {
      "image/png": "[encoded data removed]",
      "text/plain": [
       "<Figure size 432x288 with 1 Axes>"
      ]
     },
     "metadata": {
      "needs_background": "light"
     },
     "output_type": "display_data"
    }
   ],
   "source": [
    "plt.scatter(ff_qb_pts['years_exp_20'], ff_qb_pts['FantasyPoints_20'] )\n",
    "plt.xlabel('QB total opportunity previous season (2020)')\n",
    "plt.ylabel('QB Fantasy points in previous season (2020)')"
   ]
  },
  {
   "cell_type": "code",
   "execution_count": 276,
   "id": "3c300396",
   "metadata": {},
   "outputs": [
    {
     "data": {
      "text/plain": [
       "<AxesSubplot:>"
      ]
     },
     "execution_count": 276,
     "metadata": {},
     "output_type": "execute_result"
    },
    {
     "data": {
      "image/png": "[encoded data removed]",
      "text/plain": [
       "<Figure size 432x288 with 2 Axes>"
      ]
     },
     "metadata": {
      "needs_background": "light"
     },
     "output_type": "display_data"
    }
   ],
   "source": [
    "sns.heatmap(ff_qb_pts[['fp_per_gm19','fp_per_gm20', 'fp_per_opp19', 'fp_per_opp20', 'ttl_opp19', 'ttl_opp20',\n",
    "                       'rookie_year_20',\n",
    "                       'fp_per_gm21']].corr())"
   ]
  },
  {
   "cell_type": "markdown",
   "id": "4b215afb",
   "metadata": {},
   "source": [
    "### RB"
   ]
  },
  {
   "cell_type": "code",
   "execution_count": 277,
   "id": "580e7065",
   "metadata": {},
   "outputs": [
    {
     "data": {
      "text/plain": [
       "Text(0, 0.5, 'RB Fantasy points per game current season (2021)')"
      ]
     },
     "execution_count": 277,
     "metadata": {},
     "output_type": "execute_result"
    },
    {
     "data": {
      "image/png": "[encoded data removed]",
      "text/plain": [
       "<Figure size 432x288 with 1 Axes>"
      ]
     },
     "metadata": {
      "needs_background": "light"
     },
     "output_type": "display_data"
    }
   ],
   "source": [
    "plt.scatter(ff_rb_pts['fp_per_gm20'], ff_rb_pts['fp_per_gm21'], s = ff_rb_pts['GS_20'])\n",
    "# plt.legend(ff_rb_pts['GS_20']) ## Need to figure out how to add a good legend in\n",
    "plt.xlabel('RB Fantasy points per game previous season (2020)')\n",
    "plt.ylabel('RB Fantasy points per game current season (2021)')"
   ]
  },
  {
   "cell_type": "markdown",
   "id": "e49ce994",
   "metadata": {},
   "source": [
    "The players with possibly most value are the ones lower on the x axis, but higher on y axis"
   ]
  },
  {
   "cell_type": "code",
   "execution_count": 278,
   "id": "a7ad895d",
   "metadata": {},
   "outputs": [
    {
     "data": {
      "text/plain": [
       "Text(0, 0.5, 'RB Fantasy points per game current season (2021)')"
      ]
     },
     "execution_count": 278,
     "metadata": {},
     "output_type": "execute_result"
    },
    {
     "data": {
      "image/png": "[encoded data removed]",
      "text/plain": [
       "<Figure size 432x288 with 1 Axes>"
      ]
     },
     "metadata": {
      "needs_background": "light"
     },
     "output_type": "display_data"
    }
   ],
   "source": [
    "plt.scatter(ff_rb_pts['fp_per_opp20'], ff_rb_pts['fp_per_gm21'], ff_rb_pts['GS_20'])\n",
    "plt.xlabel('RB Fantasy points per opportunity previous season (2020)')\n",
    "plt.ylabel('RB Fantasy points per game current season (2021)')"
   ]
  },
  {
   "cell_type": "markdown",
   "id": "f1b4b86c",
   "metadata": {},
   "source": [
    "There appear to be some outliers in fantasy points per opportunity"
   ]
  },
  {
   "cell_type": "code",
   "execution_count": 279,
   "id": "c0fbef9f",
   "metadata": {
    "scrolled": true
   },
   "outputs": [
    {
     "data": {
      "text/plain": [
       "Text(0, 0.5, 'RB Fantasy points in previous season (2020)')"
      ]
     },
     "execution_count": 279,
     "metadata": {},
     "output_type": "execute_result"
    },
    {
     "data": {
      "image/png": "[encoded data removed]",
      "text/plain": [
       "<Figure size 432x288 with 1 Axes>"
      ]
     },
     "metadata": {
      "needs_background": "light"
     },
     "output_type": "display_data"
    }
   ],
   "source": [
    "plt.scatter(ff_rb_pts['ttl_opp20'], ff_rb_pts['FantasyPoints_20'])\n",
    "plt.xlabel('RB total opportunity previous season (2020)')\n",
    "plt.ylabel('RB Fantasy points in previous season (2020)')"
   ]
  },
  {
   "cell_type": "code",
   "execution_count": 280,
   "id": "9e727668",
   "metadata": {},
   "outputs": [
    {
     "data": {
      "text/plain": [
       "Text(0, 0.5, 'RB Fantasy points in season(2020)')"
      ]
     },
     "execution_count": 280,
     "metadata": {},
     "output_type": "execute_result"
    },
    {
     "data": {
      "image/png": "[encoded data removed]",
      "text/plain": [
       "<Figure size 432x288 with 1 Axes>"
      ]
     },
     "metadata": {
      "needs_background": "light"
     },
     "output_type": "display_data"
    }
   ],
   "source": [
    "plt.scatter(ff_rb_pts['years_exp_20'], ff_rb_pts['FantasyPoints_20hppr'] )\n",
    "plt.xlabel('RB years of experience (2020)')\n",
    "plt.ylabel('RB Fantasy points in season(2020)')"
   ]
  },
  {
   "cell_type": "code",
   "execution_count": 281,
   "id": "7bcf90ab",
   "metadata": {},
   "outputs": [
    {
     "name": "stderr",
     "output_type": "stream",
     "text": [
      "C:\\Users\\steph\\miniconda3\\lib\\site-packages\\seaborn\\_decorators.py:36: FutureWarning: Pass the following variables as keyword args: x, y. From version 0.12, the only valid positional argument will be `data`, and passing other arguments without an explicit keyword will result in an error or misinterpretation.\n",
      "  warnings.warn(\n"
     ]
    },
    {
     "data": {
      "text/plain": [
       "Text(0, 0.5, 'RB Standard Fantasy points in season(2020)')"
      ]
     },
     "execution_count": 281,
     "metadata": {},
     "output_type": "execute_result"
    },
    {
     "data": {
      "image/png": "[encoded data removed]",
      "text/plain": [
       "<Figure size 432x288 with 1 Axes>"
      ]
     },
     "metadata": {
      "needs_background": "light"
     },
     "output_type": "display_data"
    }
   ],
   "source": [
    "sns.barplot(ff_rb_pts['years_exp_20'], ff_rb_pts['FantasyPoints_20'] )\n",
    "plt.xlabel('RB years of experience (2020)')\n",
    "plt.ylabel('RB Standard Fantasy points in season(2020)')"
   ]
  },
  {
   "cell_type": "code",
   "execution_count": 282,
   "id": "b70ef24d",
   "metadata": {},
   "outputs": [
    {
     "name": "stderr",
     "output_type": "stream",
     "text": [
      "C:\\Users\\steph\\miniconda3\\lib\\site-packages\\seaborn\\_decorators.py:36: FutureWarning: Pass the following variables as keyword args: x, y. From version 0.12, the only valid positional argument will be `data`, and passing other arguments without an explicit keyword will result in an error or misinterpretation.\n",
      "  warnings.warn(\n"
     ]
    },
    {
     "data": {
      "text/plain": [
       "Text(0, 0.5, 'RB Half-ppr Fantasy points in season(2020)')"
      ]
     },
     "execution_count": 282,
     "metadata": {},
     "output_type": "execute_result"
    },
    {
     "data": {
      "image/png": "[encoded data removed]",
      "text/plain": [
       "<Figure size 432x288 with 1 Axes>"
      ]
     },
     "metadata": {
      "needs_background": "light"
     },
     "output_type": "display_data"
    }
   ],
   "source": [
    "sns.barplot(ff_rb_pts['years_exp_20'], ff_rb_pts['FantasyPoints_20hppr'] )\n",
    "plt.xlabel('RB years of experience (2020)')\n",
    "plt.ylabel('RB Half-ppr Fantasy points in season(2020)')"
   ]
  },
  {
   "cell_type": "code",
   "execution_count": 283,
   "id": "c66f0098",
   "metadata": {},
   "outputs": [
    {
     "name": "stderr",
     "output_type": "stream",
     "text": [
      "C:\\Users\\steph\\miniconda3\\lib\\site-packages\\seaborn\\_decorators.py:36: FutureWarning: Pass the following variables as keyword args: x, y. From version 0.12, the only valid positional argument will be `data`, and passing other arguments without an explicit keyword will result in an error or misinterpretation.\n",
      "  warnings.warn(\n"
     ]
    },
    {
     "data": {
      "text/plain": [
       "Text(0, 0.5, 'RB Fantasy points per game in season(2020)')"
      ]
     },
     "execution_count": 283,
     "metadata": {},
     "output_type": "execute_result"
    },
    {
     "data": {
      "image/png": "[encoded data removed]",
      "text/plain": [
       "<Figure size 432x288 with 1 Axes>"
      ]
     },
     "metadata": {
      "needs_background": "light"
     },
     "output_type": "display_data"
    }
   ],
   "source": [
    "sns.barplot(ff_rb_pts['years_exp_20'], ff_rb_pts['fp_per_gm20'] )\n",
    "plt.xlabel('If RB is rookie or not (0 - no, 1 - yes)')\n",
    "plt.ylabel('RB Fantasy points per game in season(2020)')"
   ]
  },
  {
   "cell_type": "code",
   "execution_count": 284,
   "id": "91efd089",
   "metadata": {},
   "outputs": [
    {
     "name": "stderr",
     "output_type": "stream",
     "text": [
      "C:\\Users\\steph\\miniconda3\\lib\\site-packages\\seaborn\\_decorators.py:36: FutureWarning: Pass the following variables as keyword args: x, y. From version 0.12, the only valid positional argument will be `data`, and passing other arguments without an explicit keyword will result in an error or misinterpretation.\n",
      "  warnings.warn(\n"
     ]
    },
    {
     "data": {
      "text/plain": [
       "Text(0, 0.5, 'RB Fantasy points per game in season(2020)')"
      ]
     },
     "execution_count": 284,
     "metadata": {},
     "output_type": "execute_result"
    },
    {
     "data": {
      "image/png": "[encoded data removed]",
      "text/plain": [
       "<Figure size 432x288 with 1 Axes>"
      ]
     },
     "metadata": {
      "needs_background": "light"
     },
     "output_type": "display_data"
    }
   ],
   "source": [
    "sns.barplot(ff_rb_pts['rookie20'], ff_rb_pts['fp_per_gm20hppr'] )\n",
    "plt.xlabel('If RB is rookie or not (0 - no, 1 - yes)')\n",
    "plt.ylabel('RB Fantasy points per game in season(2020)')"
   ]
  },
  {
   "cell_type": "code",
   "execution_count": 285,
   "id": "df7402ba",
   "metadata": {
    "scrolled": true
   },
   "outputs": [
    {
     "data": {
      "text/plain": [
       "<AxesSubplot:>"
      ]
     },
     "execution_count": 285,
     "metadata": {},
     "output_type": "execute_result"
    },
    {
     "data": {
      "image/png": "[encoded data removed]",
      "text/plain": [
       "<Figure size 432x288 with 2 Axes>"
      ]
     },
     "metadata": {
      "needs_background": "light"
     },
     "output_type": "display_data"
    }
   ],
   "source": [
    "sns.heatmap(ff_rb_pts[['fp_per_gm19','fp_per_gm20', 'fp_per_opp19', 'fp_per_opp20', 'ttl_opp19', 'ttl_opp20', \n",
    "                       'pct_gs19', 'pct_gs20', 'rookie19',\n",
    "                       'rookie20',\n",
    "                       'fp_per_gm21hppr']].corr())"
   ]
  },
  {
   "cell_type": "markdown",
   "id": "ec7d2561",
   "metadata": {},
   "source": [
    "### WR"
   ]
  },
  {
   "cell_type": "code",
   "execution_count": 286,
   "id": "ce7341cc",
   "metadata": {},
   "outputs": [
    {
     "data": {
      "text/plain": [
       "Text(0, 0.5, 'WR Fantasy points per game current season (2021)')"
      ]
     },
     "execution_count": 286,
     "metadata": {},
     "output_type": "execute_result"
    },
    {
     "data": {
      "image/png": "[encoded data removed]",
      "text/plain": [
       "<Figure size 432x288 with 1 Axes>"
      ]
     },
     "metadata": {
      "needs_background": "light"
     },
     "output_type": "display_data"
    }
   ],
   "source": [
    "plt.scatter(ff_wr_pts['fp_per_gm20'], ff_wr_pts['fp_per_gm21'], s = ff_wr_pts['GS_20'])\n",
    "plt.xlabel('WR Fantasy points per game previous season (2020)')\n",
    "plt.ylabel('WR Fantasy points per game current season (2021)')"
   ]
  },
  {
   "cell_type": "code",
   "execution_count": 287,
   "id": "8cfd9cdb",
   "metadata": {},
   "outputs": [
    {
     "data": {
      "text/plain": [
       "Text(0, 0.5, 'WR Fantasy points per game current season (2021)')"
      ]
     },
     "execution_count": 287,
     "metadata": {},
     "output_type": "execute_result"
    },
    {
     "data": {
      "image/png": "[encoded data removed]",
      "text/plain": [
       "<Figure size 432x288 with 1 Axes>"
      ]
     },
     "metadata": {
      "needs_background": "light"
     },
     "output_type": "display_data"
    }
   ],
   "source": [
    "plt.scatter(ff_wr_pts['fp_per_opp20'], ff_wr_pts['fp_per_gm21'])\n",
    "plt.xlabel('WR Fantasy points per opp previous season (2020)')\n",
    "plt.ylabel('WR Fantasy points per game current season (2021)')"
   ]
  },
  {
   "cell_type": "code",
   "execution_count": 288,
   "id": "3468bb78",
   "metadata": {},
   "outputs": [
    {
     "data": {
      "text/plain": [
       "<matplotlib.collections.PathCollection at 0x2af5bf84160>"
      ]
     },
     "execution_count": 288,
     "metadata": {},
     "output_type": "execute_result"
    },
    {
     "data": {
      "image/png": "[encoded data removed]",
      "text/plain": [
       "<Figure size 432x288 with 1 Axes>"
      ]
     },
     "metadata": {
      "needs_background": "light"
     },
     "output_type": "display_data"
    }
   ],
   "source": [
    "plt.scatter(ff_wr_pts['pct_gs20'], ff_wr_pts['fp_per_gm21'])"
   ]
  },
  {
   "cell_type": "code",
   "execution_count": 289,
   "id": "c85407e6",
   "metadata": {},
   "outputs": [
    {
     "data": {
      "text/plain": [
       "Text(0, 0.5, 'WR Fantasy points in previous season (2020)')"
      ]
     },
     "execution_count": 289,
     "metadata": {},
     "output_type": "execute_result"
    },
    {
     "data": {
      "image/png": "[encoded data removed]",
      "text/plain": [
       "<Figure size 432x288 with 1 Axes>"
      ]
     },
     "metadata": {
      "needs_background": "light"
     },
     "output_type": "display_data"
    }
   ],
   "source": [
    "plt.scatter(ff_wr_pts['ttl_opp20'], ff_wr_pts['FantasyPoints_20'])\n",
    "plt.xlabel('WR total opportunity previous season (2020)')\n",
    "plt.ylabel('WR Fantasy points in previous season (2020)')"
   ]
  },
  {
   "cell_type": "code",
   "execution_count": 290,
   "id": "8ea72df4",
   "metadata": {},
   "outputs": [
    {
     "name": "stderr",
     "output_type": "stream",
     "text": [
      "C:\\Users\\steph\\miniconda3\\lib\\site-packages\\seaborn\\_decorators.py:36: FutureWarning: Pass the following variables as keyword args: x, y. From version 0.12, the only valid positional argument will be `data`, and passing other arguments without an explicit keyword will result in an error or misinterpretation.\n",
      "  warnings.warn(\n"
     ]
    },
    {
     "data": {
      "text/plain": [
       "Text(0, 0.5, 'WR Fantasy points in season(2019)')"
      ]
     },
     "execution_count": 290,
     "metadata": {},
     "output_type": "execute_result"
    },
    {
     "data": {
      "image/png": "[encoded data removed]",
      "text/plain": [
       "<Figure size 432x288 with 1 Axes>"
      ]
     },
     "metadata": {
      "needs_background": "light"
     },
     "output_type": "display_data"
    }
   ],
   "source": [
    "sns.barplot(ff_wr_pts['years_exp_19'], ff_wr_pts['FantasyPoints_19'])\n",
    "plt.xlabel('WR years of experience (2019)')\n",
    "plt.ylabel('WR Fantasy points in season(2019)')"
   ]
  },
  {
   "cell_type": "code",
   "execution_count": 291,
   "id": "c28899a0",
   "metadata": {},
   "outputs": [
    {
     "name": "stderr",
     "output_type": "stream",
     "text": [
      "C:\\Users\\steph\\miniconda3\\lib\\site-packages\\seaborn\\_decorators.py:36: FutureWarning: Pass the following variables as keyword args: x, y. From version 0.12, the only valid positional argument will be `data`, and passing other arguments without an explicit keyword will result in an error or misinterpretation.\n",
      "  warnings.warn(\n"
     ]
    },
    {
     "data": {
      "text/plain": [
       "Text(0, 0.5, 'WR Fantasy points in season(2020)')"
      ]
     },
     "execution_count": 291,
     "metadata": {},
     "output_type": "execute_result"
    },
    {
     "data": {
      "image/png": "[encoded data removed]",
      "text/plain": [
       "<Figure size 432x288 with 1 Axes>"
      ]
     },
     "metadata": {
      "needs_background": "light"
     },
     "output_type": "display_data"
    }
   ],
   "source": [
    "sns.barplot(ff_wr_pts['years_exp_20'], ff_wr_pts['FantasyPoints_20'] )\n",
    "plt.xlabel('WR years of experience (2020)')\n",
    "plt.ylabel('WR Fantasy points in season(2020)')"
   ]
  },
  {
   "cell_type": "code",
   "execution_count": 292,
   "id": "ce6504d1",
   "metadata": {},
   "outputs": [
    {
     "name": "stderr",
     "output_type": "stream",
     "text": [
      "C:\\Users\\steph\\miniconda3\\lib\\site-packages\\seaborn\\_decorators.py:36: FutureWarning: Pass the following variables as keyword args: x, y. From version 0.12, the only valid positional argument will be `data`, and passing other arguments without an explicit keyword will result in an error or misinterpretation.\n",
      "  warnings.warn(\n"
     ]
    },
    {
     "data": {
      "text/plain": [
       "Text(0, 0.5, 'WR Fantasy points per game in season(2020)')"
      ]
     },
     "execution_count": 292,
     "metadata": {},
     "output_type": "execute_result"
    },
    {
     "data": {
      "image/png": "[encoded data removed]",
      "text/plain": [
       "<Figure size 432x288 with 1 Axes>"
      ]
     },
     "metadata": {
      "needs_background": "light"
     },
     "output_type": "display_data"
    }
   ],
   "source": [
    "sns.barplot(ff_wr_pts['years_exp_20'], ff_wr_pts['fp_per_gm20'] )\n",
    "plt.xlabel('WR years of experience (2020)')\n",
    "plt.ylabel('WR Fantasy points per game in season(2020)')"
   ]
  },
  {
   "cell_type": "code",
   "execution_count": 293,
   "id": "2887f885",
   "metadata": {},
   "outputs": [
    {
     "name": "stderr",
     "output_type": "stream",
     "text": [
      "C:\\Users\\steph\\miniconda3\\lib\\site-packages\\seaborn\\_decorators.py:36: FutureWarning: Pass the following variables as keyword args: x, y. From version 0.12, the only valid positional argument will be `data`, and passing other arguments without an explicit keyword will result in an error or misinterpretation.\n",
      "  warnings.warn(\n"
     ]
    },
    {
     "data": {
      "text/plain": [
       "Text(0, 0.5, 'WR Fantasy points in season(2020)')"
      ]
     },
     "execution_count": 293,
     "metadata": {},
     "output_type": "execute_result"
    },
    {
     "data": {
      "image/png": "[encoded data removed]",
      "text/plain": [
       "<Figure size 432x288 with 1 Axes>"
      ]
     },
     "metadata": {
      "needs_background": "light"
     },
     "output_type": "display_data"
    }
   ],
   "source": [
    "sns.barplot(ff_wr_pts['years_exp_21'], ff_wr_pts['fp_per_gm21'] )\n",
    "plt.xlabel('WR years of experience (2020)')\n",
    "plt.ylabel('WR Fantasy points in season(2020)')"
   ]
  },
  {
   "cell_type": "code",
   "execution_count": 294,
   "id": "6b7a6f59",
   "metadata": {},
   "outputs": [
    {
     "name": "stderr",
     "output_type": "stream",
     "text": [
      "C:\\Users\\steph\\miniconda3\\lib\\site-packages\\seaborn\\_decorators.py:36: FutureWarning: Pass the following variables as keyword args: x, y. From version 0.12, the only valid positional argument will be `data`, and passing other arguments without an explicit keyword will result in an error or misinterpretation.\n",
      "  warnings.warn(\n"
     ]
    },
    {
     "data": {
      "text/plain": [
       "Text(0, 0.5, 'WR Fantasy points per game in season(2020)')"
      ]
     },
     "execution_count": 294,
     "metadata": {},
     "output_type": "execute_result"
    },
    {
     "data": {
      "image/png": "[encoded data removed]",
      "text/plain": [
       "<Figure size 432x288 with 1 Axes>"
      ]
     },
     "metadata": {
      "needs_background": "light"
     },
     "output_type": "display_data"
    }
   ],
   "source": [
    "sns.barplot(ff_wr_pts['rookie20'], ff_wr_pts['fp_per_gm20'] )\n",
    "plt.xlabel('If WR is rookie or not (0 - no, 1 - yes)')\n",
    "plt.ylabel('WR Fantasy points per game in season(2020)')"
   ]
  },
  {
   "cell_type": "code",
   "execution_count": 295,
   "id": "9d53f8e9",
   "metadata": {},
   "outputs": [
    {
     "data": {
      "text/plain": [
       "<AxesSubplot:>"
      ]
     },
     "execution_count": 295,
     "metadata": {},
     "output_type": "execute_result"
    },
    {
     "data": {
      "image/png": "[encoded data removed]",
      "text/plain": [
       "<Figure size 432x288 with 2 Axes>"
      ]
     },
     "metadata": {
      "needs_background": "light"
     },
     "output_type": "display_data"
    }
   ],
   "source": [
    "sns.heatmap(ff_wr_pts[['fp_per_gm19','fp_per_gm20', 'fp_per_opp19', 'fp_per_opp20', 'ttl_opp19', 'ttl_opp20', 'rookie20',\n",
    "                       'rookie21',\n",
    "                       'fp_per_gm21']].corr())"
   ]
  },
  {
   "cell_type": "markdown",
   "id": "664671b0",
   "metadata": {},
   "source": [
    "### TE"
   ]
  },
  {
   "cell_type": "code",
   "execution_count": 296,
   "id": "bd767b8a",
   "metadata": {},
   "outputs": [
    {
     "data": {
      "text/plain": [
       "Text(0, 0.5, 'TE Fantasy points per game current season (2021)')"
      ]
     },
     "execution_count": 296,
     "metadata": {},
     "output_type": "execute_result"
    },
    {
     "data": {
      "image/png": "[encoded data removed]",
      "text/plain": [
       "<Figure size 432x288 with 1 Axes>"
      ]
     },
     "metadata": {
      "needs_background": "light"
     },
     "output_type": "display_data"
    }
   ],
   "source": [
    "plt.scatter(ff_te_pts['fp_per_gm20'], ff_te_pts['fp_per_gm21'])\n",
    "plt.xlabel('TE Fantasy points per game previous season (2020)')\n",
    "plt.ylabel('TE Fantasy points per game current season (2021)')"
   ]
  },
  {
   "cell_type": "code",
   "execution_count": 297,
   "id": "2390ae90",
   "metadata": {},
   "outputs": [
    {
     "data": {
      "text/plain": [
       "Text(0, 0.5, 'TE Fantasy points per game current season (2021)')"
      ]
     },
     "execution_count": 297,
     "metadata": {},
     "output_type": "execute_result"
    },
    {
     "data": {
      "image/png": "[encoded data removed]",
      "text/plain": [
       "<Figure size 432x288 with 1 Axes>"
      ]
     },
     "metadata": {
      "needs_background": "light"
     },
     "output_type": "display_data"
    }
   ],
   "source": [
    "plt.scatter(ff_te_pts['fp_per_opp20'], ff_te_pts['fp_per_gm21'])\n",
    "plt.xlabel('TE Fantasy points per opportunity previous season (2020)')\n",
    "plt.ylabel('TE Fantasy points per game current season (2021)')"
   ]
  },
  {
   "cell_type": "code",
   "execution_count": 298,
   "id": "75b85dc9",
   "metadata": {},
   "outputs": [
    {
     "data": {
      "text/plain": [
       "Text(0, 0.5, 'TE Fantasy points previous season (2020)')"
      ]
     },
     "execution_count": 298,
     "metadata": {},
     "output_type": "execute_result"
    },
    {
     "data": {
      "image/png": "[encoded data removed]",
      "text/plain": [
       "<Figure size 432x288 with 1 Axes>"
      ]
     },
     "metadata": {
      "needs_background": "light"
     },
     "output_type": "display_data"
    }
   ],
   "source": [
    "plt.scatter(ff_te_pts['ttl_opp20'], ff_te_pts['FantasyPoints_20'])\n",
    "plt.xlabel('TE opportunity previous season (2020)')\n",
    "plt.ylabel('TE Fantasy points previous season (2020)')"
   ]
  },
  {
   "cell_type": "code",
   "execution_count": 299,
   "id": "cbdcab79",
   "metadata": {},
   "outputs": [
    {
     "data": {
      "text/plain": [
       "Text(0, 0.5, 'TE Fantasy points previous season (2020)')"
      ]
     },
     "execution_count": 299,
     "metadata": {},
     "output_type": "execute_result"
    },
    {
     "data": {
      "image/png": "[encoded data removed]",
      "text/plain": [
       "<Figure size 432x288 with 1 Axes>"
      ]
     },
     "metadata": {
      "needs_background": "light"
     },
     "output_type": "display_data"
    }
   ],
   "source": [
    "plt.scatter(ff_te_pts['ttl_opp20'], ff_te_pts['FantasyPoints_21'])\n",
    "plt.xlabel('TE opportunity previous season (2020)')\n",
    "plt.ylabel('TE Fantasy points previous season (2020)')"
   ]
  },
  {
   "cell_type": "code",
   "execution_count": 300,
   "id": "a69c1cec",
   "metadata": {},
   "outputs": [
    {
     "name": "stderr",
     "output_type": "stream",
     "text": [
      "C:\\Users\\steph\\miniconda3\\lib\\site-packages\\seaborn\\_decorators.py:36: FutureWarning: Pass the following variables as keyword args: x, y. From version 0.12, the only valid positional argument will be `data`, and passing other arguments without an explicit keyword will result in an error or misinterpretation.\n",
      "  warnings.warn(\n"
     ]
    },
    {
     "data": {
      "text/plain": [
       "Text(0, 0.5, 'TE Fantasy points in season(2020)')"
      ]
     },
     "execution_count": 300,
     "metadata": {},
     "output_type": "execute_result"
    },
    {
     "data": {
      "image/png": "[encoded data removed]",
      "text/plain": [
       "<Figure size 432x288 with 1 Axes>"
      ]
     },
     "metadata": {
      "needs_background": "light"
     },
     "output_type": "display_data"
    }
   ],
   "source": [
    "sns.barplot(ff_te_pts['years_exp_20'], ff_te_pts['FantasyPoints_20'] )\n",
    "plt.xlabel('TE years of experience (2020)')\n",
    "plt.ylabel('TE Fantasy points in season(2020)')"
   ]
  },
  {
   "cell_type": "code",
   "execution_count": 301,
   "id": "e7332d3e",
   "metadata": {},
   "outputs": [
    {
     "name": "stderr",
     "output_type": "stream",
     "text": [
      "C:\\Users\\steph\\miniconda3\\lib\\site-packages\\seaborn\\_decorators.py:36: FutureWarning: Pass the following variables as keyword args: x, y. From version 0.12, the only valid positional argument will be `data`, and passing other arguments without an explicit keyword will result in an error or misinterpretation.\n",
      "  warnings.warn(\n"
     ]
    },
    {
     "data": {
      "text/plain": [
       "Text(0, 0.5, 'TE Fantasy points in season(2020)')"
      ]
     },
     "execution_count": 301,
     "metadata": {},
     "output_type": "execute_result"
    },
    {
     "data": {
      "image/png": "[encoded data removed]",
      "text/plain": [
       "<Figure size 432x288 with 1 Axes>"
      ]
     },
     "metadata": {
      "needs_background": "light"
     },
     "output_type": "display_data"
    }
   ],
   "source": [
    "sns.barplot(ff_te_pts['years_exp_20'], ff_te_pts['fp_per_gm20'] )\n",
    "plt.xlabel('TE years of experience (2020)')\n",
    "plt.ylabel('TE Fantasy points in season(2020)')"
   ]
  },
  {
   "cell_type": "code",
   "execution_count": 302,
   "id": "24f5d8e0",
   "metadata": {},
   "outputs": [
    {
     "name": "stderr",
     "output_type": "stream",
     "text": [
      "C:\\Users\\steph\\miniconda3\\lib\\site-packages\\seaborn\\_decorators.py:36: FutureWarning: Pass the following variables as keyword args: x, y. From version 0.12, the only valid positional argument will be `data`, and passing other arguments without an explicit keyword will result in an error or misinterpretation.\n",
      "  warnings.warn(\n"
     ]
    },
    {
     "data": {
      "text/plain": [
       "Text(0, 0.5, 'TE Fantasy points per game in season(2020)')"
      ]
     },
     "execution_count": 302,
     "metadata": {},
     "output_type": "execute_result"
    },
    {
     "data": {
      "image/png": "[encoded data removed]",
      "text/plain": [
       "<Figure size 432x288 with 1 Axes>"
      ]
     },
     "metadata": {
      "needs_background": "light"
     },
     "output_type": "display_data"
    }
   ],
   "source": [
    "sns.barplot(ff_te_pts['rookie20'], ff_te_pts['fp_per_gm20'] )\n",
    "plt.xlabel('If TE is rookie or not (0 - no, 1 - yes)')\n",
    "plt.ylabel('TE Fantasy points per game in season(2020)')"
   ]
  },
  {
   "cell_type": "code",
   "execution_count": 303,
   "id": "5864c2a9",
   "metadata": {},
   "outputs": [
    {
     "data": {
      "text/plain": [
       "<AxesSubplot:>"
      ]
     },
     "execution_count": 303,
     "metadata": {},
     "output_type": "execute_result"
    },
    {
     "data": {
      "image/png": "[encoded data removed]",
      "text/plain": [
       "<Figure size 432x288 with 2 Axes>"
      ]
     },
     "metadata": {
      "needs_background": "light"
     },
     "output_type": "display_data"
    }
   ],
   "source": [
    "sns.heatmap(ff_te_pts[['fp_per_gm19','fp_per_gm20', 'fp_per_opp19', 'fp_per_opp20', 'ttl_opp19', 'ttl_opp20', \n",
    "                       'fp_per_gm21']].corr())"
   ]
  },
  {
   "cell_type": "markdown",
   "id": "faeffc68",
   "metadata": {},
   "source": [
    "## Saving Current DFs to my CPU"
   ]
  },
  {
   "cell_type": "code",
   "execution_count": 304,
   "id": "b5ac2c29",
   "metadata": {},
   "outputs": [],
   "source": [
    "ff_qb_pts.to_csv(\"C:/Users/steph/OneDrive/Documents/Data Projects/Fantasy/qb_19_21_fantasy.csv\")\n",
    "ff_rb_pts.to_csv(\"C:/Users/steph/OneDrive/Documents/Data Projects/Fantasy/rb_19_21_fantasy.csv\")\n",
    "ff_wr_pts.to_csv(\"C:/Users/steph/OneDrive/Documents/Data Projects/Fantasy/wr_19_21_fantasy.csv\")\n",
    "ff_te_pts.to_csv(\"C:/Users/steph/OneDrive/Documents/Data Projects/Fantasy/te_19_21_fantasy.csv\")"
   ]
  },
  {
   "cell_type": "markdown",
   "id": "39887049",
   "metadata": {},
   "source": [
    "### Idea for next notebook/dataframe to combine with this\n",
    "Can we add more to these data frames, in terms of -- year in the league in '21, rookie contract or not, previous year team passing ranks, rushing ranks, qb play, OL play, etc?\n",
    "\n",
    "\n",
    "### Modeling:\n",
    "\n",
    "New notebook for that using above dataframes; may combine DFs within this notebook or new notebook"
   ]
  },
  {
   "cell_type": "markdown",
   "id": "a1044364",
   "metadata": {},
   "source": [
    "## Pre-Processing before modeling"
   ]
  },
  {
   "cell_type": "code",
   "execution_count": null,
   "id": "631ed0ad",
   "metadata": {},
   "outputs": [],
   "source": []
  },
  {
   "cell_type": "markdown",
   "id": "d7c045dc",
   "metadata": {},
   "source": [
    "## Initial Modeling"
   ]
  },
  {
   "cell_type": "code",
   "execution_count": null,
   "id": "e70bc9a1",
   "metadata": {},
   "outputs": [],
   "source": []
  },
  {
   "cell_type": "code",
   "execution_count": null,
   "id": "0a71bbbb",
   "metadata": {},
   "outputs": [],
   "source": []
  },
  {
   "cell_type": "code",
   "execution_count": null,
   "id": "d79f4656",
   "metadata": {},
   "outputs": [],
   "source": []
  },
  {
   "cell_type": "code",
   "execution_count": null,
   "id": "26a90ca8",
   "metadata": {},
   "outputs": [],
   "source": []
  },
  {
   "cell_type": "code",
   "execution_count": null,
   "id": "cbf6a5ee",
   "metadata": {},
   "outputs": [],
   "source": []
  },
  {
   "cell_type": "markdown",
   "id": "b3cbcbde",
   "metadata": {},
   "source": [
    "# need a dataset of predictor variables for final \n",
    "\n",
    "from bs4 import BeautifulSoup\n",
    "from urllib import request\n"
   ]
  },
  {
   "cell_type": "markdown",
   "id": "82772b70",
   "metadata": {},
   "source": [
    "# 2022 data or testing data\n",
    "\n",
    "r = request.get(\"https://www.pro-football-reference.com/years/2022/fantasy.htm\").read()\n",
    "soup = BeautifulSoup(website, 'lxml')\n",
    "\n",
    "table = soup.find('table', attrs={'id': 'fantasy','class': 'per_match_toggle'})\n",
    "\n",
    "table_headers = [header.text for header in table.find('thead').find_all('th')]\n",
    "table_rows = table.find_all('tr')\n",
    "\n",
    "player_data = [[td.getText() for tr in table_rows[i].findAll(['td','th'])] for i in table_rows]\n",
    "\n",
    "print(table_headers)\n",
    "df = pd.DataFrame(player_data,table_headers)\n",
    "\n",
    "df.head()"
   ]
  },
  {
   "cell_type": "code",
   "execution_count": null,
   "id": "3037dafa",
   "metadata": {},
   "outputs": [],
   "source": []
  }
 ],
 "metadata": {
  "kernelspec": {
   "display_name": "Python 3 (ipykernel)",
   "language": "python",
   "name": "python3"
  },
  "language_info": {
   "codemirror_mode": {
    "name": "ipython",
    "version": 3
   },
   "file_extension": ".py",
   "mimetype": "text/x-python",
   "name": "python",
   "nbconvert_exporter": "python",
   "pygments_lexer": "ipython3",
   "version": "3.9.1"
  }
 },
 "nbformat": 4,
 "nbformat_minor": 5
}
